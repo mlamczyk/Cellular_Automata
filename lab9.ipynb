{
 "cells": [
  {
   "cell_type": "markdown",
   "id": "ddc0c42e-55d6-424d-8dfa-538fa9be9147",
   "metadata": {},
   "source": [
    "# Identyfikacja Automatów Komórkowych"
   ]
  },
  {
   "cell_type": "markdown",
   "id": "064f4435-beae-491e-9eef-780f9635e3d5",
   "metadata": {},
   "source": [
    "Wykład: https://github.com/houp/ca-class/blob/main/slides/lecture9.pdf"
   ]
  },
  {
   "cell_type": "markdown",
   "id": "2976bb84-0588-4816-b387-3cf8c1fa3196",
   "metadata": {},
   "source": [
    "### Importy"
   ]
  },
  {
   "cell_type": "code",
   "execution_count": 1,
   "id": "4e3e50d9-c753-471b-ac1e-f11ee900bd80",
   "metadata": {},
   "outputs": [],
   "source": [
    "import math\n",
    "import random\n",
    "import numpy as np\n",
    "import pandas as pd\n",
    "import matplotlib.pyplot as plt"
   ]
  },
  {
   "cell_type": "markdown",
   "id": "87b02bdd-d87d-4fe8-957c-d14a54e1d344",
   "metadata": {},
   "source": [
    "## zad.16\n",
    "Zaimplementuj algorytm identyfikacji SCA na podstawie obserwacji. Zaproponuj i zaimplementuj prosty eksperyment, który oceni dokładność identyfikacji.\\\n",
    "W ramach rozwiązania przedstaw wyniki eksperymentu i płynące z nich \n",
    "wnioski.\n",
    "\n",
    "Założenia:\n",
    "- Obserwacja nie zawiera tzw. \"dziur\".\n",
    "- Promień sąsiedztwa z założenia = 1.\n",
    "\n",
    "Należy zdefiniować miarę dokładności identyfikacji - możesz zastosować jedną z podanych na wykładzie lub zaproponować swoją. Miara ma odpowiadać na \n",
    "pytanie jak \"blisko\" jest zidentyfikowany pLUT od tego, który użyto do wygenerowania obserwacji.\\\n",
    "Eksperyment musi wskazać przynajmniej jeden z czynników wpływających na dokładność identyfikacji. Może to być na przykład: liczba komórek w warunku \n",
    "początkowym, liczba kroków czasowych w obserwacji, ogólnie rozmiar obserwacji, liczba elementów w pLUT, które należą do (0,1), średnia odległość\n",
    "elementów pLUT od $\\frac{1}{2}$, liczba zaobserwowanych wystąpień poszczególnych konfiguracji sąsiedztw…"
   ]
  },
  {
   "cell_type": "code",
   "execution_count": 2,
   "id": "b0f9835d-c141-4432-bb83-e2210189a412",
   "metadata": {},
   "outputs": [],
   "source": [
    "def eca_get_lut(rule_num: int) -> np.ndarray:\n",
    "    return np.array([int(x) for x in bin(rule_num)[2:].zfill(8)], dtype=np.uint8)\n"
   ]
  },
  {
   "cell_type": "markdown",
   "id": "28115d06-bd76-4469-ac6e-12c12ce0a41c",
   "metadata": {},
   "source": [
    "### Funkcje z zadania 12 (patrz lab6.ipynb)"
   ]
  },
  {
   "cell_type": "code",
   "execution_count": 3,
   "id": "20667e3b-fdf8-4756-bd10-c0074053b99a",
   "metadata": {},
   "outputs": [],
   "source": [
    "def sca_evolve(plut: np.ndarray, x: np.ndarray) -> np.ndarray:\n",
    "    probs = plut[7 - (np.roll(x, 1) * 4 + x * 2 + np.roll(x, -1))]\n",
    "    rnd = np.random.random(size=probs.shape)\n",
    "    return (rnd<probs).astype(np.int8)\n",
    "\n",
    "def sca_evolve_spacetime(plut: np.ndarray, initial_conf: np.ndarray, steps: int) -> np.ndarray:\n",
    "    rows = [initial_conf]\n",
    "    for _ in range(1, steps):\n",
    "        rows.append(sca_evolve(plut, rows[-1]))\n",
    "    return np.stack(rows)\n",
    "\n",
    "def sca_space_time(plut: np.ndarray, initial_conf: np.ndarray, steps: int):\n",
    "    spacetime = sca_evolve_spacetime(plut, initial_conf, steps)\n",
    "    plt.figure(figsize=(5, 5))\n",
    "    plt.imshow(spacetime, cmap='binary', interpolation='nearest')\n",
    "    plt.xticks([])\n",
    "    plt.yticks([])\n",
    "    plt.show()\n"
   ]
  },
  {
   "cell_type": "code",
   "execution_count": 4,
   "id": "f82b1463-ab85-454f-a90a-97331e376680",
   "metadata": {},
   "outputs": [
    {
     "data": {
      "image/png": "[encoded data removed]",
      "text/plain": [
       "<Figure size 500x500 with 1 Axes>"
      ]
     },
     "metadata": {},
     "output_type": "display_data"
    }
   ],
   "source": [
    "plut = np.array([1, 0.9, 0.75, 0.4, 0.5, 1, 0, 0.2])\n",
    "sca_space_time(plut, np.array([0,0,0,0,0,0,0,0,0,0,0,0,1,0,0,0,0,0,0,0,0,0,0,0,0]), 50)"
   ]
  },
  {
   "cell_type": "code",
   "execution_count": 5,
   "id": "fddbee68-a3b4-4ee1-b0f7-80a11b352e0b",
   "metadata": {},
   "outputs": [],
   "source": [
    "def plut_from_mixture(probabilities, luts):\n",
    "    probabilities = np.array(probabilities)\n",
    "    luts = np.array(luts)\n",
    "    plut = np.zeros(8)\n",
    "    for prob, lut in zip(probabilities, luts):\n",
    "        plut += prob * lut\n",
    "    return plut\n",
    "\n",
    "def mixture_from_plut(plut):\n",
    "    probabilities = []\n",
    "    luts = []\n",
    "    pi = np.array([1-plut, plut])\n",
    "    while np.any(pi > 1e-15):\n",
    "        L = np.zeros_like(pi)\n",
    "        max_indices = np.argmax(pi, axis=0)\n",
    "        L[max_indices, np.arange(pi.shape[1])] = 1\n",
    "        a = np.min(pi[max_indices, np.arange(pi.shape[1])])\n",
    "        pi = pi - a*L\n",
    "        probabilities.append(round(a, 2))\n",
    "        luts.append(np.array(L[1]))\n",
    "    return probabilities, luts\n"
   ]
  },
  {
   "cell_type": "code",
   "execution_count": 6,
   "id": "2f7dfb49-5138-4ea6-afff-965bb2fa1368",
   "metadata": {},
   "outputs": [
    {
     "name": "stdout",
     "output_type": "stream",
     "text": [
      "[0.7 0.  0.7 0.  0.7 0.  1.  0.3]\n"
     ]
    },
    {
     "data": {
      "text/plain": [
       "([0.5, 0.25, 0.15, 0.05, 0.05],\n",
       " [array([1., 1., 1., 0., 0., 1., 0., 0.]),\n",
       "  array([1., 1., 0., 1., 1., 1., 0., 0.]),\n",
       "  array([1., 1., 1., 1., 1., 1., 0., 1.]),\n",
       "  array([1., 0., 1., 0., 1., 1., 0., 0.]),\n",
       "  array([1., 0., 1., 0., 1., 1., 0., 1.])])"
      ]
     },
     "execution_count": 6,
     "metadata": {},
     "output_type": "execute_result"
    }
   ],
   "source": [
    "luts = [eca_get_lut(170), eca_get_lut(3)]\n",
    "probabilities = [0.7, 0.3]\n",
    "print(plut_from_mixture(luts, probabilities))\n",
    "\n",
    "plut = np.array([1, 0.9, 0.75, 0.4, 0.5, 1, 0, 0.2])\n",
    "mixture_from_plut(plut)"
   ]
  },
  {
   "cell_type": "markdown",
   "id": "4bdc3c3b-5492-469b-9266-c57b84fdd466",
   "metadata": {},
   "source": [
    "### Identyfikacja SCA"
   ]
  },
  {
   "cell_type": "code",
   "execution_count": null,
   "id": "96d9950e-a8f1-4508-8c1f-d5d71476c571",
   "metadata": {},
   "outputs": [],
   "source": [
    "# def ca_identify(spacetime: np.ndarray, r: int) -> np.ndarray:\n",
    "#     lut = np.full(2**(2*r + 1), -1, dtype=np.int8)\n",
    "#     for t in range(spacetime.shape[0] - 1):\n",
    "#         for x in range(spacetime.shape[1]):\n",
    "#             neighborhood = np.array([np.roll(spacetime[t], i)[x] for i in range(r, -r-1, -1)])\n",
    "#             if -1 not in neighborhood and spacetime[t+1, x] != -1:\n",
    "#                 lut[2**(2*r + 1)-1 - int(''.join(map(str, neighborhood)), 2)] = spacetime[t+1, x]\n",
    "#     if -1 in lut:\n",
    "#         return 'Lut not found'\n",
    "#     return lut\n",
    "\n",
    "def sca_identify(spacetime: np.ndarray, r: int) -> np.ndarray:\n",
    "    length = np.zeros(2**(2*r + 1))\n",
    "    counter = [np.zeros(length), np.zeros(length)]\n",
    "    plut = np.zeros(length)\n",
    "    # ...\n",
    "    # nie ma w komórkach wartości -1\n",
    "    # skaner podobnie jak w ca_identify()\n",
    "    # tylko teraz zliczamy wystąpienia zer i jedynek\n",
    "    # jeśli jakieś sąsiedztwo nie wystąpiło, to domyślnie jest 0\n",
    "    for t in range(spacetime.shape[0] - 1):\n",
    "        for x in range(spacetime.shape[1]):\n",
    "            neighborhood = np.array([np.roll(spacetime[t], i)[x] for i in range(r, -r-1, -1)])\n",
    "            if spacetime[t+1, x] == 0:\n",
    "                counter[0, 2**(2*r + 1)-1 - int(''.join(map(str, neighborhood)), 2)] += 1\n",
    "            if spacetime[t+1, x] == 1:\n",
    "                counter[1, length-1 - int(''.join(map(str, neighborhood)), 2)] += 1\n",
    "    # po zliczeniu obliczamy prawdopodobieństwo dostania jedynki\n",
    "    c = np.sum(counter, axis=0)\n",
    "    p = [(counter[1, i]/c[i])for i in range(length)]\n",
    "    # na tej podstawie ustalamy diploid [f1, f2]\n",
    "    diploid = [np.zeros(length), np.zeros(length)]\n",
    "    # jeśli p=0: f1=f2=0 (0)\n",
    "    # jeśli p=1: f1=f2=1 (1)\n",
    "    # jeśli p<0.5: f1=0, f2=1 (1-alfa)\n",
    "    # jeśli p>0.5: f1=1, f2=0 (alfa)\n",
    "    for prob in p:\n",
    "        if prob == 1:\n",
    "            diploid[0] += 1\n",
    "            diploid[1] += 1\n",
    "        if prob < 0.5:\n",
    "            diploid[1] += 1\n",
    "        if prob >= 0.5: # na razie tak rozstrzygamy przypadek p=0.5\n",
    "            diploid[0] += 1\n",
    "    # alpha = (czerwone + zielone) / (białe + czarne) tylko dla przypadków prob != 0 i prob != 1\n",
    "    # plut = wstawiamy alpha, 1-alpha, 1 i 0\n",
    "    return plut\n"
   ]
  },
  {
   "cell_type": "code",
   "execution_count": null,
   "id": "36793430-34c1-45a8-a057-4167cc2df28f",
   "metadata": {},
   "outputs": [],
   "source": []
  }
 ],
 "metadata": {
  "kernelspec": {
   "display_name": "Python 3 (ipykernel)",
   "language": "python",
   "name": "python3"
  },
  "language_info": {
   "codemirror_mode": {
    "name": "ipython",
    "version": 3
   },
   "file_extension": ".py",
   "mimetype": "text/x-python",
   "name": "python",
   "nbconvert_exporter": "python",
   "pygments_lexer": "ipython3",
   "version": "3.10.0"
  }
 },
 "nbformat": 4,
 "nbformat_minor": 5
}
