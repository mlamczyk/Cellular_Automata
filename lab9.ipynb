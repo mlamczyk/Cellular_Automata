{
 "cells": [
  {
   "cell_type": "markdown",
   "id": "ddc0c42e-55d6-424d-8dfa-538fa9be9147",
   "metadata": {},
   "source": [
    "# Identyfikacja Automatów Komórkowych"
   ]
  },
  {
   "cell_type": "markdown",
   "id": "064f4435-beae-491e-9eef-780f9635e3d5",
   "metadata": {},
   "source": [
    "Wykład: https://github.com/houp/ca-class/blob/main/slides/lecture9.pdf"
   ]
  },
  {
   "cell_type": "markdown",
   "id": "2976bb84-0588-4816-b387-3cf8c1fa3196",
   "metadata": {},
   "source": [
    "### Importy"
   ]
  },
  {
   "cell_type": "code",
   "execution_count": 1,
   "id": "4e3e50d9-c753-471b-ac1e-f11ee900bd80",
   "metadata": {},
   "outputs": [],
   "source": [
    "import math\n",
    "import random\n",
    "import numpy as np\n",
    "import pandas as pd\n",
    "import matplotlib.pyplot as plt"
   ]
  },
  {
   "cell_type": "markdown",
   "id": "87b02bdd-d87d-4fe8-957c-d14a54e1d344",
   "metadata": {},
   "source": [
    "## zad.16\n",
    "Zaimplementuj algorytm identyfikacji SCA na podstawie obserwacji. Zaproponuj i zaimplementuj prosty eksperyment, który oceni dokładność identyfikacji.\\\n",
    "W ramach rozwiązania przedstaw wyniki eksperymentu i płynące z nich \n",
    "wnioski.\n",
    "\n",
    "Założenia:\n",
    "- Obserwacja nie zawiera tzw. \"dziur\".\n",
    "- Promień sąsiedztwa z założenia = 1.\n",
    "\n",
    "Należy zdefiniować miarę dokładności identyfikacji - możesz zastosować jedną z podanych na wykładzie lub zaproponować swoją. Miara ma odpowiadać na \n",
    "pytanie jak \"blisko\" jest zidentyfikowany pLUT od tego, który użyto do wygenerowania obserwacji.\\\n",
    "Eksperyment musi wskazać przynajmniej jeden z czynników wpływających na dokładność identyfikacji. Może to być na przykład: liczba komórek w warunku \n",
    "początkowym, liczba kroków czasowych w obserwacji, ogólnie rozmiar obserwacji, liczba elementów w pLUT, które należą do (0,1), średnia odległość\n",
    "elementów pLUT od $\\frac{1}{2}$, liczba zaobserwowanych wystąpień poszczególnych konfiguracji sąsiedztw…"
   ]
  },
  {
   "cell_type": "code",
   "execution_count": null,
   "id": "20667e3b-fdf8-4756-bd10-c0074053b99a",
   "metadata": {},
   "outputs": [],
   "source": []
  }
 ],
 "metadata": {
  "kernelspec": {
   "display_name": "Python 3 (ipykernel)",
   "language": "python",
   "name": "python3"
  },
  "language_info": {
   "codemirror_mode": {
    "name": "ipython",
    "version": 3
   },
   "file_extension": ".py",
   "mimetype": "text/x-python",
   "name": "python",
   "nbconvert_exporter": "python",
   "pygments_lexer": "ipython3",
   "version": "3.11.4"
  }
 },
 "nbformat": 4,
 "nbformat_minor": 5
}
