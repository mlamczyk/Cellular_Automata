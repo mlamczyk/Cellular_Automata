{
 "cells": [
  {
   "cell_type": "markdown",
   "id": "f2ce75e6-9f26-4c09-ab7d-7c0cadd938db",
   "metadata": {},
   "source": [
    "# Afiniczne Ciągłe Automaty Komórkowe (ACCAs)"
   ]
  },
  {
   "cell_type": "markdown",
   "id": "a846e33d-1404-4465-a977-8d65a5d5959e",
   "metadata": {},
   "source": [
    "Wykład: https://github.com/houp/ca-class/blob/main/slides/lecture7.pdf"
   ]
  },
  {
   "cell_type": "markdown",
   "id": "6b8ea103-e699-4c84-b29b-9ae4ee08b409",
   "metadata": {},
   "source": [
    "## Importy"
   ]
  },
  {
   "cell_type": "code",
   "execution_count": 1,
   "id": "13cdf285-4ddb-46ac-bcb2-6b490866a014",
   "metadata": {},
   "outputs": [],
   "source": [
    "import math\n",
    "import random\n",
    "import sympy as sp\n",
    "import numpy as np\n",
    "import pandas as pd\n",
    "import matplotlib.pyplot as plt\n",
    "from sympy import symbols, Poly\n",
    "from joblib import Parallel, delayed"
   ]
  },
  {
   "cell_type": "markdown",
   "id": "0f7b860c-7b01-4c57-ab5d-745196b2003e",
   "metadata": {},
   "source": [
    "## zad.13\n",
    "Napisz program, który dla zadanego LUT (binarnego) oraz cLUT (real-valued) wygeneruje wielomian odpowiadający CA / ACCA.\n",
    "\n",
    "Wersja dla normalnych ludzi: zakładamy, że promień sąsiedztwa = 1.\n",
    "\n",
    "Wersja z (*): piszemy ogólny program dla dowolnego promienia sąsiedztwa.\n",
    "\n",
    "Tak czy inaczej do napisania jest funkcja:\\\n",
    "**get_ca_polynomial(lut)** -> polynomial\n",
    "\n",
    "Użyj SymPy lub podobnej biliboteki do operacji na wielomianach."
   ]
  },
  {
   "cell_type": "code",
   "execution_count": 2,
   "id": "98830cf9-778d-4f48-8e7a-6af3b0fb609f",
   "metadata": {},
   "outputs": [
    {
     "data": {
      "text/latex": [
       "$\\displaystyle x y z + x y \\left(1 - z\\right) + x z \\left(1 - y\\right) + y z \\left(1 - x\\right)$"
      ],
      "text/plain": [
       "x*y*z + x*y*(1 - z) + x*z*(1 - y) + y*z*(1 - x)"
      ]
     },
     "execution_count": 2,
     "metadata": {},
     "output_type": "execute_result"
    }
   ],
   "source": [
    "# tak powinno wyglądać dla reguły 232\n",
    "x, y, z = symbols('x y z')\n",
    "polynomial = 1*x*y*z + 1*x*y*(1-z) + 1*x*(1-y)*z + 0*x*(1-y)*(1-z) + 1*(1-x)*y*z + 0*(1-x)*y*(1-z) + 0*(1-x)*y*(1-z) + 0*(1-x)*(1-y)*(1-z)\n",
    "polynomial"
   ]
  },
  {
   "cell_type": "code",
   "execution_count": 3,
   "id": "17c8d896-b7ea-4dae-b46b-ee634beddad7",
   "metadata": {},
   "outputs": [],
   "source": [
    "def get_ca_polynomial(lut: np.ndarray) -> Poly:\n",
    "    x, y, z = symbols('x y z')\n",
    "    polynomial = (lut[0]*x*y*z + lut[1]*x*y*(1-z) + lut[2]*x*(1-y)*z + lut[3]*x*(1-y)*(1-z) +\n",
    "                  lut[4]*(1-x)*y*z + lut[5]*(1-x)*y*(1-z) + lut[6]*(1-x)*(1-y)*z + lut[7]*(1-x)*(1-y)*(1-z))\n",
    "    return polynomial\n"
   ]
  },
  {
   "cell_type": "code",
   "execution_count": 4,
   "id": "7e7b0740-b66f-48cd-99bb-27dcfe0ac973",
   "metadata": {},
   "outputs": [],
   "source": [
    "def eca_get_lut(rule_num: int) -> np.ndarray:\n",
    "    return np.array([int(x) for x in bin(rule_num)[2:].zfill(8)], dtype=np.uint8)\n"
   ]
  },
  {
   "cell_type": "code",
   "execution_count": 5,
   "id": "38c7ad83-e708-4b7e-94e9-1439c7cb4097",
   "metadata": {},
   "outputs": [
    {
     "data": {
      "text/latex": [
       "$\\displaystyle x y z + x y \\left(1 - z\\right) + x z \\left(1 - y\\right) + y z \\left(1 - x\\right)$"
      ],
      "text/plain": [
       "x*y*z + x*y*(1 - z) + x*z*(1 - y) + y*z*(1 - x)"
      ]
     },
     "execution_count": 5,
     "metadata": {},
     "output_type": "execute_result"
    }
   ],
   "source": [
    "lut = eca_get_lut(232)\n",
    "get_ca_polynomial(lut)"
   ]
  },
  {
   "cell_type": "markdown",
   "id": "b9ed0fcb-b8a8-4590-9ada-1c8df6eaafdb",
   "metadata": {},
   "source": [
    "## zad.14\n",
    "Korzystając z rozwiązania Zadania 13 oraz z wcześniejszych programów, napisz funkcję, która dla zadanego cLUT i zadanej konfiguracji początkowej generuje space-time diagram ACCA.\n",
    "\n",
    "**acca_space_time(clut, initial_conf, step)** -> space time diagram w matplotlib\n",
    "\n",
    "Wskazówka: należy wziąć wielomian i go użyć do obliczenia następnych stanów automatów komórkowych."
   ]
  },
  {
   "cell_type": "code",
   "execution_count": 6,
   "id": "d77eb1fa-c94f-455b-9fdb-b0799f1eda86",
   "metadata": {},
   "outputs": [],
   "source": [
    "# [1,1,1  1,1,0  1,0,1  1,0,0  0,1,1  0,1,0  0,0,1  0,0,0]\n",
    "clut = np.array([1, 0.1, 1, 0.9, 1, 0, 0, 0])"
   ]
  },
  {
   "cell_type": "code",
   "execution_count": 7,
   "id": "8048f34a-a752-4beb-a91d-4e9e224b0c88",
   "metadata": {},
   "outputs": [],
   "source": [
    "def acca_evolve(clut: np.ndarray, x: np.ndarray) -> np.ndarray:\n",
    "    polynomial = get_ca_polynomial(clut)\n",
    "    x_sym, y_sym, z_sym = symbols('x y z')\n",
    "    return np.array([float(polynomial.subs({x_sym: xi, y_sym: yi, z_sym: zi})) for xi, yi, zi in zip(np.roll(x, 1), x, np.roll(x, -1))])\n",
    "\n",
    "def acca_evolve_spacetime(clut: np.ndarray, initial_conf: np.ndarray, steps: int) -> np.ndarray:\n",
    "    rows = [initial_conf]\n",
    "    for _ in range(1, steps):\n",
    "        rows.append(acca_evolve(clut, rows[-1]))\n",
    "    return np.stack(rows)\n",
    "\n",
    "def acca_space_time(clut: np.ndarray, initial_conf: np.ndarray, steps: int):\n",
    "    spacetime = acca_evolve_spacetime(clut, initial_conf, steps)\n",
    "    plt.figure(figsize=(5, 5))\n",
    "    plt.imshow(spacetime, cmap='binary', interpolation='nearest')\n",
    "    plt.xticks([])\n",
    "    plt.yticks([])\n",
    "    plt.show()\n"
   ]
  },
  {
   "cell_type": "code",
   "execution_count": 10,
   "id": "397fa0b6-eb7b-42d2-9290-10794c705461",
   "metadata": {},
   "outputs": [
    {
     "data": {
      "text/plain": [
       "array([1, 0, 0, 1, 0, 0, 0, 1, 1, 1, 1, 0, 1, 1, 1, 0, 0, 1, 1, 1, 1, 1,\n",
       "       0, 1, 0, 0, 1, 0, 0, 1, 0, 0, 1, 0, 0, 1, 0, 1, 1, 0, 1, 1, 0, 1,\n",
       "       0, 0, 1, 1, 0])"
      ]
     },
     "execution_count": 10,
     "metadata": {},
     "output_type": "execute_result"
    }
   ],
   "source": [
    "initial_conf = np.random.randint(0,2,49)\n",
    "initial_conf"
   ]
  },
  {
   "cell_type": "code",
   "execution_count": 11,
   "id": "55583292-f9bb-4b14-853b-638b5a9dd3be",
   "metadata": {},
   "outputs": [
    {
     "name": "stdout",
     "output_type": "stream",
     "text": [
      "Initial density: 0.5306122448979592\n"
     ]
    }
   ],
   "source": [
    "initial_density = sum(initial_conf)/len(initial_conf)\n",
    "print(f'Initial density: {initial_density}')"
   ]
  },
  {
   "cell_type": "code",
   "execution_count": 15,
   "id": "41097a19-8774-43bf-9edb-93305977f58b",
   "metadata": {},
   "outputs": [
    {
     "data": {
      "image/png": "[encoded data removed]",
      "text/plain": [
       "<Figure size 500x500 with 1 Axes>"
      ]
     },
     "metadata": {},
     "output_type": "display_data"
    }
   ],
   "source": [
    "acca_space_time(clut, initial_conf, 150)"
   ]
  },
  {
   "cell_type": "code",
   "execution_count": null,
   "id": "936e7175-5b24-449d-b4d6-f3ae19ea667e",
   "metadata": {},
   "outputs": [],
   "source": []
  }
 ],
 "metadata": {
  "kernelspec": {
   "display_name": "Python 3 (ipykernel)",
   "language": "python",
   "name": "python3"
  },
  "language_info": {
   "codemirror_mode": {
    "name": "ipython",
    "version": 3
   },
   "file_extension": ".py",
   "mimetype": "text/x-python",
   "name": "python",
   "nbconvert_exporter": "python",
   "pygments_lexer": "ipython3",
   "version": "3.10.0"
  }
 },
 "nbformat": 4,
 "nbformat_minor": 5
}
