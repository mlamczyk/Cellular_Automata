{
 "cells": [
  {
   "cell_type": "markdown",
   "id": "f2ce75e6-9f26-4c09-ab7d-7c0cadd938db",
   "metadata": {},
   "source": [
    "# Afiniczne Ciągłe Automaty Komórkowe (ACCAs)"
   ]
  },
  {
   "cell_type": "markdown",
   "id": "a846e33d-1404-4465-a977-8d65a5d5959e",
   "metadata": {},
   "source": [
    "Wykład: https://github.com/houp/ca-class/blob/main/slides/lecture7.pdf"
   ]
  },
  {
   "cell_type": "markdown",
   "id": "6b8ea103-e699-4c84-b29b-9ae4ee08b409",
   "metadata": {},
   "source": [
    "## Importy"
   ]
  },
  {
   "cell_type": "code",
   "execution_count": 1,
   "id": "13cdf285-4ddb-46ac-bcb2-6b490866a014",
   "metadata": {},
   "outputs": [],
   "source": [
    "import math\n",
    "import random\n",
    "import sympy as sp\n",
    "import numpy as np\n",
    "import pandas as pd\n",
    "import matplotlib.pyplot as plt\n",
    "from sympy import symbols, Poly\n",
    "from joblib import Parallel, delayed"
   ]
  },
  {
   "cell_type": "markdown",
   "id": "0f7b860c-7b01-4c57-ab5d-745196b2003e",
   "metadata": {},
   "source": [
    "## zad.13\n",
    "Napisz program, który dla zadanego LUT (binarnego) oraz cLUT (real-valued) wygeneruje wielomian odpowiadający CA / ACCA.\n",
    "\n",
    "Wersja dla normalnych ludzi: zakładamy, że promień sąsiedztwa = 1.\n",
    "\n",
    "Wersja z (*): piszemy ogólny program dla dowolnego promienia sąsiedztwa.\n",
    "\n",
    "Tak czy inaczej do napisania jest funkcja:\\\n",
    "**get_ca_polynomial(lut)** -> polynomial\n",
    "\n",
    "Użyj SymPy lub podobnej biliboteki do operacji na wielomianach."
   ]
  },
  {
   "cell_type": "code",
   "execution_count": 2,
   "id": "98830cf9-778d-4f48-8e7a-6af3b0fb609f",
   "metadata": {},
   "outputs": [
    {
     "data": {
      "text/latex": [
       "$\\displaystyle x y z + x y \\left(1 - z\\right) + x z \\left(1 - y\\right) + y z \\left(1 - x\\right)$"
      ],
      "text/plain": [
       "x*y*z + x*y*(1 - z) + x*z*(1 - y) + y*z*(1 - x)"
      ]
     },
     "execution_count": 2,
     "metadata": {},
     "output_type": "execute_result"
    }
   ],
   "source": [
    "# tak powinno wyglądać dla reguły 232\n",
    "x, y, z = symbols('x y z')\n",
    "polynomial = 1*x*y*z + 1*x*y*(1-z) + 1*x*(1-y)*z + 0*x*(1-y)*(1-z) + 1*(1-x)*y*z + 0*(1-x)*y*(1-z) + 0*(1-x)*y*(1-z) + 0*(1-x)*(1-y)*(1-z)\n",
    "polynomial"
   ]
  },
  {
   "cell_type": "code",
   "execution_count": 3,
   "id": "17c8d896-b7ea-4dae-b46b-ee634beddad7",
   "metadata": {},
   "outputs": [],
   "source": [
    "def get_ca_polynomial(lut: np.ndarray) -> Poly:\n",
    "    x, y, z = symbols('x y z')\n",
    "    polynomial = (lut[0]*x*y*z + lut[1]*x*y*(1-z) + lut[2]*x*(1-y)*z + lut[3]*x*(1-y)*(1-z) +\n",
    "                  lut[4]*(1-x)*y*z + lut[5]*(1-x)*y*(1-z) + lut[6]*(1-x)*(1-y)*z + lut[7]*(1-x)*(1-y)*(1-z))\n",
    "    return polynomial\n"
   ]
  },
  {
   "cell_type": "code",
   "execution_count": 4,
   "id": "7e7b0740-b66f-48cd-99bb-27dcfe0ac973",
   "metadata": {},
   "outputs": [],
   "source": [
    "def eca_get_lut(rule_num: int) -> np.ndarray:\n",
    "    return np.array([int(x) for x in bin(rule_num)[2:].zfill(8)], dtype=np.uint8)\n"
   ]
  },
  {
   "cell_type": "code",
   "execution_count": 5,
   "id": "38c7ad83-e708-4b7e-94e9-1439c7cb4097",
   "metadata": {},
   "outputs": [
    {
     "data": {
      "text/latex": [
       "$\\displaystyle x y z + x y \\left(1 - z\\right) + x z \\left(1 - y\\right) + y z \\left(1 - x\\right)$"
      ],
      "text/plain": [
       "x*y*z + x*y*(1 - z) + x*z*(1 - y) + y*z*(1 - x)"
      ]
     },
     "execution_count": 5,
     "metadata": {},
     "output_type": "execute_result"
    }
   ],
   "source": [
    "lut = eca_get_lut(232)\n",
    "get_ca_polynomial(lut)"
   ]
  },
  {
   "cell_type": "markdown",
   "id": "b9ed0fcb-b8a8-4590-9ada-1c8df6eaafdb",
   "metadata": {},
   "source": [
    "## zad.14\n",
    "Korzystając z rozwiązania Zadania 13 oraz z wcześniejszych programów, napisz funkcję, która dla zadanego cLUT i zadanej konfiguracji początkowej generuje space-time diagram ACCA.\n",
    "\n",
    "**acca_space_time(clut, initial_conf, step)** -> space time diagram w matplotlib"
   ]
  },
  {
   "cell_type": "code",
   "execution_count": null,
   "id": "490d3827-ff5f-47ca-a8a1-587ca8d0338b",
   "metadata": {},
   "outputs": [],
   "source": [
    "# traffic = wolfram_rule_to_lut(184)\n",
    "# majority = wolfram_rule_to_lut(232)\n",
    "\n",
    "# alpha=0.9\n",
    "# traffic_majority_clut = alpha * traffic + (1-alpha) * majority\n",
    "# conf = np.random.randint(0,2,49)\n",
    "# acca_space_time(traffic_majority_clut, conf, 49)"
   ]
  },
  {
   "cell_type": "code",
   "execution_count": null,
   "id": "1cc29cb3-dcde-4562-a978-33ddaf4788f0",
   "metadata": {},
   "outputs": [],
   "source": [
    "# wziąć wielomian i go do czegoś użyć, do następnych stanów automatów komórkowych"
   ]
  },
  {
   "cell_type": "code",
   "execution_count": null,
   "id": "d77eb1fa-c94f-455b-9fdb-b0799f1eda86",
   "metadata": {},
   "outputs": [],
   "source": []
  }
 ],
 "metadata": {
  "kernelspec": {
   "display_name": "Python 3 (ipykernel)",
   "language": "python",
   "name": "python3"
  },
  "language_info": {
   "codemirror_mode": {
    "name": "ipython",
    "version": 3
   },
   "file_extension": ".py",
   "mimetype": "text/x-python",
   "name": "python",
   "nbconvert_exporter": "python",
   "pygments_lexer": "ipython3",
   "version": "3.11.4"
  }
 },
 "nbformat": 4,
 "nbformat_minor": 5
}
