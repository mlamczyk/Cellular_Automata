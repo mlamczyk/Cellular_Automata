{
 "cells": [
  {
   "cell_type": "markdown",
   "id": "f2ce75e6-9f26-4c09-ab7d-7c0cadd938db",
   "metadata": {},
   "source": [
    "# Afiniczne Ciągłe Automaty Komórkowe (ACCAs)"
   ]
  },
  {
   "cell_type": "markdown",
   "id": "a846e33d-1404-4465-a977-8d65a5d5959e",
   "metadata": {},
   "source": [
    "Wykład: https://github.com/houp/ca-class/blob/main/slides/lecture7.pdf"
   ]
  },
  {
   "cell_type": "markdown",
   "id": "6b8ea103-e699-4c84-b29b-9ae4ee08b409",
   "metadata": {},
   "source": [
    "## Importy"
   ]
  },
  {
   "cell_type": "code",
   "execution_count": 1,
   "id": "13cdf285-4ddb-46ac-bcb2-6b490866a014",
   "metadata": {},
   "outputs": [],
   "source": [
    "import math\n",
    "import random\n",
    "import sympy as sp\n",
    "import numpy as np\n",
    "import pandas as pd\n",
    "import matplotlib.pyplot as plt\n",
    "from joblib import Parallel, delayed"
   ]
  },
  {
   "cell_type": "markdown",
   "id": "0f7b860c-7b01-4c57-ab5d-745196b2003e",
   "metadata": {},
   "source": [
    "## zad.13\n",
    "Napisz program, który dla zadanego LUT (binarnego) oraz cLUT (real-valued) wygeneruje wielomian odpowiadający CA / ACCA.\n",
    "\n",
    "Wersja dla normalnych ludzi: zakładamy, że promień sąsiedztwa = 1.\n",
    "\n",
    "Wersja z (*): piszemy ogólny program dla dowolnego promienia sąsiedztwa.\n",
    "\n",
    "Tak czy inaczej do napisania jest funkcja:\\\n",
    "**get_ca_polynomial(lut)** -> polynomial\n",
    "\n",
    "Użyj SymPy lub podobnej biliboteki do operacji na wielomianach."
   ]
  },
  {
   "cell_type": "code",
   "execution_count": null,
   "id": "17c8d896-b7ea-4dae-b46b-ee634beddad7",
   "metadata": {},
   "outputs": [],
   "source": [
    "# def get_ca_polynomial(lut: np.ndarray):\n",
    "    \n",
    "#     return polynomial"
   ]
  },
  {
   "cell_type": "code",
   "execution_count": 2,
   "id": "04bb94e0-10cd-4329-a8d0-a4870aaded95",
   "metadata": {},
   "outputs": [
    {
     "name": "stdout",
     "output_type": "stream",
     "text": [
      "2*x*(1 - y)\n"
     ]
    }
   ],
   "source": [
    "x, y = sp.symbols('x y')\n",
    "polynomial = 2*x*(1-y)\n",
    "print(polynomial)"
   ]
  },
  {
   "cell_type": "code",
   "execution_count": null,
   "id": "98830cf9-778d-4f48-8e7a-6af3b0fb609f",
   "metadata": {},
   "outputs": [],
   "source": []
  },
  {
   "cell_type": "markdown",
   "id": "b9ed0fcb-b8a8-4590-9ada-1c8df6eaafdb",
   "metadata": {},
   "source": [
    "## zad.14\n",
    "Korzystając z rozwiązania Zadania 13 oraz z wcześniejszych programów, napisz funkcję, która dla zadanego cLUT i zadanej konfiguracji początkowej generuje space-time diagram ACCA.\n",
    "\n",
    "**acca_space_time(clut, initial_conf, step)** -> space time diagram w matplotlib"
   ]
  },
  {
   "cell_type": "code",
   "execution_count": null,
   "id": "490d3827-ff5f-47ca-a8a1-587ca8d0338b",
   "metadata": {},
   "outputs": [],
   "source": [
    "# traffic = wolfram_rule_to_lut(184)\n",
    "# majority = wolfram_rule_to_lut(232)\n",
    "\n",
    "# alpha=0.9\n",
    "# traffic_majority_clut = alpha * traffic + (1-alpha) * majority\n",
    "# conf = np.random.randint(0,2,49)\n",
    "# acca_space_time(traffic_majority_clut, conf, 49)"
   ]
  },
  {
   "cell_type": "code",
   "execution_count": null,
   "id": "1cc29cb3-dcde-4562-a978-33ddaf4788f0",
   "metadata": {},
   "outputs": [],
   "source": []
  }
 ],
 "metadata": {
  "kernelspec": {
   "display_name": "Python 3 (ipykernel)",
   "language": "python",
   "name": "python3"
  },
  "language_info": {
   "codemirror_mode": {
    "name": "ipython",
    "version": 3
   },
   "file_extension": ".py",
   "mimetype": "text/x-python",
   "name": "python",
   "nbconvert_exporter": "python",
   "pygments_lexer": "ipython3",
   "version": "3.11.4"
  }
 },
 "nbformat": 4,
 "nbformat_minor": 5
}
