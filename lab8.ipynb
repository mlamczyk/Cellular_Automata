{
 "cells": [
  {
   "cell_type": "markdown",
   "id": "505e549d-c84b-428b-9374-9add86744771",
   "metadata": {},
   "source": [
    "# Identyfikacja Automatów Komórkowych"
   ]
  },
  {
   "cell_type": "markdown",
   "id": "690b1565-8da1-476a-a025-6e816c99e381",
   "metadata": {},
   "source": [
    "Wykład: https://github.com/houp/ca-class/blob/main/slides/lecture8.pdf"
   ]
  },
  {
   "cell_type": "markdown",
   "id": "b0cfd64b-f113-42bd-816f-278463d7ee2f",
   "metadata": {},
   "source": [
    "### Importy"
   ]
  },
  {
   "cell_type": "code",
   "execution_count": 1,
   "id": "613a9a67-752f-427b-885d-bd4eb0147db0",
   "metadata": {},
   "outputs": [],
   "source": [
    "import math\n",
    "import random\n",
    "import numpy as np\n",
    "import pandas as pd\n",
    "import matplotlib.pyplot as plt\n",
    "import matplotlib.colors as colors"
   ]
  },
  {
   "cell_type": "markdown",
   "id": "05a3d0c8-1adf-4fc6-a6e2-d240d35692d0",
   "metadata": {},
   "source": [
    "## zad.15\n",
    "Zaimplementuj prosty algorytm identyfikacji CA na podstawie obserwacji. \\\n",
    "Założenia:\n",
    "- Dana jest obserwacja, która nie zawiera tzw. \"dziur czasowych\" (temporal gaps). Innymi słowy każde dwa kolejne wiersze obserwacji odpowiadają dwum kolejnym krokom czasu CA.\n",
    "- Obserwacja może zawierać dziury (spatial gaps) w pojedynczych komórkach. Są one oznaczone przez “stan” o wartości -1.\n",
    "- **Opcja łatwiejsza:** zakładamy, że promień sąsiedztwa jest znany i podany jako argument funkcji.\n",
    "- Opcja trudniejsza: zakładamy, że nie jest znany promień sąsiedztwa i trzeba znaleźć automat o najmniejszym promieniu.\n",
    "- Opcja bardziej trudniejsza: zakładamy, że w obserwacji może pojawić się szum - tzn. zaobserwowane stany niektórych komórek mogą być błędne (zaobserwowano 1 a było 0 i vice versa).\n",
    "\n",
    "Podpowiedzi:\n",
    "- Nie ma dziur czasowych, więc nie trzeba robić algorytmu ewolucyjnego!\n",
    "- Wystarczy przejrzeć całą obserwację i spróbować \"odczytać\" regułę.\n",
    "- Trzeba się zastanowić co zrobić w przypadku gdy pewnych konfiguracji sąsiedztw w ogóle nie zaobserwowano. Co wtedy? \n",
    "- Warto napisać sobie własny test do tego algorytmu na podstawie stworzonej na wcześniejszych zajęciach generujących diagramy czaso-przestrzenne. Losujemy \n",
    "regułę. Generujemy diagram czasoprzestrzenny. Odpalamy nasz algorytm identyfikacji i sprawdzamy czy wykrył tą samą regułę od której wystartowaliśmy."
   ]
  },
  {
   "cell_type": "code",
   "execution_count": 2,
   "id": "b1823531-96f5-444d-ab6f-7f57ef835a33",
   "metadata": {},
   "outputs": [],
   "source": [
    "def eca_get_lut(rule_num: int) -> np.ndarray:\n",
    "    return np.array([int(x) for x in bin(rule_num)[2:].zfill(8)], dtype=np.uint8)\n",
    "\n",
    "def eca_evolve(lut: np.ndarray, x: np.ndarray) -> np.ndarray:\n",
    "    return lut[7 - (np.roll(x, 1) * 4 + x * 2 + np.roll(x, -1))]\n",
    "\n",
    "def eca_evolve_spacetime(lut: np.ndarray, initial_conf: np.ndarray, steps: int) -> np.ndarray:\n",
    "    rows = [initial_conf]\n",
    "    for _ in range(1, steps):\n",
    "        rows.append(eca_evolve(lut, rows[-1]))\n",
    "    return np.stack(rows)\n",
    "\n",
    "def plot_space_time(spacetime):\n",
    "    cmap = colors.ListedColormap(['gray', 'white', 'black'])\n",
    "    bounds = [-1.5, -0.5, 0.5, 1.5]\n",
    "    norm = colors.BoundaryNorm(bounds, cmap.N)\n",
    "\n",
    "    plt.figure(figsize=(5, 5))\n",
    "    plt.imshow(spacetime, cmap=cmap, norm=norm, interpolation='nearest')\n",
    "    plt.xticks([])\n",
    "    plt.yticks([])\n",
    "    plt.show()\n"
   ]
  },
  {
   "cell_type": "code",
   "execution_count": 3,
   "id": "3d827960-facc-4e40-892d-949a952b9e70",
   "metadata": {},
   "outputs": [
    {
     "name": "stdout",
     "output_type": "stream",
     "text": [
      "lut: [1 0 1 0 1 0 0 0], reguła: 168\n"
     ]
    }
   ],
   "source": [
    "lut = eca_get_lut(random.randrange(0,256))\n",
    "print(f'lut: {lut}, reguła: {np.packbits(lut)[0]}')\n",
    "initial_conf = np.random.randint(0,2,25)"
   ]
  },
  {
   "cell_type": "code",
   "execution_count": 4,
   "id": "7d40a68d-9f6c-4b8a-b2ce-3cdf53055b78",
   "metadata": {},
   "outputs": [
    {
     "data": {
      "image/png": "[encoded data removed]",
      "text/plain": [
       "<Figure size 500x500 with 1 Axes>"
      ]
     },
     "metadata": {},
     "output_type": "display_data"
    }
   ],
   "source": [
    "spacetime = eca_evolve_spacetime(lut, initial_conf, 50)\n",
    "plot_space_time(spacetime)"
   ]
  },
  {
   "cell_type": "markdown",
   "id": "86848613-c23f-48ff-9f3a-cedc81c13162",
   "metadata": {},
   "source": [
    "### Funkcja dodająca dziury (spatial gaps) w komórkach"
   ]
  },
  {
   "cell_type": "code",
   "execution_count": 5,
   "id": "58ff7481-c19a-47d3-92a3-91ea18c86ce8",
   "metadata": {},
   "outputs": [],
   "source": [
    "def generate_observation(spacetime: np.ndarray, percent: float) -> np.ndarray:\n",
    "    spacetime_copy = spacetime.copy()\n",
    "    total_cells = spacetime_copy.size\n",
    "    num_gaps = int(total_cells * percent)\n",
    "    \n",
    "    for _ in range(num_gaps):\n",
    "        row = np.random.randint(1, spacetime_copy.shape[0])\n",
    "        col = np.random.randint(spacetime_copy.shape[1])\n",
    "        spacetime_copy[row, col] = -1\n",
    "    \n",
    "    return spacetime_copy\n"
   ]
  },
  {
   "cell_type": "code",
   "execution_count": 6,
   "id": "afe2914c-ff6f-4d51-9da3-b1fc923b6f6e",
   "metadata": {},
   "outputs": [
    {
     "data": {
      "image/png": "[encoded data removed]",
      "text/plain": [
       "<Figure size 500x500 with 1 Axes>"
      ]
     },
     "metadata": {},
     "output_type": "display_data"
    }
   ],
   "source": [
    "spacetime2 = generate_observation(spacetime, 0.06)\n",
    "plot_space_time(spacetime2)"
   ]
  },
  {
   "cell_type": "markdown",
   "id": "be08056c-493b-4d0b-b651-92861257dc42",
   "metadata": {},
   "source": [
    "### Prototyp funkcji do identyfikacji CA"
   ]
  },
  {
   "cell_type": "code",
   "execution_count": 7,
   "id": "d20023c9-6498-4063-b548-12b688f4dcc9",
   "metadata": {},
   "outputs": [],
   "source": [
    "def ca_identify(spacetime: np.ndarray) -> np.ndarray:\n",
    "    lut = np.full(8, -1, dtype=np.int8)\n",
    "    for t in range(spacetime.shape[0]-1):\n",
    "        for x in range(spacetime.shape[1]):\n",
    "            neighborhood = np.array([np.roll(spacetime[t],1)[x], spacetime[t, x], np.roll(spacetime[t],-1)[x]])\n",
    "            if -1 not in neighborhood and spacetime[t+1, x] != -1:\n",
    "                lut[7-int(''.join(map(str, neighborhood)), 2)] = spacetime[t+1, x]\n",
    "    # jeśli nie ma jakiejś konfiguracji - w ten sposób nie znajdziemy reguł typu 0 czy 256\n",
    "    if -1 in lut:\n",
    "        return 'Lut not found'\n",
    "    return lut\n"
   ]
  },
  {
   "cell_type": "markdown",
   "id": "a190bdbc-8bb7-4314-b37a-daf5efe74fd9",
   "metadata": {},
   "source": [
    "Sprawdzenie dla diagramu bez brakujących wartości:"
   ]
  },
  {
   "cell_type": "code",
   "execution_count": 8,
   "id": "dc5fc12a-1496-4efd-9a6a-0e66c05dcc1a",
   "metadata": {},
   "outputs": [
    {
     "name": "stdout",
     "output_type": "stream",
     "text": [
      "Początkowy lut: [1 0 1 0 1 0 0 0], reguła: 168\n",
      "Znaleziony lut: [1 0 1 0 1 0 0 0]\n",
      "Reguła: 168\n"
     ]
    }
   ],
   "source": [
    "print(f'Początkowy lut: {lut}, reguła: {np.packbits(lut)[0]}')\n",
    "identified_lut = ca_identify(spacetime)\n",
    "print(f'Znaleziony lut: {identified_lut}')\n",
    "if type(identified_lut) != str:\n",
    "    print(f'Reguła: {np.packbits(identified_lut)[0]}')"
   ]
  },
  {
   "cell_type": "markdown",
   "id": "a7c85fd0-af9a-4fa3-9f82-5b608965784c",
   "metadata": {},
   "source": [
    "Sprawdzenie dla diagramu z brakującymi wartościami:"
   ]
  },
  {
   "cell_type": "code",
   "execution_count": 9,
   "id": "33be4453-fa90-431e-9ac6-125419eb7d22",
   "metadata": {},
   "outputs": [
    {
     "name": "stdout",
     "output_type": "stream",
     "text": [
      "Początkowy lut: [1 0 1 0 1 0 0 0], reguła: 168\n",
      "Znaleziony lut: [1 0 1 0 1 0 0 0]\n",
      "Reguła: 168\n"
     ]
    }
   ],
   "source": [
    "print(f'Początkowy lut: {lut}, reguła: {np.packbits(lut)[0]}')\n",
    "identified_lut2 = ca_identify(spacetime2)\n",
    "print(f'Znaleziony lut: {identified_lut2}')\n",
    "if type(identified_lut2) != str:\n",
    "    print(f'Reguła: {np.packbits(identified_lut2)[0]}')"
   ]
  },
  {
   "cell_type": "markdown",
   "id": "09c11483-d43c-4188-b6ef-972a1a8117b8",
   "metadata": {},
   "source": [
    "### Funckja z parametrem r - promień sąsiedztwa"
   ]
  },
  {
   "cell_type": "code",
   "execution_count": 10,
   "id": "71466b2c-df00-4a2c-bf0c-dd2e9578d7fa",
   "metadata": {},
   "outputs": [],
   "source": [
    "def ca_identify(spacetime: np.ndarray, r: int) -> np.ndarray:\n",
    "    lut = np.full(2**(2*r + 1), -1, dtype=np.int8)\n",
    "    for t in range(spacetime.shape[0] - 1):\n",
    "        for x in range(spacetime.shape[1]):\n",
    "            neighborhood = np.array([np.roll(spacetime[t], i)[x] for i in range(r, -r-1, -1)])\n",
    "            if -1 not in neighborhood and spacetime[t+1, x] != -1:\n",
    "                lut[2**(2*r + 1)-1 - int(''.join(map(str, neighborhood)), 2)] = spacetime[t+1, x]\n",
    "    if -1 in lut:\n",
    "        return 'Lut not found'\n",
    "    return lut\n"
   ]
  },
  {
   "cell_type": "code",
   "execution_count": 11,
   "id": "53bc497c-36ac-4b26-bef5-704bc1c4ff82",
   "metadata": {},
   "outputs": [
    {
     "name": "stdout",
     "output_type": "stream",
     "text": [
      "Początkowy lut: [1 0 1 0 1 0 0 0], reguła: 168\n",
      "Znaleziony lut: [1 0 1 0 1 0 0 0]\n",
      "Reguła: 168\n"
     ]
    }
   ],
   "source": [
    "print(f'Początkowy lut: {lut}, reguła: {np.packbits(lut)[0]}')\n",
    "identified_lut = ca_identify(spacetime, 1)\n",
    "print(f'Znaleziony lut: {identified_lut}')\n",
    "if type(identified_lut) != str:\n",
    "    print(f'Reguła: {np.packbits(identified_lut)[0]}')"
   ]
  },
  {
   "cell_type": "code",
   "execution_count": 12,
   "id": "2ccf73a8-5b7e-4214-ab15-65acf90ca8a1",
   "metadata": {},
   "outputs": [
    {
     "name": "stdout",
     "output_type": "stream",
     "text": [
      "Początkowy lut: [1 0 1 0 1 0 0 0], reguła: 168\n",
      "Znaleziony lut: [1 0 1 0 1 0 0 0]\n",
      "Reguła: 168\n"
     ]
    }
   ],
   "source": [
    "print(f'Początkowy lut: {lut}, reguła: {np.packbits(lut)[0]}')\n",
    "identified_lut2 = ca_identify(spacetime2, 1)\n",
    "print(f'Znaleziony lut: {identified_lut2}')\n",
    "if type(identified_lut2) != str:\n",
    "    print(f'Reguła: {np.packbits(identified_lut2)[0]}')"
   ]
  },
  {
   "cell_type": "markdown",
   "id": "e8829f2f-aadb-43fd-ba45-e18c076b445d",
   "metadata": {},
   "source": [
    "### Sprawdzenie dla sąsiedztwa r = 2"
   ]
  },
  {
   "cell_type": "code",
   "execution_count": 13,
   "id": "e9116164-0cb1-4823-9ec6-9fe099d2dfa9",
   "metadata": {},
   "outputs": [],
   "source": [
    "def eca_get_lut(rule_num: int) -> np.ndarray:\n",
    "    return np.array([int(x) for x in bin(rule_num)[2:].zfill(32)], dtype=np.uint8)\n",
    "\n",
    "def eca_evolve(lut: np.ndarray, x: np.ndarray) -> np.ndarray:\n",
    "    return lut[31 - (np.roll(x, 2) * 16 + np.roll(x, 1) * 8 + x * 4 + np.roll(x, -1) * 2 + np.roll(x, -2)).astype(int)]"
   ]
  },
  {
   "cell_type": "code",
   "execution_count": 14,
   "id": "41620879-5698-4d37-9161-bd52b2e76721",
   "metadata": {},
   "outputs": [
    {
     "name": "stdout",
     "output_type": "stream",
     "text": [
      "lut: [1 0 1 0 1 0 1 0 0 1 0 0 0 0 0 0 0 0 1 1 0 1 1 1 0 1 0 1 1 0 0 1], reguła: 2856335193\n"
     ]
    }
   ],
   "source": [
    "lut = eca_get_lut(random.randrange(0,2**32))\n",
    "rule = int(''.join(map(str, lut)), 2)\n",
    "print(f'lut: {lut}, reguła: {rule}')\n",
    "initial_conf = np.random.randint(0,2,51)"
   ]
  },
  {
   "cell_type": "code",
   "execution_count": 15,
   "id": "651aac8d-7fa7-4d93-a885-5f7b9cad59ad",
   "metadata": {},
   "outputs": [
    {
     "data": {
      "image/png": "[encoded data removed]",
      "text/plain": [
       "<Figure size 500x500 with 1 Axes>"
      ]
     },
     "metadata": {},
     "output_type": "display_data"
    }
   ],
   "source": [
    "spacetime = eca_evolve_spacetime(lut, initial_conf, 102)\n",
    "plot_space_time(spacetime)"
   ]
  },
  {
   "cell_type": "code",
   "execution_count": 16,
   "id": "a34b3029-44c8-406a-b7ba-9cc2fca594f6",
   "metadata": {},
   "outputs": [
    {
     "data": {
      "image/png": "[encoded data removed]",
      "text/plain": [
       "<Figure size 500x500 with 1 Axes>"
      ]
     },
     "metadata": {},
     "output_type": "display_data"
    }
   ],
   "source": [
    "spacetime2 = generate_observation(spacetime, 0.03)\n",
    "plot_space_time(spacetime2)"
   ]
  },
  {
   "cell_type": "code",
   "execution_count": 17,
   "id": "3c0b5f42-5f3d-47b1-9f09-c61ac3068cb0",
   "metadata": {},
   "outputs": [
    {
     "name": "stdout",
     "output_type": "stream",
     "text": [
      "Początkowy lut: [1 0 1 0 1 0 1 0 0 1 0 0 0 0 0 0 0 0 1 1 0 1 1 1 0 1 0 1 1 0 0 1], reguła: 2856335193\n",
      "Znaleziony lut: [1 0 1 0 1 0 1 0 0 1 0 0 0 0 0 0 0 0 1 1 0 1 1 1 0 1 0 1 1 0 0 1]\n",
      "Reguła: 2856335193\n"
     ]
    }
   ],
   "source": [
    "print(f'Początkowy lut: {lut}, reguła: {rule}')\n",
    "identified_lut = ca_identify(spacetime, 2)\n",
    "print(f'Znaleziony lut: {identified_lut}')\n",
    "if type(identified_lut) != str:\n",
    "    identified_rule = int(''.join(map(str, identified_lut)), 2)\n",
    "    print(f'Reguła: {identified_rule}')"
   ]
  },
  {
   "cell_type": "code",
   "execution_count": 18,
   "id": "8f927207-3468-4b8c-87cd-154620634487",
   "metadata": {},
   "outputs": [
    {
     "name": "stdout",
     "output_type": "stream",
     "text": [
      "Początkowy lut: [1 0 1 0 1 0 1 0 0 1 0 0 0 0 0 0 0 0 1 1 0 1 1 1 0 1 0 1 1 0 0 1], reguła: 2856335193\n",
      "Znaleziony lut: [1 0 1 0 1 0 1 0 0 1 0 0 0 0 0 0 0 0 1 1 0 1 1 1 0 1 0 1 1 0 0 1]\n",
      "Reguła: 2856335193\n"
     ]
    }
   ],
   "source": [
    "print(f'Początkowy lut: {lut}, reguła: {rule}')\n",
    "identified_lut2 = ca_identify(spacetime2, 2)\n",
    "print(f'Znaleziony lut: {identified_lut2}')\n",
    "if type(identified_lut2) != str:\n",
    "    identified_rule2 = int(''.join(map(str, identified_lut2)), 2)\n",
    "    print(f'Reguła: {identified_rule2}')"
   ]
  },
  {
   "cell_type": "code",
   "execution_count": null,
   "id": "49c1699e-d649-4f9b-87e4-94c21ddba7bd",
   "metadata": {},
   "outputs": [],
   "source": []
  }
 ],
 "metadata": {
  "kernelspec": {
   "display_name": "Python 3 (ipykernel)",
   "language": "python",
   "name": "python3"
  },
  "language_info": {
   "codemirror_mode": {
    "name": "ipython",
    "version": 3
   },
   "file_extension": ".py",
   "mimetype": "text/x-python",
   "name": "python",
   "nbconvert_exporter": "python",
   "pygments_lexer": "ipython3",
   "version": "3.10.0"
  }
 },
 "nbformat": 4,
 "nbformat_minor": 5
}
