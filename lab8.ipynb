{
 "cells": [
  {
   "cell_type": "markdown",
   "id": "505e549d-c84b-428b-9374-9add86744771",
   "metadata": {},
   "source": [
    "# Identyfikacja Automatów Komórkowych"
   ]
  },
  {
   "cell_type": "markdown",
   "id": "690b1565-8da1-476a-a025-6e816c99e381",
   "metadata": {},
   "source": [
    "Wykład: https://github.com/houp/ca-class/blob/main/slides/lecture8.pdf"
   ]
  },
  {
   "cell_type": "markdown",
   "id": "b0cfd64b-f113-42bd-816f-278463d7ee2f",
   "metadata": {},
   "source": [
    "### Importy"
   ]
  },
  {
   "cell_type": "code",
   "execution_count": 1,
   "id": "613a9a67-752f-427b-885d-bd4eb0147db0",
   "metadata": {},
   "outputs": [],
   "source": [
    "import math\n",
    "import random\n",
    "import numpy as np\n",
    "import pandas as pd\n",
    "import matplotlib.pyplot as plt\n",
    "import matplotlib.colors as colors"
   ]
  },
  {
   "cell_type": "markdown",
   "id": "05a3d0c8-1adf-4fc6-a6e2-d240d35692d0",
   "metadata": {},
   "source": [
    "## zad.15\n",
    "Zaimplementuj prosty algorytm identyfikacji CA na podstawie obserwacji. \\\n",
    "Założenia:\n",
    "- Dana jest obserwacja, która nie zawiera tzw. \"dziur czasowych\" (temporal gaps). Innymi słowy każde dwa kolejne wiersze obserwacji odpowiadają dwum kolejnym krokom czasu CA.\n",
    "- Obserwacja może zawierać dziury (spatial gaps) w pojedynczych komórkach. Są one oznaczone przez “stan” o wartości -1.\n",
    "- Opcja łatwiejsza: zakładamy, że promień sąsiedztwa jest znany i podany jako argument funkcji.\n",
    "- Opcja trudniejsza: zakładamy, że nie jest znany promień sąsiedztwa i trzeba znaleźć automat o najmniejszym promieniu.\n",
    "- Opcja bardziej trudniejsza: zakładamy, że w obserwacji może pojawić się szum - tzn. zaobserwowane stany niektórych komórek mogą być błędne (zaobserwowano 1 a było 0 i vice versa).\n",
    "\n",
    "Podpowiedzi:\n",
    "- Nie ma dziur czasowych, więc nie trzeba robić algorytmu ewolucyjnego!\n",
    "- Wystarczy przejrzeć całą obserwację i spróbować \"odczyta\" regułę.\n",
    "- Trzeba się zastanowić co zrobić w przypadku gdy pewnych konfiguracji sąsiedztw w ogóle nie zaobserwowano. Co wtedy? \n",
    "- Warto napisać sobie własny test do tego algorytmu na podstawie stworzonej na wcześniejszych zajęciach generujących diagramy czaso-przestrzenne. Losujemy \n",
    "regułę. Generujemy diagram czasoprzestrzenny. Odpalamy nasz algorytm identyfikacji i sprawdzamy czy wykrył tą samą regułę od której wystartowaliśmy."
   ]
  },
  {
   "cell_type": "code",
   "execution_count": 2,
   "id": "b1823531-96f5-444d-ab6f-7f57ef835a33",
   "metadata": {},
   "outputs": [],
   "source": [
    "def eca_get_lut(rule_num: int) -> np.ndarray:\n",
    "    return np.array([int(x) for x in bin(rule_num)[2:].zfill(8)], dtype=np.uint8)\n",
    "\n",
    "def eca_evolve(lut: np.ndarray, x: np.ndarray) -> np.ndarray:\n",
    "    return lut[7 - (np.roll(x, 1) * 4 + x * 2 + np.roll(x, -1))]\n",
    "\n",
    "def eca_evolve_spacetime(lut: np.ndarray, initial_conf: np.ndarray, steps: int) -> np.ndarray:\n",
    "    rows = [initial_conf]\n",
    "    for _ in range(1, steps):\n",
    "        rows.append(eca_evolve(lut, rows[-1]))\n",
    "    return np.stack(rows)\n",
    "\n",
    "def plot_space_time(spacetime):\n",
    "    cmap = colors.ListedColormap(['gray', 'white', 'black'])\n",
    "    bounds = [-1.5, -0.5, 0.5, 1.5]\n",
    "    norm = colors.BoundaryNorm(bounds, cmap.N)\n",
    "\n",
    "    plt.figure(figsize=(5, 5))\n",
    "    plt.imshow(spacetime, cmap=cmap, norm=norm, interpolation='nearest')\n",
    "    plt.xticks([])\n",
    "    plt.yticks([])\n",
    "    plt.show()\n"
   ]
  },
  {
   "cell_type": "code",
   "execution_count": 6,
   "id": "3d827960-facc-4e40-892d-949a952b9e70",
   "metadata": {},
   "outputs": [
    {
     "name": "stdout",
     "output_type": "stream",
     "text": [
      "[0 0 1 1 1 0 0 0]\n"
     ]
    }
   ],
   "source": [
    "lut = eca_get_lut(random.randrange(0,256))\n",
    "print(lut)\n",
    "initial_conf = np.random.randint(0,2,25)"
   ]
  },
  {
   "cell_type": "code",
   "execution_count": 7,
   "id": "7d40a68d-9f6c-4b8a-b2ce-3cdf53055b78",
   "metadata": {},
   "outputs": [
    {
     "data": {
      "image/png": "[encoded data removed]",
      "text/plain": [
       "<Figure size 500x500 with 1 Axes>"
      ]
     },
     "metadata": {},
     "output_type": "display_data"
    }
   ],
   "source": [
    "spacetime = eca_evolve_spacetime(lut, initial_conf, 50)\n",
    "plot_space_time(spacetime)"
   ]
  },
  {
   "cell_type": "code",
   "execution_count": 8,
   "id": "bff98317-4b64-4527-a6f3-cc726ab19364",
   "metadata": {},
   "outputs": [
    {
     "data": {
      "text/plain": [
       "array([[1, 0, 1, ..., 0, 0, 1],\n",
       "       [0, 1, 0, ..., 1, 0, 1],\n",
       "       [1, 0, 1, ..., 0, 1, 0],\n",
       "       ...,\n",
       "       [0, 0, 0, ..., 1, 0, 1],\n",
       "       [1, 0, 0, ..., 0, 1, 0],\n",
       "       [0, 1, 0, ..., 1, 0, 1]])"
      ]
     },
     "execution_count": 8,
     "metadata": {},
     "output_type": "execute_result"
    }
   ],
   "source": [
    "spacetime"
   ]
  },
  {
   "cell_type": "markdown",
   "id": "86848613-c23f-48ff-9f3a-cedc81c13162",
   "metadata": {},
   "source": [
    "Funkcja dodająca dziury (spatial gaps) w komórkach:"
   ]
  },
  {
   "cell_type": "code",
   "execution_count": 9,
   "id": "58ff7481-c19a-47d3-92a3-91ea18c86ce8",
   "metadata": {},
   "outputs": [],
   "source": [
    "def generate_observation(spacetime: np.ndarray, percent: float) -> np.ndarray:\n",
    "    spacetime_copy = spacetime.copy()\n",
    "    total_cells = spacetime_copy.size\n",
    "    num_gaps = int(total_cells * percent)\n",
    "    \n",
    "    for _ in range(num_gaps):\n",
    "        row = np.random.randint(1, spacetime_copy.shape[0])\n",
    "        col = np.random.randint(spacetime_copy.shape[1])\n",
    "        spacetime_copy[row, col] = -1\n",
    "    \n",
    "    return spacetime_copy\n"
   ]
  },
  {
   "cell_type": "code",
   "execution_count": 10,
   "id": "268c6102-f5cd-4254-a65d-501a6ec78bfc",
   "metadata": {},
   "outputs": [
    {
     "data": {
      "text/plain": [
       "75.0"
      ]
     },
     "execution_count": 10,
     "metadata": {},
     "output_type": "execute_result"
    }
   ],
   "source": [
    "spacetime.size*0.06"
   ]
  },
  {
   "cell_type": "code",
   "execution_count": 11,
   "id": "afe2914c-ff6f-4d51-9da3-b1fc923b6f6e",
   "metadata": {},
   "outputs": [
    {
     "data": {
      "image/png": "[encoded data removed]",
      "text/plain": [
       "<Figure size 500x500 with 1 Axes>"
      ]
     },
     "metadata": {},
     "output_type": "display_data"
    }
   ],
   "source": [
    "spacetime2 = generate_observation(spacetime, 0.06)\n",
    "plot_space_time(spacetime2)"
   ]
  },
  {
   "cell_type": "markdown",
   "id": "92031257-365d-4e0f-9dd4-ee24574e7f8e",
   "metadata": {},
   "source": [
    "---"
   ]
  },
  {
   "cell_type": "code",
   "execution_count": null,
   "id": "e568e8dc-d6dc-4869-94c5-9b5d57d20575",
   "metadata": {},
   "outputs": [],
   "source": [
    "# def generate_observation(rule: np.ndarray, ...):\n",
    "#     ...\n",
    "#     return\n",
    "\n",
    "# # ---\n",
    "# rules = [eca_get_lut(rule) for rule in range(256)]\n",
    "# for rule in rules:\n",
    "#     generate_observation(rule, ...)"
   ]
  },
  {
   "cell_type": "code",
   "execution_count": 40,
   "id": "3e9e69a8-e7c0-4a8d-b34e-f3edb6b73322",
   "metadata": {},
   "outputs": [],
   "source": [
    "def ca_identify(spacetime: np.ndarray) -> np.ndarray:\n",
    "    lut = np.full(8, 0, dtype=np.int8)\n",
    "    \n",
    "    # for t in range(spacetime.shape[0]-1):\n",
    "    #     for x in range(spacetime.shape[1]):\n",
    "    #         if spacetime[t+1, x] != -1 and neighborhoods[t, x] != -1 and spacetime[t, x-1] and neighborhoods[t, x+1]:\n",
    "    #             lut[spacetime[t, x-1:x+1]] = spacetime[t+1, x]\n",
    "\n",
    "    rules = [eca_get_lut(rule) for rule in range(256)]\n",
    "    \n",
    "    \n",
    "    return lut\n"
   ]
  },
  {
   "cell_type": "code",
   "execution_count": 48,
   "id": "e8720deb-13eb-477b-9345-e510e7d45af7",
   "metadata": {},
   "outputs": [
    {
     "data": {
      "text/plain": [
       "array([1, 0, 1])"
      ]
     },
     "execution_count": 48,
     "metadata": {},
     "output_type": "execute_result"
    }
   ],
   "source": [
    "x=1\n",
    "spacetime[0, x-1:x+2]"
   ]
  },
  {
   "cell_type": "code",
   "execution_count": 41,
   "id": "dc5fc12a-1496-4efd-9a6a-0e66c05dcc1a",
   "metadata": {},
   "outputs": [
    {
     "name": "stdout",
     "output_type": "stream",
     "text": [
      "[0 0 1 1 1 0 0 0]\n",
      "[0 1 2 3 4 5 6]\n",
      "[0 0 0 0 0 0 0 0]\n",
      "0\n",
      "6\n",
      "[0 0 0 1 1 1 0 0]\n"
     ]
    }
   ],
   "source": [
    "print(lut)\n",
    "print(ca_identify(spacetime))"
   ]
  },
  {
   "cell_type": "code",
   "execution_count": 42,
   "id": "33be4453-fa90-431e-9ac6-125419eb7d22",
   "metadata": {},
   "outputs": [
    {
     "name": "stdout",
     "output_type": "stream",
     "text": [
      "[0 0 1 1 1 0 0 0]\n",
      "[-6 -5 -4 -3 -2 -1  0  1  2  3  4  5  6]\n",
      "[0 0 0 0 0 0 0 0]\n",
      "0\n",
      "6\n",
      "[0 0 0 1 1 1 0 0]\n"
     ]
    }
   ],
   "source": [
    "print(lut)\n",
    "print(ca_identify(spacetime2))"
   ]
  },
  {
   "cell_type": "code",
   "execution_count": null,
   "id": "c10c6bcc-23b2-44af-833f-b0127a52379b",
   "metadata": {},
   "outputs": [],
   "source": [
    "# def ca_identify(spacetime: np.ndarray) -> np.ndarray:\n",
    "#     lut = np.zeros((2, 2, 2), dtype=int)\n",
    "#     T, X = spacetime.shape\n",
    "#     for t in range(T-1):\n",
    "#         for x in range(X):\n",
    "#             # Uwzględniamy zapętlanie wierszy\n",
    "#             left = spacetime[t, (x-1)%X]\n",
    "#             center = spacetime[t, x]\n",
    "#             right = spacetime[t, (x+1)%X]\n",
    "#             next_val = spacetime[t+1, x]\n",
    "#             lut[left, center, right] = next_val\n",
    "#     return lut\n"
   ]
  }
 ],
 "metadata": {
  "kernelspec": {
   "display_name": "Python 3 (ipykernel)",
   "language": "python",
   "name": "python3"
  },
  "language_info": {
   "codemirror_mode": {
    "name": "ipython",
    "version": 3
   },
   "file_extension": ".py",
   "mimetype": "text/x-python",
   "name": "python",
   "nbconvert_exporter": "python",
   "pygments_lexer": "ipython3",
   "version": "3.11.4"
  }
 },
 "nbformat": 4,
 "nbformat_minor": 5
}
