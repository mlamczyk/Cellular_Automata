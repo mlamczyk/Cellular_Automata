{
 "cells": [
  {
   "cell_type": "markdown",
   "id": "505e549d-c84b-428b-9374-9add86744771",
   "metadata": {},
   "source": [
    "# Identyfikacja Automatów Komórkowych"
   ]
  },
  {
   "cell_type": "markdown",
   "id": "690b1565-8da1-476a-a025-6e816c99e381",
   "metadata": {},
   "source": [
    "Wykład: https://github.com/houp/ca-class/blob/main/slides/lecture8.pdf"
   ]
  },
  {
   "cell_type": "markdown",
   "id": "05a3d0c8-1adf-4fc6-a6e2-d240d35692d0",
   "metadata": {},
   "source": [
    "## zad.15\n",
    "Zaimplementuj prosty algorytm identyfikacji CA na podstawie obserwacji. \\\n",
    "Założenia:\n",
    "- Dana jest obserwacja, która nie zawiera tzw. \"dziur czasowych\" (temporal gaps). Innymi słowy każde dwa kolejne wiersze obserwacji odpowiadają dwum kolejnym krokom czasu CA.\n",
    "- Obserwacja może zawierać dziury (spatial gaps) w pojedynczych komórkach. Są one oznaczone przez “stan” o wartości -1.\n",
    "- Opcja łatwiejsza: zakładamy, że promień sąsiedztwa jest znany i podany jako argument funkcji.\n",
    "- Opcja trudniejsza: zakładamy, że nie jest znany promień sąsiedztwa i trzeba znaleźć automat o najmniejszym promieniu.\n",
    "- Opcja bardziej trudniejsza: zakładamy, że w obserwacji może pojawić się szum - tzn. zaobserwowane stany niektórych komórek mogą być błędne (zaobserwowano 1 a było 0 i vice versa).\n",
    "\n",
    "Podpowiedzi:\n",
    "- Nie ma dziur czasowych, więc nie trzeba robić algorytmu ewolucyjnego!\n",
    "- Wystarczy przejrzeć całą obserwację i spróbować \"odczyta\" regułę.\n",
    "- Trzeba się zastanowić co zrobić w przypadku gdy pewnych konfiguracji sąsiedztw w ogóle nie zaobserwowano. Co wtedy? \n",
    "- Warto napisać sobie własny test do tego algorytmu na podstawie stworzonej na wcześniejszych zajęciach generujących diagramy czaso-przestrzenne. Losujemy \n",
    "regułę. Generujemy diagram czasoprzestrzenny. Odpalamy nasz algorytm identyfikacji i sprawdzamy czy wykrył tą samą regułę od której wystartowaliśmy."
   ]
  },
  {
   "cell_type": "code",
   "execution_count": null,
   "id": "e568e8dc-d6dc-4869-94c5-9b5d57d20575",
   "metadata": {},
   "outputs": [],
   "source": []
  }
 ],
 "metadata": {
  "kernelspec": {
   "display_name": "Python 3 (ipykernel)",
   "language": "python",
   "name": "python3"
  },
  "language_info": {
   "codemirror_mode": {
    "name": "ipython",
    "version": 3
   },
   "file_extension": ".py",
   "mimetype": "text/x-python",
   "name": "python",
   "nbconvert_exporter": "python",
   "pygments_lexer": "ipython3",
   "version": "3.11.4"
  }
 },
 "nbformat": 4,
 "nbformat_minor": 5
}
