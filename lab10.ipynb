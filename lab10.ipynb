{
 "cells": [
  {
   "cell_type": "markdown",
   "id": "3f2d1f0d-d46b-43cf-a98c-2ab6dee97cab",
   "metadata": {},
   "source": [
    "# Game of Life"
   ]
  },
  {
   "cell_type": "markdown",
   "id": "17194c48-87be-4f45-97b1-e72ab8330945",
   "metadata": {},
   "source": [
    "### Importy"
   ]
  },
  {
   "cell_type": "code",
   "execution_count": null,
   "id": "ab342f22-dd96-460a-8853-dbcce5873613",
   "metadata": {},
   "outputs": [],
   "source": [
    "import math\n",
    "import random\n",
    "import pygame\n",
    "import numpy as np\n",
    "import pandas as pd\n",
    "import matplotlib.pyplot as plt"
   ]
  },
  {
   "cell_type": "markdown",
   "id": "93b61c9d-e117-488e-be2c-523ee2b38163",
   "metadata": {},
   "source": [
    "## zad.17\n",
    "Zaimplementuj wizualizację automatu komórkowego Gra w Życie z wykorzystaniem pygame. Zakładamy periodyczne warunki brzegowe. Liczba komórek, rozmiar okna, rozmiar komórki na ekranie mogą być zaszyte w kodzie na sztywno. Program ma umożliwiać:\n",
    "- Wstrzymanie / wznowienie symulacji (pauza - np. przez wciśnięcie spacji na klawiaturze).\n",
    "- Wylosowanie warunku początkowego (np. przy każdym naciśnięciu przycisku enter losujemy nowy warunek).\n",
    "- Zwiększenie / zmniejszenie prędkości symulacji (np. przez wciśnięcie strzałki w górę / w dół na klawiaturze).\n",
    "\n",
    "Dodatkowo program powinien umożliwiać conajmniej jedną z następujących operacji:\n",
    "- Ustalanie konfiguracji początkowej przez klikanie myszką w poszczególne komórki (kliknięcie zmieni stan na przeciwny).\n",
    "- Poza losowymi warunkami początkowymi, udostępnienie użytkownikowi kilku zapisanych konfiguracji - np. pokazujących glider, glider gun, space ship.\n",
    "- Możliwość zmiany reguły z tradycyjnej Game of Life na inne reguły \"life-like\" np. HighLife, Life without Death, 34 Life, Seeds …\n",
    "- Wizualizację zmieniających się stanów - odróżnienie w wizualizacji \"nowej\" od \"starej\" 1. Czyli np. jeśli dana komórka dopiero co przeszła z 0 na 1, to przez chwilę będzie rysowana jaśniejszym kolorem, niż komórka, która była w stanie 1 już wcześniej. (Podobnie można zrobić dla 0, czyli świeżo \"umarłe\" komórki zaznaczać na przykład na szaro.) W ten sposób choć automat nadal będzie 2-stanowy, to pokażemy niejako więcej stanów ale jedynie na poziomie wizualizacji a nie reguły CA."
   ]
  },
  {
   "cell_type": "code",
   "execution_count": null,
   "id": "481a8c7a-5356-43aa-a2cf-cd6523359047",
   "metadata": {},
   "outputs": [],
   "source": []
  }
 ],
 "metadata": {
  "kernelspec": {
   "display_name": "Python 3 (ipykernel)",
   "language": "python",
   "name": "python3"
  },
  "language_info": {
   "codemirror_mode": {
    "name": "ipython",
    "version": 3
   },
   "file_extension": ".py",
   "mimetype": "text/x-python",
   "name": "python",
   "nbconvert_exporter": "python",
   "pygments_lexer": "ipython3",
   "version": "3.10.0"
  }
 },
 "nbformat": 4,
 "nbformat_minor": 5
}
