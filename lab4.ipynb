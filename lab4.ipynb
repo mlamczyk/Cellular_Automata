{
 "cells": [
  {
   "cell_type": "markdown",
   "metadata": {},
   "source": [
    "## Wczytywanie konfiguracji pana Marcina\n",
    "Pliki z konfiguracjami można pobrać z https://github.com/D3M80L/CA/tree/master/phd/data."
   ]
  },
  {
   "cell_type": "markdown",
   "metadata": {},
   "source": [
    "### Importy"
   ]
  },
  {
   "cell_type": "code",
   "execution_count": 1,
   "metadata": {},
   "outputs": [],
   "source": [
    "import math\n",
    "import numpy as np"
   ]
  },
  {
   "cell_type": "markdown",
   "metadata": {},
   "source": [
    "Funkcja konwertująca ciąg bajtów na binarną reprezentację. Zwraca tablicę N pierwszych bitów:"
   ]
  },
  {
   "cell_type": "code",
   "execution_count": 3,
   "metadata": {},
   "outputs": [],
   "source": [
    "def convert_configuration(configuration: bytes, N: int):\n",
    "    binary_str = ''.join(f'{byte:08b}' for byte in configuration)\n",
    "    return np.array([int(bit) for bit in binary_str[:N]])\n"
   ]
  },
  {
   "cell_type": "markdown",
   "metadata": {},
   "source": [
    "Funkcja wczytująca wszystkie konfiguracje z pliku do pamięci operacyjnej:"
   ]
  },
  {
   "cell_type": "code",
   "execution_count": 4,
   "metadata": {},
   "outputs": [],
   "source": [
    "def configuration_reader(file_name: str, N: int, negate: bool):\n",
    "    bytes_per_configuration = math.ceil(N / 8)\n",
    "    configurations = []\n",
    "\n",
    "    with open(file_name, 'rb') as file:\n",
    "        while True:\n",
    "            bytes_read = file.read(bytes_per_configuration)\n",
    "            if not bytes_read:\n",
    "                break\n",
    "\n",
    "            cfg = convert_configuration(bytes_read, N)\n",
    "            configurations.append(cfg)\n",
    "            \n",
    "            if negate:\n",
    "                configurations.append(1 - cfg)\n",
    "\n",
    "    return np.stack(configurations)\n"
   ]
  },
  {
   "cell_type": "markdown",
   "metadata": {},
   "source": [
    "- Pierwszy argument (str): nazwa pliku, zktórego chcemy pobrać konfiguracje.\n",
    "- Drugi argument (int): długość konfiguracji zapisanych w pliku.\n",
    "- Trzeci argument (bool): czy w wynikowej liście mają znaleźć się też \"zanegowane\" konfiguracje; False - konfiguracje będą miały gęstość mniejszą niż 0.5; True - konfiguracje, których gęstość jest mniejsza jaki i większa od 0.5."
   ]
  },
  {
   "cell_type": "markdown",
   "metadata": {},
   "source": [
    "Przykład użycia:"
   ]
  },
  {
   "cell_type": "code",
   "execution_count": 5,
   "metadata": {},
   "outputs": [],
   "source": [
    "configurations = configuration_reader(\"ALL_N21.bin\", 21, True)\n",
    "configurations2 = configuration_reader(\"ALL_N21.bin\", 21, False)"
   ]
  },
  {
   "cell_type": "code",
   "execution_count": 6,
   "metadata": {},
   "outputs": [
    {
     "name": "stdout",
     "output_type": "stream",
     "text": [
      "[[0 0 0 0 0 0 0 0 0 0 0 1 1 1 1 1 1 1 1 1 1]\n",
      " [1 1 1 1 1 1 1 1 1 1 1 0 0 0 0 0 0 0 0 0 0]\n",
      " [0 0 0 0 0 0 0 0 0 0 1 0 1 1 1 1 1 1 1 1 1]\n",
      " [1 1 1 1 1 1 1 1 1 1 0 1 0 0 0 0 0 0 0 0 0]\n",
      " [0 0 0 0 0 0 0 0 0 0 1 1 0 1 1 1 1 1 1 1 1]\n",
      " [1 1 1 1 1 1 1 1 1 1 0 0 1 0 0 0 0 0 0 0 0]\n",
      " [0 0 0 0 0 0 0 0 0 0 1 1 1 0 1 1 1 1 1 1 1]\n",
      " [1 1 1 1 1 1 1 1 1 1 0 0 0 1 0 0 0 0 0 0 0]\n",
      " [0 0 0 0 0 0 0 0 0 0 1 1 1 1 0 1 1 1 1 1 1]\n",
      " [1 1 1 1 1 1 1 1 1 1 0 0 0 0 1 0 0 0 0 0 0]]\n",
      "[[0 0 0 0 0 0 0 0 0 0 0 1 1 1 1 1 1 1 1 1 1]\n",
      " [0 0 0 0 0 0 0 0 0 0 1 0 1 1 1 1 1 1 1 1 1]\n",
      " [0 0 0 0 0 0 0 0 0 0 1 1 0 1 1 1 1 1 1 1 1]\n",
      " [0 0 0 0 0 0 0 0 0 0 1 1 1 0 1 1 1 1 1 1 1]\n",
      " [0 0 0 0 0 0 0 0 0 0 1 1 1 1 0 1 1 1 1 1 1]\n",
      " [0 0 0 0 0 0 0 0 0 0 1 1 1 1 1 0 1 1 1 1 1]\n",
      " [0 0 0 0 0 0 0 0 0 0 1 1 1 1 1 1 0 1 1 1 1]\n",
      " [0 0 0 0 0 0 0 0 0 0 1 1 1 1 1 1 1 0 1 1 1]\n",
      " [0 0 0 0 0 0 0 0 0 0 1 1 1 1 1 1 1 1 0 1 1]\n",
      " [0 0 0 0 0 0 0 0 0 0 1 1 1 1 1 1 1 1 1 0 1]]\n"
     ]
    }
   ],
   "source": [
    "print(configurations[0:10])\n",
    "print(configurations2[0:10])"
   ]
  },
  {
   "cell_type": "markdown",
   "metadata": {},
   "source": [
    "---"
   ]
  },
  {
   "cell_type": "markdown",
   "metadata": {
    "id": "qtMrNhNqO8an"
   },
   "source": [
    "# zad.7\n",
    "ECAs to nie są dobre, przybliżone rozwiązania DCP. Sprawdź jak słabo\n",
    "sobie radzą! To znaczy dla ustalonego N, przebadaj wszystkie ECAs dając im limit\n",
    "czasu i wylicz dla jakiego % wszystkich konfiguracji początkowych\n",
    "otrzymaną poprawną klasyfikację gęstości. Zaprezentuj wyniki w postaci listy par\n",
    "(numer reguły, % poprawnych klasyfikacji), np.\n",
    "\n",
    "(0, 50%)\n",
    "\n",
    "...\n",
    "\n",
    "(255, 50%)\n",
    "\n",
    "Znajdź / wyróżnij regułę, która ma największy wśród ECAs % poprawnych\n",
    "klasyfikacji."
   ]
  },
  {
   "cell_type": "code",
   "execution_count": null,
   "metadata": {
    "id": "12s1NrxmO-aW"
   },
   "outputs": [],
   "source": []
  },
  {
   "cell_type": "code",
   "execution_count": null,
   "metadata": {},
   "outputs": [],
   "source": []
  },
  {
   "cell_type": "markdown",
   "metadata": {},
   "source": [
    "# zad.8\n",
    "Henryk Fukś pokazał, że idealne rozwiązanie DCP można uzyskać stosując ECA 184 przez \"połowę czasu\" a następnie ECA 232 przez następną \n",
    "połowę czasu.\n",
    "\n",
    "Stosując wybrany “zbiór Marcina” lub zbiór wygenerowany losowo sprawdź czy odkrycie prof. Fuksia daje się odtworzyć eksperymentalnie.\n",
    "\n",
    "Wariant (*) czy poza ECA 184 istnieją inne ECAs, które w powiązaniu z ECA 232 dają taką własność? Chodzi o inną parę ECA x, ECA 232 lub ewentualnie ECA x, ECA y, które stosowane tak jak przez prof. Fuksia rozwiązują DCP dokładnie."
   ]
  },
  {
   "cell_type": "code",
   "execution_count": null,
   "metadata": {},
   "outputs": [],
   "source": []
  },
  {
   "cell_type": "code",
   "execution_count": null,
   "metadata": {},
   "outputs": [],
   "source": []
  },
  {
   "cell_type": "markdown",
   "metadata": {},
   "source": [
    "# zad.9\n",
    "Zapoznaj się z wynikami z artykułu: *Mendonça, J. R. G. (2019).* **Simply modified GKL density classifiers that reach consensus faster.** *Physics Letters A, 383(19), 2264–2266.* doi:10.1016/j.physleta.2019.04.033 (https://sci-hub.se/https://www.sciencedirect.com/science/article/abs/pii/S0375960119303512?via=ihub).\n",
    "\n",
    "Spróbuj powtórzyć eksperymenty tam wykonane dla wybranego N dla którego mamy \"zbiór Marcina\" badając średni czas klasyfikacji oraz % poprawnych klasyfikacji dla reguł GKL(j, k) dla kilku przypadków j, k.\n",
    "\n",
    "Otrzymane wyniki porównaj z tymi z Zadania 7. To znaczy jak bardzo lepsze są najlepsze reguły GKL, które uda Ci się znaleźć w porównaniu do najlepszych ECAs."
   ]
  },
  {
   "cell_type": "code",
   "execution_count": null,
   "metadata": {},
   "outputs": [],
   "source": []
  },
  {
   "cell_type": "code",
   "execution_count": null,
   "metadata": {},
   "outputs": [],
   "source": []
  },
  {
   "cell_type": "markdown",
   "metadata": {},
   "source": [
    "# zad.10(*)\n",
    "Sprawdź jak wybór zbioru testowych warunków początkowych wypływa na wyniki eksperymentów z Zadania 8.\n",
    "\n",
    "Czy jesteś w stanie znaleźć przykład parametrów N (liczba komórek), num_conf (liczba losowanych warunków w zbiorze), p (prawdopodobieństwo 0 w \n",
    "komórce) do losowania, aby pokazać, że eliminacja duplikatów (shift-equal) ma znaczenie - tj. niechlujne dobranie \"losowego\" zbioru warunków początkowych zawyża / zaniża szacowaną jakość klasyfikacji.\n",
    "\n",
    "**Podpowiedź**: Możesz porównać wyniki otrzymane na wybranym \"zbiorze Marcina\" z wynikami na zbiorze otrzymanym w zwykłym losowaniu dla konkretnego N."
   ]
  },
  {
   "cell_type": "code",
   "execution_count": null,
   "metadata": {},
   "outputs": [],
   "source": []
  }
 ],
 "metadata": {
  "colab": {
   "authorship_tag": "ABX9TyMJf+qpAPLl1PwDi/TtiVYG",
   "provenance": []
  },
  "kernelspec": {
   "display_name": "Python 3 (ipykernel)",
   "language": "python",
   "name": "python3"
  },
  "language_info": {
   "codemirror_mode": {
    "name": "ipython",
    "version": 3
   },
   "file_extension": ".py",
   "mimetype": "text/x-python",
   "name": "python",
   "nbconvert_exporter": "python",
   "pygments_lexer": "ipython3",
   "version": "3.10.0"
  }
 },
 "nbformat": 4,
 "nbformat_minor": 4
}
