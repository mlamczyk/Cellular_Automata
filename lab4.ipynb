{
 "cells": [
  {
   "cell_type": "markdown",
   "metadata": {},
   "source": [
    "# Problem klasyfikacji gęstości (DCP)"
   ]
  },
  {
   "cell_type": "markdown",
   "metadata": {},
   "source": [
    "### Importy"
   ]
  },
  {
   "cell_type": "code",
   "execution_count": 1,
   "metadata": {},
   "outputs": [],
   "source": [
    "import math\n",
    "import numpy as np\n",
    "from operator import itemgetter"
   ]
  },
  {
   "cell_type": "markdown",
   "metadata": {},
   "source": [
    "Funkcje generujące diagram czasoprzestrzenny:"
   ]
  },
  {
   "cell_type": "code",
   "execution_count": 2,
   "metadata": {},
   "outputs": [],
   "source": [
    "def eca_get_lut(rule_num: int) -> np.ndarray:\n",
    "    return np.array([int(x) for x in bin(rule_num)[2:].zfill(8)], dtype=np.uint8)\n",
    "\n",
    "def eca_evolve(lut: np.ndarray, x: np.ndarray) -> np.ndarray:\n",
    "    return lut[7 - (np.roll(x, 1) * 4 + x * 2 + np.roll(x, -1))]\n",
    "\n",
    "def eca_evolve_spacetime(lut: np.ndarray, initial_conf: np.ndarray, steps: int) -> np.ndarray:\n",
    "    rows = [initial_conf]\n",
    "    for _ in range(1, steps):\n",
    "        rows.append(eca_evolve(lut, rows[-1]))\n",
    "    return np.stack(rows)\n"
   ]
  },
  {
   "cell_type": "markdown",
   "metadata": {},
   "source": [
    "Funkcja do losowania konfiguracji początkowej:"
   ]
  },
  {
   "cell_type": "code",
   "execution_count": 3,
   "metadata": {},
   "outputs": [],
   "source": [
    "def generate_random_initial_configuration(length: int) -> np.ndarray:\n",
    "    return np.random.randint(2, size=length)"
   ]
  },
  {
   "cell_type": "markdown",
   "metadata": {},
   "source": [
    "## Wczytywanie konfiguracji pana Marcina\n",
    "Pliki z konfiguracjami można pobrać z https://github.com/D3M80L/CA/tree/master/phd/data."
   ]
  },
  {
   "cell_type": "markdown",
   "metadata": {},
   "source": [
    "Funkcja konwertująca ciąg bajtów na binarną reprezentację. Zwraca tablicę N pierwszych bitów:"
   ]
  },
  {
   "cell_type": "code",
   "execution_count": 4,
   "metadata": {},
   "outputs": [],
   "source": [
    "def convert_configuration(configuration: bytes, N: int):\n",
    "    binary_str = ''.join(f'{byte:08b}' for byte in configuration)\n",
    "    return np.array([int(bit) for bit in binary_str[:N]])\n"
   ]
  },
  {
   "cell_type": "markdown",
   "metadata": {},
   "source": [
    "Funkcja wczytująca wszystkie konfiguracje z pliku do pamięci operacyjnej:"
   ]
  },
  {
   "cell_type": "code",
   "execution_count": 5,
   "metadata": {},
   "outputs": [],
   "source": [
    "def configuration_reader(file_name: str, N: int, negate: bool):\n",
    "    bytes_per_configuration = math.ceil(N / 8)\n",
    "    configurations = []\n",
    "\n",
    "    with open(file_name, 'rb') as file:\n",
    "        while True:\n",
    "            bytes_read = file.read(bytes_per_configuration)\n",
    "            if not bytes_read:\n",
    "                break\n",
    "\n",
    "            cfg = convert_configuration(bytes_read, N)\n",
    "            configurations.append(cfg)\n",
    "            \n",
    "            if negate:\n",
    "                configurations.append(1 - cfg)\n",
    "\n",
    "    return np.stack(configurations)\n"
   ]
  },
  {
   "cell_type": "markdown",
   "metadata": {},
   "source": [
    "- Pierwszy argument (str): nazwa pliku, zktórego chcemy pobrać konfiguracje.\n",
    "- Drugi argument (int): długość konfiguracji zapisanych w pliku.\n",
    "- Trzeci argument (bool): czy w wynikowej liście mają znaleźć się też \"zanegowane\" konfiguracje; False - konfiguracje będą miały gęstość mniejszą niż 0.5; True - konfiguracje, których gęstość jest mniejsza jaki i większa od 0.5."
   ]
  },
  {
   "cell_type": "markdown",
   "metadata": {},
   "source": [
    "Przykład użycia:"
   ]
  },
  {
   "cell_type": "code",
   "execution_count": 6,
   "metadata": {},
   "outputs": [],
   "source": [
    "configurations = configuration_reader(\"ALL_N21.bin\", 21, True)\n",
    "configurations2 = configuration_reader(\"ALL_N21.bin\", 21, False)"
   ]
  },
  {
   "cell_type": "code",
   "execution_count": 7,
   "metadata": {},
   "outputs": [
    {
     "name": "stdout",
     "output_type": "stream",
     "text": [
      "[[0 0 0 0 0 0 0 0 0 0 0 1 1 1 1 1 1 1 1 1 1]\n",
      " [1 1 1 1 1 1 1 1 1 1 1 0 0 0 0 0 0 0 0 0 0]\n",
      " [0 0 0 0 0 0 0 0 0 0 1 0 1 1 1 1 1 1 1 1 1]\n",
      " [1 1 1 1 1 1 1 1 1 1 0 1 0 0 0 0 0 0 0 0 0]\n",
      " [0 0 0 0 0 0 0 0 0 0 1 1 0 1 1 1 1 1 1 1 1]\n",
      " [1 1 1 1 1 1 1 1 1 1 0 0 1 0 0 0 0 0 0 0 0]\n",
      " [0 0 0 0 0 0 0 0 0 0 1 1 1 0 1 1 1 1 1 1 1]\n",
      " [1 1 1 1 1 1 1 1 1 1 0 0 0 1 0 0 0 0 0 0 0]\n",
      " [0 0 0 0 0 0 0 0 0 0 1 1 1 1 0 1 1 1 1 1 1]\n",
      " [1 1 1 1 1 1 1 1 1 1 0 0 0 0 1 0 0 0 0 0 0]]\n",
      "[[0 0 0 0 0 0 0 0 0 0 0 1 1 1 1 1 1 1 1 1 1]\n",
      " [0 0 0 0 0 0 0 0 0 0 1 0 1 1 1 1 1 1 1 1 1]\n",
      " [0 0 0 0 0 0 0 0 0 0 1 1 0 1 1 1 1 1 1 1 1]\n",
      " [0 0 0 0 0 0 0 0 0 0 1 1 1 0 1 1 1 1 1 1 1]\n",
      " [0 0 0 0 0 0 0 0 0 0 1 1 1 1 0 1 1 1 1 1 1]\n",
      " [0 0 0 0 0 0 0 0 0 0 1 1 1 1 1 0 1 1 1 1 1]\n",
      " [0 0 0 0 0 0 0 0 0 0 1 1 1 1 1 1 0 1 1 1 1]\n",
      " [0 0 0 0 0 0 0 0 0 0 1 1 1 1 1 1 1 0 1 1 1]\n",
      " [0 0 0 0 0 0 0 0 0 0 1 1 1 1 1 1 1 1 0 1 1]\n",
      " [0 0 0 0 0 0 0 0 0 0 1 1 1 1 1 1 1 1 1 0 1]]\n"
     ]
    }
   ],
   "source": [
    "print(configurations[0:10])\n",
    "print(configurations2[0:10])"
   ]
  },
  {
   "cell_type": "markdown",
   "metadata": {},
   "source": [
    "---"
   ]
  },
  {
   "cell_type": "markdown",
   "metadata": {
    "id": "qtMrNhNqO8an"
   },
   "source": [
    "# zad.7\n",
    "ECAs to nie są dobre, przybliżone rozwiązania DCP. Sprawdź jak słabo\n",
    "sobie radzą! To znaczy dla ustalonego N, przebadaj wszystkie ECAs dając im limit\n",
    "czasu i wylicz dla jakiego % wszystkich konfiguracji początkowych\n",
    "otrzymaną poprawną klasyfikację gęstości. Zaprezentuj wyniki w postaci listy par\n",
    "(numer reguły, % poprawnych klasyfikacji), np.\n",
    "\n",
    "(0, 50%)\n",
    "\n",
    "...\n",
    "\n",
    "(255, 50%)\n",
    "\n",
    "Znajdź / wyróżnij regułę, która ma największy wśród ECAs % poprawnych\n",
    "klasyfikacji."
   ]
  },
  {
   "cell_type": "code",
   "execution_count": null,
   "metadata": {
    "id": "12s1NrxmO-aW"
   },
   "outputs": [],
   "source": [
    "# gęstość konfiguracji po N krokach porównujemy z gęstością konfiguracji początkowej\n",
    "# konfiguracje początkowe do badania weźmiemy z pliku ALL_N21.bin\n",
    "# limit czasu to jest maksymalna długość kroków w diagramie czasoprzestrzennym"
   ]
  },
  {
   "cell_type": "code",
   "execution_count": 10,
   "metadata": {},
   "outputs": [],
   "source": [
    "def dcp(rule_num, initial_config, steps):\n",
    "    initial_density = sum(initial_config)/len(initial_config)\n",
    "    lut = eca_get_lut(rule_num)\n",
    "    config = eca_evolve_spacetime(lut, initial_config, steps)[-1]\n",
    "    result_density = sum(config)/len(config)\n",
    "\n",
    "    if initial_density < 0.5 and result_density < 0.5:\n",
    "        return 1\n",
    "    elif initial_density > 0.5 and result_density > 0.5:\n",
    "        return 1\n",
    "    return 0"
   ]
  },
  {
   "cell_type": "code",
   "execution_count": 12,
   "metadata": {},
   "outputs": [
    {
     "data": {
      "text/plain": [
       "99880"
      ]
     },
     "execution_count": 12,
     "metadata": {},
     "output_type": "execute_result"
    }
   ],
   "source": [
    "len(configurations)"
   ]
  },
  {
   "cell_type": "code",
   "execution_count": 13,
   "metadata": {},
   "outputs": [
    {
     "name": "stdout",
     "output_type": "stream",
     "text": [
      "Rule 0...\n",
      "(0, 0.5)\n",
      "Rule 1...\n",
      "(1, 0.58546)\n",
      "Rule 2...\n",
      "(2, 0.5)\n",
      "Rule 3...\n",
      "(3, 0.71023)\n",
      "Rule 4...\n",
      "(4, 0.5)\n",
      "Rule 5...\n",
      "(5, 0.71023)\n",
      "Rule 6...\n",
      "(6, 0.5)\n",
      "Rule 7...\n",
      "(7, 0.85408)\n",
      "Rule 8...\n",
      "(8, 0.5)\n",
      "Rule 9...\n",
      "(9, 0.48475)\n",
      "Rule 10...\n",
      "(10, 0.5)\n",
      "Rule 11...\n",
      "(11, 0.68522)\n",
      "Rule 12...\n",
      "(12, 0.5)\n",
      "Rule 13...\n",
      "(13, 0.50001)\n",
      "Rule 14...\n",
      "(14, 0.57869)\n",
      "Rule 15...\n",
      "(15, 1.0)\n",
      "Rule 16...\n",
      "(16, 0.5)\n",
      "Rule 17...\n",
      "(17, 0.71023)\n",
      "Rule 18...\n",
      "(18, 0.5)\n",
      "Rule 19...\n",
      "(19, 0.77703)\n",
      "Rule 20...\n",
      "(20, 0.5)\n",
      "Rule 21...\n",
      "(21, 0.85408)\n",
      "Rule 22...\n",
      "(22, 0.5029)\n",
      "Rule 23...\n",
      "(23, 0.8963)\n",
      "Rule 24...\n",
      "(24, 0.5)\n",
      "Rule 25...\n",
      "(25, 0.51822)\n",
      "Rule 26...\n",
      "(26, 0.53868)\n",
      "Rule 27...\n",
      "(27, 0.74534)\n",
      "Rule 28...\n",
      "(28, 0.63075)\n",
      "Rule 29...\n",
      "(29, 1.0)\n",
      "Rule 30...\n",
      "(30, 0.50095)\n",
      "Rule 31...\n",
      "(31, 0.85408)\n",
      "Rule 32...\n",
      "(32, 0.5)\n",
      "Rule 33...\n",
      "(33, 0.66419)\n",
      "Rule 34...\n",
      "(34, 0.5)\n",
      "Rule 35...\n",
      "(35, 0.65309)\n",
      "Rule 36...\n",
      "(36, 0.5)\n",
      "Rule 37...\n",
      "(37, 0.53275)\n",
      "Rule 38...\n",
      "(38, 0.50381)\n",
      "Rule 39...\n",
      "(39, 0.74534)\n",
      "Rule 40...\n",
      "(40, 0.50019)\n",
      "Rule 41...\n",
      "(41, 0.51456)\n",
      "Rule 42...\n",
      "(42, 0.53374)\n",
      "Rule 43...\n",
      "(43, 0.75212)\n",
      "Rule 44...\n",
      "(44, 0.50001)\n",
      "Rule 45...\n",
      "(45, 0.49389)\n",
      "Rule 46...\n",
      "(46, 0.5)\n",
      "Rule 47...\n",
      "(47, 0.68522)\n",
      "Rule 48...\n",
      "(48, 0.5)\n",
      "Rule 49...\n",
      "(49, 0.65309)\n",
      "Rule 50...\n",
      "(50, 0.45986)\n",
      "Rule 51...\n",
      "(51, 1.0)\n",
      "Rule 52...\n",
      "(52, 0.50381)\n",
      "Rule 53...\n",
      "(53, 0.74534)\n",
      "Rule 54...\n",
      "(54, 0.49151)\n",
      "Rule 55...\n",
      "(55, 0.77703)\n",
      "Rule 56...\n",
      "(56, 0.53374)\n",
      "Rule 57...\n",
      "(57, 0.62113)\n",
      "Rule 58...\n",
      "(58, 0.5)\n",
      "Rule 59...\n",
      "(59, 0.65309)\n",
      "Rule 60...\n",
      "(60, 0.5)\n",
      "Rule 61...\n",
      "(61, 0.51822)\n",
      "Rule 62...\n",
      "(62, 0.49682)\n",
      "Rule 63...\n",
      "(63, 0.71023)\n",
      "Rule 64...\n",
      "(64, 0.5)\n",
      "Rule 65...\n",
      "(65, 0.48475)\n",
      "Rule 66...\n",
      "(66, 0.5)\n",
      "Rule 67...\n",
      "(67, 0.51822)\n",
      "Rule 68...\n",
      "(68, 0.5)\n",
      "Rule 69...\n",
      "(69, 0.50001)\n",
      "Rule 70...\n",
      "(70, 0.63075)\n",
      "Rule 71...\n",
      "(71, 1.0)\n",
      "Rule 72...\n",
      "(72, 0.50018)\n",
      "Rule 73...\n",
      "(73, 0.477)\n",
      "Rule 74...\n",
      "(74, 0.50197)\n",
      "Rule 75...\n",
      "(75, 0.49389)\n",
      "Rule 76...\n",
      "(76, 0.53374)\n",
      "Rule 77...\n",
      "(77, 0.45987)\n",
      "Rule 78...\n",
      "(78, 0.5)\n",
      "Rule 79...\n",
      "(79, 0.50001)\n",
      "Rule 80...\n",
      "(80, 0.5)\n",
      "Rule 81...\n",
      "(81, 0.68522)\n",
      "Rule 82...\n",
      "(82, 0.53868)\n",
      "Rule 83...\n",
      "(83, 0.74534)\n",
      "Rule 84...\n",
      "(84, 0.57869)\n",
      "Rule 85...\n",
      "(85, 1.0)\n",
      "Rule 86...\n",
      "(86, 0.50095)\n",
      "Rule 87...\n",
      "(87, 0.85408)\n",
      "Rule 88...\n",
      "(88, 0.50197)\n",
      "Rule 89...\n",
      "(89, 0.49389)\n",
      "Rule 90...\n",
      "(90, 0.5)\n",
      "Rule 91...\n",
      "(91, 0.53275)\n",
      "Rule 92...\n",
      "(92, 0.5)\n",
      "Rule 93...\n",
      "(93, 0.50001)\n",
      "Rule 94...\n",
      "(94, 0.51323)\n",
      "Rule 95...\n",
      "(95, 0.71023)\n",
      "Rule 96...\n",
      "(96, 0.50019)\n",
      "Rule 97...\n",
      "(97, 0.51456)\n",
      "Rule 98...\n",
      "(98, 0.53374)\n",
      "Rule 99...\n",
      "(99, 0.62113)\n",
      "Rule 100...\n",
      "(100, 0.50001)\n",
      "Rule 101...\n",
      "(101, 0.49389)\n",
      "Rule 102...\n",
      "(102, 0.5)\n",
      "Rule 103...\n",
      "(103, 0.51822)\n",
      "Rule 104...\n",
      "(104, 0.5)\n",
      "Rule 105...\n"
     ]
    },
    {
     "ename": "KeyboardInterrupt",
     "evalue": "",
     "output_type": "error",
     "traceback": [
      "\u001b[1;31m---------------------------------------------------------------------------\u001b[0m",
      "\u001b[1;31mKeyboardInterrupt\u001b[0m                         Traceback (most recent call last)",
      "Cell \u001b[1;32mIn[13], line 5\u001b[0m\n\u001b[0;32m      3\u001b[0m \u001b[38;5;28;01mfor\u001b[39;00m rule \u001b[38;5;129;01min\u001b[39;00m \u001b[38;5;28mrange\u001b[39m(\u001b[38;5;241m256\u001b[39m):\n\u001b[0;32m      4\u001b[0m     \u001b[38;5;28mprint\u001b[39m(\u001b[38;5;124mf\u001b[39m\u001b[38;5;124m'\u001b[39m\u001b[38;5;124mRule \u001b[39m\u001b[38;5;132;01m{\u001b[39;00mrule\u001b[38;5;132;01m}\u001b[39;00m\u001b[38;5;124m...\u001b[39m\u001b[38;5;124m'\u001b[39m)\n\u001b[1;32m----> 5\u001b[0m     l \u001b[38;5;241m=\u001b[39m [dcp(rule, config, \u001b[38;5;241m21\u001b[39m) \u001b[38;5;28;01mfor\u001b[39;00m config \u001b[38;5;129;01min\u001b[39;00m configurations]\n\u001b[0;32m      6\u001b[0m     results\u001b[38;5;241m.\u001b[39mappend((rule, \u001b[38;5;28mround\u001b[39m(\u001b[38;5;28msum\u001b[39m(l)\u001b[38;5;241m/\u001b[39m\u001b[38;5;28mlen\u001b[39m(configurations),\u001b[38;5;241m5\u001b[39m)))\n\u001b[0;32m      7\u001b[0m     \u001b[38;5;28mprint\u001b[39m(results[\u001b[38;5;241m-\u001b[39m\u001b[38;5;241m1\u001b[39m])\n",
      "Cell \u001b[1;32mIn[13], line 5\u001b[0m, in \u001b[0;36m<listcomp>\u001b[1;34m(.0)\u001b[0m\n\u001b[0;32m      3\u001b[0m \u001b[38;5;28;01mfor\u001b[39;00m rule \u001b[38;5;129;01min\u001b[39;00m \u001b[38;5;28mrange\u001b[39m(\u001b[38;5;241m256\u001b[39m):\n\u001b[0;32m      4\u001b[0m     \u001b[38;5;28mprint\u001b[39m(\u001b[38;5;124mf\u001b[39m\u001b[38;5;124m'\u001b[39m\u001b[38;5;124mRule \u001b[39m\u001b[38;5;132;01m{\u001b[39;00mrule\u001b[38;5;132;01m}\u001b[39;00m\u001b[38;5;124m...\u001b[39m\u001b[38;5;124m'\u001b[39m)\n\u001b[1;32m----> 5\u001b[0m     l \u001b[38;5;241m=\u001b[39m [\u001b[43mdcp\u001b[49m\u001b[43m(\u001b[49m\u001b[43mrule\u001b[49m\u001b[43m,\u001b[49m\u001b[43m \u001b[49m\u001b[43mconfig\u001b[49m\u001b[43m,\u001b[49m\u001b[43m \u001b[49m\u001b[38;5;241;43m21\u001b[39;49m\u001b[43m)\u001b[49m \u001b[38;5;28;01mfor\u001b[39;00m config \u001b[38;5;129;01min\u001b[39;00m configurations]\n\u001b[0;32m      6\u001b[0m     results\u001b[38;5;241m.\u001b[39mappend((rule, \u001b[38;5;28mround\u001b[39m(\u001b[38;5;28msum\u001b[39m(l)\u001b[38;5;241m/\u001b[39m\u001b[38;5;28mlen\u001b[39m(configurations),\u001b[38;5;241m5\u001b[39m)))\n\u001b[0;32m      7\u001b[0m     \u001b[38;5;28mprint\u001b[39m(results[\u001b[38;5;241m-\u001b[39m\u001b[38;5;241m1\u001b[39m])\n",
      "Cell \u001b[1;32mIn[10], line 4\u001b[0m, in \u001b[0;36mdcp\u001b[1;34m(rule_num, initial_config, steps)\u001b[0m\n\u001b[0;32m      2\u001b[0m initial_density \u001b[38;5;241m=\u001b[39m \u001b[38;5;28msum\u001b[39m(initial_config)\u001b[38;5;241m/\u001b[39m\u001b[38;5;28mlen\u001b[39m(initial_config)\n\u001b[0;32m      3\u001b[0m lut \u001b[38;5;241m=\u001b[39m eca_get_lut(rule_num)\n\u001b[1;32m----> 4\u001b[0m config \u001b[38;5;241m=\u001b[39m \u001b[43meca_evolve_spacetime\u001b[49m\u001b[43m(\u001b[49m\u001b[43mlut\u001b[49m\u001b[43m,\u001b[49m\u001b[43m \u001b[49m\u001b[43minitial_config\u001b[49m\u001b[43m,\u001b[49m\u001b[43m \u001b[49m\u001b[43msteps\u001b[49m\u001b[43m)\u001b[49m[\u001b[38;5;241m-\u001b[39m\u001b[38;5;241m1\u001b[39m]\n\u001b[0;32m      5\u001b[0m result_density \u001b[38;5;241m=\u001b[39m \u001b[38;5;28msum\u001b[39m(config)\u001b[38;5;241m/\u001b[39m\u001b[38;5;28mlen\u001b[39m(config)\n\u001b[0;32m      7\u001b[0m \u001b[38;5;28;01mif\u001b[39;00m initial_density \u001b[38;5;241m<\u001b[39m \u001b[38;5;241m0.5\u001b[39m \u001b[38;5;129;01mand\u001b[39;00m result_density \u001b[38;5;241m<\u001b[39m \u001b[38;5;241m0.5\u001b[39m:\n",
      "Cell \u001b[1;32mIn[2], line 11\u001b[0m, in \u001b[0;36meca_evolve_spacetime\u001b[1;34m(lut, initial_conf, steps)\u001b[0m\n\u001b[0;32m      9\u001b[0m \u001b[38;5;28;01mfor\u001b[39;00m _ \u001b[38;5;129;01min\u001b[39;00m \u001b[38;5;28mrange\u001b[39m(\u001b[38;5;241m1\u001b[39m, steps):\n\u001b[0;32m     10\u001b[0m     rows\u001b[38;5;241m.\u001b[39mappend(eca_evolve(lut, rows[\u001b[38;5;241m-\u001b[39m\u001b[38;5;241m1\u001b[39m]))\n\u001b[1;32m---> 11\u001b[0m \u001b[38;5;28;01mreturn\u001b[39;00m \u001b[43mnp\u001b[49m\u001b[38;5;241;43m.\u001b[39;49m\u001b[43mstack\u001b[49m\u001b[43m(\u001b[49m\u001b[43mrows\u001b[49m\u001b[43m)\u001b[49m\n",
      "File \u001b[1;32m~\\repos\\Cellular_Automata\\venv\\lib\\site-packages\\numpy\\core\\shape_base.py:456\u001b[0m, in \u001b[0;36mstack\u001b[1;34m(arrays, axis, out, dtype, casting)\u001b[0m\n\u001b[0;32m    454\u001b[0m sl \u001b[38;5;241m=\u001b[39m (\u001b[38;5;28mslice\u001b[39m(\u001b[38;5;28;01mNone\u001b[39;00m),) \u001b[38;5;241m*\u001b[39m axis \u001b[38;5;241m+\u001b[39m (_nx\u001b[38;5;241m.\u001b[39mnewaxis,)\n\u001b[0;32m    455\u001b[0m expanded_arrays \u001b[38;5;241m=\u001b[39m [arr[sl] \u001b[38;5;28;01mfor\u001b[39;00m arr \u001b[38;5;129;01min\u001b[39;00m arrays]\n\u001b[1;32m--> 456\u001b[0m \u001b[38;5;28;01mreturn\u001b[39;00m \u001b[43m_nx\u001b[49m\u001b[38;5;241;43m.\u001b[39;49m\u001b[43mconcatenate\u001b[49m\u001b[43m(\u001b[49m\u001b[43mexpanded_arrays\u001b[49m\u001b[43m,\u001b[49m\u001b[43m \u001b[49m\u001b[43maxis\u001b[49m\u001b[38;5;241;43m=\u001b[39;49m\u001b[43maxis\u001b[49m\u001b[43m,\u001b[49m\u001b[43m \u001b[49m\u001b[43mout\u001b[49m\u001b[38;5;241;43m=\u001b[39;49m\u001b[43mout\u001b[49m\u001b[43m,\u001b[49m\n\u001b[0;32m    457\u001b[0m \u001b[43m                       \u001b[49m\u001b[43mdtype\u001b[49m\u001b[38;5;241;43m=\u001b[39;49m\u001b[43mdtype\u001b[49m\u001b[43m,\u001b[49m\u001b[43m \u001b[49m\u001b[43mcasting\u001b[49m\u001b[38;5;241;43m=\u001b[39;49m\u001b[43mcasting\u001b[49m\u001b[43m)\u001b[49m\n",
      "\u001b[1;31mKeyboardInterrupt\u001b[0m: "
     ]
    }
   ],
   "source": [
    "configurations = configuration_reader(\"ALL_N21.bin\", 21, True)\n",
    "results = []\n",
    "for rule in range(256):\n",
    "    print(f'Rule {rule}...')\n",
    "    l = [dcp(rule, config, 21) for config in configurations]\n",
    "    results.append((rule, round(sum(l)/len(configurations),5)))\n",
    "    print(results[-1])"
   ]
  },
  {
   "cell_type": "code",
   "execution_count": null,
   "metadata": {},
   "outputs": [],
   "source": [
    "# coś jest nie tak\n",
    "# reguły {15, 29, 51, 71, 85} zwracają 1.0, ale dla parzystej liczby kroków zwracałyby 0.0\n",
    "# jest bardzo mało wyników poniżej 0.5 {9, 45, 50, 62, 65, 73, 75, 77, 89, 101} i nie są mniejsze niż 0.45\n",
    "# 104 reguły w 6700 sekund = niecałe 2h"
   ]
  },
  {
   "cell_type": "code",
   "execution_count": null,
   "metadata": {},
   "outputs": [],
   "source": [
    "configurations = configuration_reader(\"ALL_N21.bin\", 21, True)\n",
    "results = []\n",
    "for rule in range(105, 256):\n",
    "    print(f'Rule {rule}...')\n",
    "    l = [dcp(rule, config, 21) for config in configurations]\n",
    "    results.append((rule, round(sum(l)/len(configurations),5)))\n",
    "    print(results[-1])"
   ]
  },
  {
   "cell_type": "code",
   "execution_count": null,
   "metadata": {},
   "outputs": [],
   "source": [
    "sorted(results, key=itemgetter(1), reverse=True)[0:15]"
   ]
  },
  {
   "cell_type": "markdown",
   "metadata": {},
   "source": [
    "# zad.8\n",
    "Henryk Fukś pokazał, że idealne rozwiązanie DCP można uzyskać stosując ECA 184 przez \"połowę czasu\" a następnie ECA 232 przez następną \n",
    "połowę czasu.\n",
    "\n",
    "Stosując wybrany “zbiór Marcina” lub zbiór wygenerowany losowo sprawdź czy odkrycie prof. Fuksia daje się odtworzyć eksperymentalnie.\n",
    "\n",
    "Wariant (*) czy poza ECA 184 istnieją inne ECAs, które w powiązaniu z ECA 232 dają taką własność? Chodzi o inną parę ECA x, ECA 232 lub ewentualnie ECA x, ECA y, które stosowane tak jak przez prof. Fuksia rozwiązują DCP dokładnie."
   ]
  },
  {
   "cell_type": "code",
   "execution_count": null,
   "metadata": {},
   "outputs": [],
   "source": []
  },
  {
   "cell_type": "code",
   "execution_count": null,
   "metadata": {},
   "outputs": [],
   "source": []
  },
  {
   "cell_type": "markdown",
   "metadata": {},
   "source": [
    "# zad.9\n",
    "Zapoznaj się z wynikami z artykułu: *Mendonça, J. R. G. (2019).* **Simply modified GKL density classifiers that reach consensus faster.** *Physics Letters A, 383(19), 2264–2266.* doi:10.1016/j.physleta.2019.04.033 (https://sci-hub.se/https://www.sciencedirect.com/science/article/abs/pii/S0375960119303512?via=ihub).\n",
    "\n",
    "Spróbuj powtórzyć eksperymenty tam wykonane dla wybranego N dla którego mamy \"zbiór Marcina\" badając średni czas klasyfikacji oraz % poprawnych klasyfikacji dla reguł GKL(j, k) dla kilku przypadków j, k.\n",
    "\n",
    "Otrzymane wyniki porównaj z tymi z Zadania 7. To znaczy jak bardzo lepsze są najlepsze reguły GKL, które uda Ci się znaleźć w porównaniu do najlepszych ECAs."
   ]
  },
  {
   "cell_type": "code",
   "execution_count": null,
   "metadata": {},
   "outputs": [],
   "source": []
  },
  {
   "cell_type": "code",
   "execution_count": null,
   "metadata": {},
   "outputs": [],
   "source": []
  },
  {
   "cell_type": "markdown",
   "metadata": {},
   "source": [
    "# zad.10(*)\n",
    "Sprawdź jak wybór zbioru testowych warunków początkowych wypływa na wyniki eksperymentów z Zadania 8.\n",
    "\n",
    "Czy jesteś w stanie znaleźć przykład parametrów N (liczba komórek), num_conf (liczba losowanych warunków w zbiorze), p (prawdopodobieństwo 0 w \n",
    "komórce) do losowania, aby pokazać, że eliminacja duplikatów (shift-equal) ma znaczenie - tj. niechlujne dobranie \"losowego\" zbioru warunków początkowych zawyża / zaniża szacowaną jakość klasyfikacji.\n",
    "\n",
    "**Podpowiedź**: Możesz porównać wyniki otrzymane na wybranym \"zbiorze Marcina\" z wynikami na zbiorze otrzymanym w zwykłym losowaniu dla konkretnego N."
   ]
  },
  {
   "cell_type": "code",
   "execution_count": null,
   "metadata": {},
   "outputs": [],
   "source": []
  }
 ],
 "metadata": {
  "colab": {
   "authorship_tag": "ABX9TyMJf+qpAPLl1PwDi/TtiVYG",
   "provenance": []
  },
  "kernelspec": {
   "display_name": "Python 3 (ipykernel)",
   "language": "python",
   "name": "python3"
  },
  "language_info": {
   "codemirror_mode": {
    "name": "ipython",
    "version": 3
   },
   "file_extension": ".py",
   "mimetype": "text/x-python",
   "name": "python",
   "nbconvert_exporter": "python",
   "pygments_lexer": "ipython3",
   "version": "3.10.0"
  }
 },
 "nbformat": 4,
 "nbformat_minor": 4
}
