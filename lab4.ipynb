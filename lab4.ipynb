{
 "cells": [
  {
   "cell_type": "markdown",
   "metadata": {},
   "source": [
    "# Problem klasyfikacji gęstości (DCP)"
   ]
  },
  {
   "cell_type": "markdown",
   "metadata": {},
   "source": [
    "### Importy"
   ]
  },
  {
   "cell_type": "code",
   "execution_count": 1,
   "metadata": {},
   "outputs": [],
   "source": [
    "import math\n",
    "import numpy as np\n",
    "from operator import itemgetter"
   ]
  },
  {
   "cell_type": "markdown",
   "metadata": {},
   "source": [
    "Funkcje generujące diagram czasoprzestrzenny:"
   ]
  },
  {
   "cell_type": "code",
   "execution_count": 2,
   "metadata": {},
   "outputs": [],
   "source": [
    "def eca_get_lut(rule_num: int) -> np.ndarray:\n",
    "    return np.array([int(x) for x in bin(rule_num)[2:].zfill(8)], dtype=np.uint8)\n",
    "\n",
    "def eca_evolve(lut: np.ndarray, x: np.ndarray) -> np.ndarray:\n",
    "    return lut[7 - (np.roll(x, 1) * 4 + x * 2 + np.roll(x, -1))]\n",
    "\n",
    "def eca_evolve_spacetime(lut: np.ndarray, initial_conf: np.ndarray, steps: int) -> np.ndarray:\n",
    "    rows = [initial_conf]\n",
    "    for _ in range(1, steps):\n",
    "        rows.append(eca_evolve(lut, rows[-1]))\n",
    "    return np.stack(rows)\n"
   ]
  },
  {
   "cell_type": "markdown",
   "metadata": {},
   "source": [
    "Funkcja do losowania konfiguracji początkowej:"
   ]
  },
  {
   "cell_type": "code",
   "execution_count": 3,
   "metadata": {},
   "outputs": [],
   "source": [
    "def generate_random_initial_configuration(length: int) -> np.ndarray:\n",
    "    return np.random.randint(2, size=length)"
   ]
  },
  {
   "cell_type": "markdown",
   "metadata": {},
   "source": [
    "## Wczytywanie konfiguracji pana Marcina\n",
    "Pliki z konfiguracjami można pobrać z https://github.com/D3M80L/CA/tree/master/phd/data."
   ]
  },
  {
   "cell_type": "markdown",
   "metadata": {},
   "source": [
    "Funkcja konwertująca ciąg bajtów na binarną reprezentację. Zwraca tablicę N pierwszych bitów:"
   ]
  },
  {
   "cell_type": "code",
   "execution_count": 4,
   "metadata": {},
   "outputs": [],
   "source": [
    "def convert_configuration(configuration: bytes, N: int):\n",
    "    binary_str = ''.join(f'{byte:08b}' for byte in configuration)\n",
    "    return np.array([int(bit) for bit in binary_str[:N]])\n"
   ]
  },
  {
   "cell_type": "markdown",
   "metadata": {},
   "source": [
    "Funkcja wczytująca wszystkie konfiguracje z pliku do pamięci operacyjnej:"
   ]
  },
  {
   "cell_type": "code",
   "execution_count": 5,
   "metadata": {},
   "outputs": [],
   "source": [
    "def configuration_reader(file_name: str, N: int, negate: bool):\n",
    "    bytes_per_configuration = math.ceil(N / 8)\n",
    "    configurations = []\n",
    "\n",
    "    with open(file_name, 'rb') as file:\n",
    "        while True:\n",
    "            bytes_read = file.read(bytes_per_configuration)\n",
    "            if not bytes_read:\n",
    "                break\n",
    "\n",
    "            cfg = convert_configuration(bytes_read, N)\n",
    "            configurations.append(cfg)\n",
    "            \n",
    "            if negate:\n",
    "                configurations.append(1 - cfg)\n",
    "\n",
    "    return np.stack(configurations)\n"
   ]
  },
  {
   "cell_type": "markdown",
   "metadata": {},
   "source": [
    "- Pierwszy argument (str): nazwa pliku, zktórego chcemy pobrać konfiguracje.\n",
    "- Drugi argument (int): długość konfiguracji zapisanych w pliku.\n",
    "- Trzeci argument (bool): czy w wynikowej liście mają znaleźć się też \"zanegowane\" konfiguracje; False - konfiguracje będą miały gęstość mniejszą niż 0.5; True - konfiguracje, których gęstość jest mniejsza jaki i większa od 0.5."
   ]
  },
  {
   "cell_type": "markdown",
   "metadata": {},
   "source": [
    "Przykład użycia:"
   ]
  },
  {
   "cell_type": "code",
   "execution_count": 6,
   "metadata": {},
   "outputs": [],
   "source": [
    "configurations = configuration_reader(\"ALL_N21.bin\", 21, True)\n",
    "configurations2 = configuration_reader(\"ALL_N21.bin\", 21, False)"
   ]
  },
  {
   "cell_type": "code",
   "execution_count": 7,
   "metadata": {},
   "outputs": [
    {
     "name": "stdout",
     "output_type": "stream",
     "text": [
      "[[0 0 0 0 0 0 0 0 0 0 0 1 1 1 1 1 1 1 1 1 1]\n",
      " [1 1 1 1 1 1 1 1 1 1 1 0 0 0 0 0 0 0 0 0 0]\n",
      " [0 0 0 0 0 0 0 0 0 0 1 0 1 1 1 1 1 1 1 1 1]\n",
      " [1 1 1 1 1 1 1 1 1 1 0 1 0 0 0 0 0 0 0 0 0]\n",
      " [0 0 0 0 0 0 0 0 0 0 1 1 0 1 1 1 1 1 1 1 1]\n",
      " [1 1 1 1 1 1 1 1 1 1 0 0 1 0 0 0 0 0 0 0 0]\n",
      " [0 0 0 0 0 0 0 0 0 0 1 1 1 0 1 1 1 1 1 1 1]\n",
      " [1 1 1 1 1 1 1 1 1 1 0 0 0 1 0 0 0 0 0 0 0]\n",
      " [0 0 0 0 0 0 0 0 0 0 1 1 1 1 0 1 1 1 1 1 1]\n",
      " [1 1 1 1 1 1 1 1 1 1 0 0 0 0 1 0 0 0 0 0 0]]\n",
      "[[0 0 0 0 0 0 0 0 0 0 0 1 1 1 1 1 1 1 1 1 1]\n",
      " [0 0 0 0 0 0 0 0 0 0 1 0 1 1 1 1 1 1 1 1 1]\n",
      " [0 0 0 0 0 0 0 0 0 0 1 1 0 1 1 1 1 1 1 1 1]\n",
      " [0 0 0 0 0 0 0 0 0 0 1 1 1 0 1 1 1 1 1 1 1]\n",
      " [0 0 0 0 0 0 0 0 0 0 1 1 1 1 0 1 1 1 1 1 1]\n",
      " [0 0 0 0 0 0 0 0 0 0 1 1 1 1 1 0 1 1 1 1 1]\n",
      " [0 0 0 0 0 0 0 0 0 0 1 1 1 1 1 1 0 1 1 1 1]\n",
      " [0 0 0 0 0 0 0 0 0 0 1 1 1 1 1 1 1 0 1 1 1]\n",
      " [0 0 0 0 0 0 0 0 0 0 1 1 1 1 1 1 1 1 0 1 1]\n",
      " [0 0 0 0 0 0 0 0 0 0 1 1 1 1 1 1 1 1 1 0 1]]\n"
     ]
    }
   ],
   "source": [
    "print(configurations[0:10])\n",
    "print(configurations2[0:10])"
   ]
  },
  {
   "cell_type": "markdown",
   "metadata": {},
   "source": [
    "---"
   ]
  },
  {
   "cell_type": "markdown",
   "metadata": {
    "id": "qtMrNhNqO8an"
   },
   "source": [
    "# zad.7\n",
    "ECAs to nie są dobre, przybliżone rozwiązania DCP. Sprawdź jak słabo\n",
    "sobie radzą! To znaczy dla ustalonego N, przebadaj wszystkie ECAs dając im limit\n",
    "czasu i wylicz dla jakiego % wszystkich konfiguracji początkowych\n",
    "otrzymaną poprawną klasyfikację gęstości. Zaprezentuj wyniki w postaci listy par\n",
    "(numer reguły, % poprawnych klasyfikacji), np.\n",
    "\n",
    "(0, 50%)\n",
    "\n",
    "...\n",
    "\n",
    "(255, 50%)\n",
    "\n",
    "Znajdź / wyróżnij regułę, która ma największy wśród ECAs % poprawnych\n",
    "klasyfikacji."
   ]
  },
  {
   "cell_type": "code",
   "execution_count": null,
   "metadata": {
    "id": "12s1NrxmO-aW"
   },
   "outputs": [],
   "source": [
    "# gęstość konfiguracji po N krokach porównujemy z gęstością konfiguracji początkowej\n",
    "# konfiguracje początkowe do badania weźmiemy z pliku ALL_N21.bin\n",
    "# limit czasu to jest maksymalna długość kroków w diagramie czasoprzestrzennym (umownie 2x długość konfiguracji początkowej)"
   ]
  },
  {
   "cell_type": "code",
   "execution_count": 11,
   "metadata": {},
   "outputs": [],
   "source": [
    "def dcp(rule_num, initial_config, steps):\n",
    "    initial_density = sum(initial_config)/len(initial_config)\n",
    "    lut = eca_get_lut(rule_num)\n",
    "    config = eca_evolve_spacetime(lut, initial_config, steps)[-1]\n",
    "    result_density = sum(config)/len(config)\n",
    "\n",
    "    if initial_density < 0.5:\n",
    "        if result_density < 0.5:\n",
    "            return 1\n",
    "        else:\n",
    "            return 0\n",
    "    if initial_density > 0.5:\n",
    "        if result_density > 0.5:\n",
    "            return 1\n",
    "        else:\n",
    "            return 0\n",
    "    return 0\n"
   ]
  },
  {
   "cell_type": "code",
   "execution_count": 12,
   "metadata": {},
   "outputs": [
    {
     "data": {
      "text/plain": [
       "99880"
      ]
     },
     "execution_count": 12,
     "metadata": {},
     "output_type": "execute_result"
    }
   ],
   "source": [
    "len(configurations)"
   ]
  },
  {
   "cell_type": "code",
   "execution_count": null,
   "metadata": {},
   "outputs": [
    {
     "name": "stdout",
     "output_type": "stream",
     "text": [
      "Rule 0...\n",
      "(0, 50.0%)\n",
      "Rule 1...\n"
     ]
    }
   ],
   "source": [
    "configurations = configuration_reader(\"ALL_N21.bin\", 21, True)\n",
    "results = []\n",
    "for rule in range(256):\n",
    "    print(f'Rule {rule}...')\n",
    "    l = [dcp(rule, config, 42) for config in configurations]\n",
    "    results.append((rule, round(100*sum(l)/len(configurations),5)))\n",
    "    print(f'({results[-1][0]}, {results[-1][1]}%)')"
   ]
  },
  {
   "cell_type": "code",
   "execution_count": null,
   "metadata": {},
   "outputs": [],
   "source": [
    "sorted(results, key=itemgetter(1), reverse=True)[0:15]"
   ]
  },
  {
   "cell_type": "markdown",
   "metadata": {},
   "source": [
    "# zad.8\n",
    "Henryk Fukś pokazał, że idealne rozwiązanie DCP można uzyskać stosując ECA 184 przez \"połowę czasu\" a następnie ECA 232 przez następną \n",
    "połowę czasu.\n",
    "\n",
    "Stosując wybrany “zbiór Marcina” lub zbiór wygenerowany losowo sprawdź czy odkrycie prof. Fuksia daje się odtworzyć eksperymentalnie.\n",
    "\n",
    "Wariant (*) czy poza ECA 184 istnieją inne ECAs, które w powiązaniu z ECA 232 dają taką własność? Chodzi o inną parę ECA x, ECA 232 lub ewentualnie ECA x, ECA y, które stosowane tak jak przez prof. Fuksia rozwiązują DCP dokładnie."
   ]
  },
  {
   "cell_type": "markdown",
   "metadata": {},
   "source": [
    "## 184 - traffic right and 232 - majority"
   ]
  },
  {
   "cell_type": "code",
   "execution_count": 8,
   "metadata": {},
   "outputs": [],
   "source": [
    "def dcp2(lut1, lut2, initial_config, steps):\n",
    "    initial_density = sum(initial_config)/len(initial_config)\n",
    "    config = eca_evolve_spacetime(lut1, initial_config, steps//2)[-1]\n",
    "    result_config = eca_evolve_spacetime(lut2, config, steps//2)[-1]\n",
    "    result_density = sum(result_config)/len(result_config)\n",
    "\n",
    "    if initial_density < 0.5:\n",
    "        if result_density < 0.5:\n",
    "            return 1\n",
    "        else:\n",
    "            return 0\n",
    "    if initial_density > 0.5:\n",
    "        if result_density > 0.5:\n",
    "            return 1\n",
    "        else:\n",
    "            return 0\n",
    "    return 0\n"
   ]
  },
  {
   "cell_type": "code",
   "execution_count": 9,
   "metadata": {},
   "outputs": [
    {
     "name": "stdout",
     "output_type": "stream",
     "text": [
      "Poprawna klasyfikacja gęstości: 100.0%\n"
     ]
    }
   ],
   "source": [
    "configurations = configuration_reader(\"ALL_N21.bin\", 21, True)\n",
    "lut184 = eca_get_lut(184)\n",
    "lut232 = eca_get_lut(232)\n",
    "l = [dcp2(lut184, lut232, config, 42) for config in configurations]\n",
    "print(f'Poprawna klasyfikacja gęstości: {round(100*sum(l)/len(configurations),5)}%')"
   ]
  },
  {
   "cell_type": "markdown",
   "metadata": {},
   "source": [
    "## 226 - traffic left and 232 - majority"
   ]
  },
  {
   "cell_type": "code",
   "execution_count": 10,
   "metadata": {},
   "outputs": [
    {
     "name": "stdout",
     "output_type": "stream",
     "text": [
      "Poprawna klasyfikacja gęstości: 100.0%\n"
     ]
    }
   ],
   "source": [
    "configurations = configuration_reader(\"ALL_N21.bin\", 21, True)\n",
    "lut226 = eca_get_lut(226)\n",
    "lut232 = eca_get_lut(232)\n",
    "l = [dcp2(lut226, lut232, config, 42) for config in configurations]\n",
    "print(f'Poprawna klasyfikacja gęstości: {round(100*sum(l)/len(configurations),5)}%')"
   ]
  },
  {
   "cell_type": "markdown",
   "metadata": {},
   "source": [
    "---\n",
    "Try:\n",
    "- 240 right shift\n",
    "- 170 left shift\n",
    "- 204 identyczność\n",
    "- ..."
   ]
  },
  {
   "cell_type": "code",
   "execution_count": null,
   "metadata": {},
   "outputs": [],
   "source": []
  },
  {
   "cell_type": "code",
   "execution_count": null,
   "metadata": {},
   "outputs": [],
   "source": []
  },
  {
   "cell_type": "markdown",
   "metadata": {},
   "source": [
    "# zad.9\n",
    "Zapoznaj się z wynikami z artykułu: *Mendonça, J. R. G. (2019).* **Simply modified GKL density classifiers that reach consensus faster.** *Physics Letters A, 383(19), 2264–2266.* doi:10.1016/j.physleta.2019.04.033 (https://sci-hub.se/https://www.sciencedirect.com/science/article/abs/pii/S0375960119303512?via=ihub).\n",
    "\n",
    "Spróbuj powtórzyć eksperymenty tam wykonane dla wybranego N dla którego mamy \"zbiór Marcina\" badając średni czas klasyfikacji oraz % poprawnych klasyfikacji dla reguł GKL(j, k) dla kilku przypadków j, k.\n",
    "\n",
    "Otrzymane wyniki porównaj z tymi z Zadania 7. To znaczy jak bardzo lepsze są najlepsze reguły GKL, które uda Ci się znaleźć w porównaniu do najlepszych ECAs."
   ]
  },
  {
   "cell_type": "code",
   "execution_count": null,
   "metadata": {},
   "outputs": [],
   "source": []
  },
  {
   "cell_type": "code",
   "execution_count": null,
   "metadata": {},
   "outputs": [],
   "source": []
  },
  {
   "cell_type": "markdown",
   "metadata": {},
   "source": [
    "# zad.10(*)\n",
    "Sprawdź jak wybór zbioru testowych warunków początkowych wypływa na wyniki eksperymentów z Zadania 8.\n",
    "\n",
    "Czy jesteś w stanie znaleźć przykład parametrów N (liczba komórek), num_conf (liczba losowanych warunków w zbiorze), p (prawdopodobieństwo 0 w \n",
    "komórce) do losowania, aby pokazać, że eliminacja duplikatów (shift-equal) ma znaczenie - tj. niechlujne dobranie \"losowego\" zbioru warunków początkowych zawyża / zaniża szacowaną jakość klasyfikacji.\n",
    "\n",
    "**Podpowiedź**: Możesz porównać wyniki otrzymane na wybranym \"zbiorze Marcina\" z wynikami na zbiorze otrzymanym w zwykłym losowaniu dla konkretnego N."
   ]
  },
  {
   "cell_type": "code",
   "execution_count": null,
   "metadata": {},
   "outputs": [],
   "source": []
  }
 ],
 "metadata": {
  "colab": {
   "authorship_tag": "ABX9TyMJf+qpAPLl1PwDi/TtiVYG",
   "provenance": []
  },
  "kernelspec": {
   "display_name": "Python 3 (ipykernel)",
   "language": "python",
   "name": "python3"
  },
  "language_info": {
   "codemirror_mode": {
    "name": "ipython",
    "version": 3
   },
   "file_extension": ".py",
   "mimetype": "text/x-python",
   "name": "python",
   "nbconvert_exporter": "python",
   "pygments_lexer": "ipython3",
   "version": "3.10.0"
  }
 },
 "nbformat": 4,
 "nbformat_minor": 4
}
