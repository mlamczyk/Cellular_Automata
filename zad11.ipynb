{
 "cells": [
  {
   "cell_type": "markdown",
   "id": "3340ccba-697d-4285-9adc-c151b15914fc",
   "metadata": {},
   "source": [
    "# Zad.11"
   ]
  },
  {
   "cell_type": "markdown",
   "id": "a58bca5a-2394-4ba8-b0e7-6791ec5faa08",
   "metadata": {},
   "source": [
    "Zaimplementuj algorytm ewolucyjny, który poszukuje rozwiązań DCP wśród binarnych automatów komórkowych o promieniu sąsiedztwa r=2, dla liczby komórek N=23 (korzystając ze zbioru Marcina) i limitu czasu T = 2*N. Zdecyduj sama / sam ile populacji i jak duże populacje potrzebujesz - możesz to określić robiąc eksperymenty. Możesz również dowolnie manipulować mutacjami, krzyżowaniem, selekcją itd.\n",
    "\n",
    "Jaki najlepszy wynik (największą liczbę poprawnie sklasyfikowanych konfiguracji) uda Ci się uzyskać? Podaj LUT najlepszej, znalezionej przez Twój algorytm reguły. \n",
    "\n",
    "Uzyskane przez nas wszystkich reguły porównam na zbiorach N=23 i większych, jak tylko otrzymam wszystkie rozwiązania i wyłonimy zwycięzców. Może uda się komuś z nas pobić GKL?\n",
    "\n",
    "Sugestie:\n",
    "- Do wstępnych testów możesz najpierw użyć mniejszego N i zamiast zbioru Marcina, użyć mniejszy zbiór wygenerowany losowo - program będzie działać szybciej, zatem szybciej będziesz wprowadzać w nim zmiany.\n",
    "- Koniecznie użyj przetwarzania równoległego aby w pełni wykorzystać moc współczesnych procesorów oraz cache’owania - tak, żeby nie przeliczać tej samej reguły CA wiele razy.\n",
    "- GitHub CodeSpaces dają 4-rdzeniowy procesor w chmurze dostępny za darmo (30 lub 60 godzin obliczeń w miesiącu).\n",
    "- Czy dla każdego wyliczenia wartości funkcji dopasowania trzeba używać cały zbiór warunków początkowych? Może aby było szybciej, dla każdej populacji można losować pewien podzbiór zbioru warunków początkowych i dzięki temu szybciej tworzyć nowe populacje? (A może te podzbiory też powinny podlegać “ewolucji”? Mamy wtedy do czynienia z koewolucją.)\n",
    "- Przedyskutuj to zagadnienie z ChatGPT. Poproś o sugestie, pomysły na usprawnienia kodu itd!"
   ]
  },
  {
   "cell_type": "code",
   "execution_count": null,
   "id": "029e40c1-a473-4a86-b609-5cb5f456b48e",
   "metadata": {},
   "outputs": [],
   "source": [
    "# ECA to automaty o promieniu r=1, teraz mamy r=2, czyli sąsiedztwo 5!!\n",
    "# trzeba zmodyfikować eca_get_lut(do 32 a nie 8) i eca_evolve(na filmiku pan mówi)\n",
    "# podać lut, który wyszedł jako najlepszy!!"
   ]
  },
  {
   "cell_type": "code",
   "execution_count": null,
   "id": "ad3d0046-c34b-4781-8489-27d4df972384",
   "metadata": {},
   "outputs": [],
   "source": []
  },
  {
   "cell_type": "code",
   "execution_count": null,
   "id": "a6cbad46-f696-448f-9569-d99743661428",
   "metadata": {},
   "outputs": [],
   "source": [
    "# przykład zastosowania algorytmu genetycznego\n",
    "def interval(x):\n",
    "    return max(0.0, min(x, 1.0))\n",
    "\n",
    "def cross(x, y):\n",
    "    return 0.5 * (x+y)\n",
    "\n",
    "def mutate(x):\n",
    "    return interval(x + (np.random.random() - 0.5) * 0.005)\n",
    "\n",
    "def fitness(x, func):\n",
    "    return np.abs(func(x))\n",
    "\n",
    "def fitness_on_population(population, func):\n",
    "    res = np.array([fitness(x, func) for x in population])\n",
    "    res = 1.0 - (res/np.max(res))\n",
    "    s = sum(res)\n",
    "    return res / s\n",
    "\n",
    "def choice(population, fitness_values):\n",
    "    return np.random.choice(population, 1, p=fitness_values)[0]\n",
    "\n",
    "def ga_solve(func, population_size = 20, iterations = 1000):\n",
    "    population = np.array([np.random.random() for _ in range(population_size)])\n",
    "\n",
    "    for _ in range(iterations):\n",
    "        fitness_results = fitness_on_population(population, func)\n",
    "        population = np.array([mutate(\n",
    "            cross(\n",
    "                choice(population, fitness_results),\n",
    "                choice(population, fitness_results))) \n",
    "                               for _ in range(population_size)])\n",
    "    \n",
    "    return population\n",
    "\n",
    "xx = np.linspace(0, 1, 1000)\n",
    "plt.plot(xx, np.abs(xx**2 - 0.5))\n",
    "plt.axhline(y=0.0, color='r', linestyle='-')\n",
    "plt.show()\n",
    "\n",
    "f = lambda x: x**2 - 0.5\n",
    "exact = 1/np.sqrt(2) # dokładne rozwiązanie naszego równania użyte jedynie do porównania z wynikiem otrzymanym przez algorytm\n",
    "\n",
    "solutions = ga_solve(f, population_size = 300, iterations = 1000)\n",
    "\n",
    "# ponieważ funkcja ga_solve zwraca nam całą ostatnią populację, a nie najlepszego kandydata, musimy sobie go wybrać sami\n",
    "# można oczywiście zmodyfikować ga_solve, tak aby wynikiem od razu było jedynie najlepsze rozwiązanie\n",
    "best_candidate = solutions[np.argmin(np.array([np.abs(f(s)) for s in solutions]))]\n",
    "\n",
    "print(\"Best candidate: \", best_candidate)\n",
    "print(\"Exact solution: \", exact)\n",
    "print(\"Difference between best and exact: \", np.abs(best_candidate - exact))\n",
    "print(\"Error (value of |f(best candidate)|): \", np.abs(f(best_candidate)))\n"
   ]
  },
  {
   "cell_type": "code",
   "execution_count": null,
   "id": "a52dd6fa-3430-45a0-96ff-67a3c7f22231",
   "metadata": {},
   "outputs": [],
   "source": []
  },
  {
   "cell_type": "markdown",
   "id": "6c41e9ea-6c05-4219-a5c2-c31fe12105b0",
   "metadata": {},
   "source": [
    "---\n",
    "# To samo za pomocą PyGAD"
   ]
  },
  {
   "cell_type": "code",
   "execution_count": null,
   "id": "14f6c719-1a30-4c91-bf93-694a41fd6816",
   "metadata": {},
   "outputs": [],
   "source": [
    "# definiujemy parametry rozwiązania\n",
    "# geny to oznaczenia, który wierzchołek jest w zbiorze\n",
    "# 1 - należy do zbioru, 0 - nie należy do zbioru\n",
    "gene_space = [0, 1]\n",
    "\n",
    "def fitness_func(solution, solution_idx):\n",
    "    fitness = 0\n",
    "    # chromosom ma 24 geny\n",
    "    # dodajemy do listy wierzchołki o indeksach, na których solution ma 1\n",
    "    lista = []\n",
    "    for k in range(len(solution)):\n",
    "        if int(solution[k]) == 1:\n",
    "            lista.append(k)\n",
    "    # zmuszamy algorytm, by wybrał zbiór o największej liczbie wierzchołków\n",
    "    fitness += 2*len(lista) # im więcej wierzchołków tym lepiej\n",
    "    # sprawdzamy czy są połączenia między wierzchołkami w liście\n",
    "    for i in lista:\n",
    "        for j in lista:\n",
    "            if i != j:\n",
    "                if graf[i][j] == 1:\n",
    "                    fitness -= 3\n",
    "    return fitness\n",
    "\n",
    "fitness_function = fitness_func"
   ]
  },
  {
   "cell_type": "code",
   "execution_count": null,
   "id": "880e6ff5-7341-432c-95ea-102d47da47e5",
   "metadata": {},
   "outputs": [],
   "source": [
    "# ile chromosomów w populacji\n",
    "sol_per_pop = 100\n",
    "# ile genów ma chromosom\n",
    "num_genes = 24\n",
    "\n",
    "# ile wylaniamy rodziców do \"rozmnażania\" (okolo 50% populacji)\n",
    "num_parents_mating = 50\n",
    "# ile pokoleń\n",
    "num_generations = 30\n",
    "# ilu rodziców zachować (kilka procent)\n",
    "keep_parents = 2\n",
    "\n",
    "# jaki typ selekcji rodzicow?\n",
    "parent_selection_type = \"rank\"\n",
    "\n",
    "# w ilu punktach robic krzyzowanie?\n",
    "crossover_type = \"single_point\"\n",
    "\n",
    "# mutacja ma dzialac na ilu procent genów?\n",
    "#random, swap - zamienia miejscami dwa geny, inversion - zmienia kolejność fragmentu chromosomu, scramble, adaptive\n",
    "#displacament - przeniesienie części genów w inne miejsce\n",
    "mutation_type = \"random\"\n",
    "mutation_percent_genes = 5"
   ]
  },
  {
   "cell_type": "code",
   "execution_count": null,
   "id": "1a362dc2-977d-4672-92ee-8cff9314c409",
   "metadata": {},
   "outputs": [],
   "source": [
    "start = time.time()\n",
    "\n",
    "# inicjacja algorytmu z powyzszymi parametrami wpisanymi w atrybuty\n",
    "ga_instance = pygad.GA(\n",
    "    gene_space=gene_space,\n",
    "    num_generations=num_generations,\n",
    "    num_parents_mating=num_parents_mating,\n",
    "    fitness_func=fitness_function,\n",
    "    sol_per_pop=sol_per_pop,\n",
    "    num_genes=num_genes,\n",
    "    parent_selection_type=parent_selection_type,\n",
    "    keep_parents=keep_parents,\n",
    "    crossover_type=crossover_type,\n",
    "    mutation_type=mutation_type,\n",
    "    mutation_percent_genes=mutation_percent_genes,\n",
    "    #stop_criteria='reach_18' # możemy ustawić reach, jeśli wiemy ile wierzchołków ma maksymalny zbiór niezależny\n",
    ")\n",
    "\n",
    "# uruchomienie algorytmu\n",
    "ga_instance.run()\n",
    "\n",
    "end = time.time()\n",
    "czas = end - start\n",
    "print(\"Czas: \", czas)\n",
    "\n",
    "solution, solution_fitness, solution_idx = ga_instance.best_solution()"
   ]
  },
  {
   "cell_type": "code",
   "execution_count": null,
   "id": "baaa6f6d-0630-4c37-8307-fd3aafa2a955",
   "metadata": {},
   "outputs": [],
   "source": [
    "#ile pokoleń\n",
    "print(\"Number of generations passed is : {generations_completed}\".format(generations_completed=ga_instance.generations_completed))\n",
    "#podsumowanie: najlepsze znalezione rozwiazanie (ścieżka + ocena)\n",
    "solution, solution_fitness, solution_idx = ga_instance.best_solution()\n",
    "print(\"Parameters of the best solution : {solution}\".format(solution=solution))\n",
    "print(\"Fitness value of the best solution = {solution_fitness}\".format(solution_fitness=solution_fitness))"
   ]
  },
  {
   "cell_type": "code",
   "execution_count": null,
   "id": "3acc87a5-382d-4cd8-a3b7-a8862c297a46",
   "metadata": {},
   "outputs": [],
   "source": [
    "# wyswietlenie wykresu: jak zmieniala sie ocena na przestrzeni pokoleń\n",
    "ga_instance.plot_fitness()"
   ]
  },
  {
   "cell_type": "code",
   "execution_count": null,
   "id": "65b23df8-78d4-48b2-b2f8-aa4531512a5e",
   "metadata": {},
   "outputs": [],
   "source": []
  }
 ],
 "metadata": {
  "kernelspec": {
   "display_name": "Python 3 (ipykernel)",
   "language": "python",
   "name": "python3"
  },
  "language_info": {
   "codemirror_mode": {
    "name": "ipython",
    "version": 3
   },
   "file_extension": ".py",
   "mimetype": "text/x-python",
   "name": "python",
   "nbconvert_exporter": "python",
   "pygments_lexer": "ipython3",
   "version": "3.10.0"
  }
 },
 "nbformat": 4,
 "nbformat_minor": 5
}
