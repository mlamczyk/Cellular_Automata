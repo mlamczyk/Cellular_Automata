{
 "cells": [
  {
   "cell_type": "markdown",
   "id": "cd2ccdff-0f46-4fcd-a125-43e006f6bfd7",
   "metadata": {},
   "source": [
    "# Problem klasyfikacji gęstości (DCP)"
   ]
  },
  {
   "cell_type": "markdown",
   "id": "cf72e4a8-5c74-492e-a820-c94552b7d5ac",
   "metadata": {},
   "source": [
    "## Imports"
   ]
  },
  {
   "cell_type": "code",
   "execution_count": 1,
   "id": "06c8eabc-b44c-41da-9dd7-0b4d9ae44cb4",
   "metadata": {},
   "outputs": [],
   "source": [
    "# pip install pygad\n",
    "# pip install joblib"
   ]
  },
  {
   "cell_type": "code",
   "execution_count": 52,
   "id": "49f16681-95b2-441a-80ff-735cd6ff19a8",
   "metadata": {},
   "outputs": [],
   "source": [
    "import math\n",
    "import time\n",
    "# import pygad\n",
    "import random\n",
    "import numpy as np\n",
    "import pandas as pd\n",
    "import matplotlib.pyplot as plt\n",
    "from joblib import Parallel, delayed"
   ]
  },
  {
   "cell_type": "code",
   "execution_count": 33,
   "id": "986f8e6d-0277-411c-8cdf-3b37049045a5",
   "metadata": {},
   "outputs": [],
   "source": [
    "def eca_get_lut(rule_num: int) -> np.ndarray:\n",
    "    return np.array([int(x) for x in bin(rule_num)[2:].zfill(8)], dtype=np.uint8)\n",
    "\n",
    "def eca_evolve(lut: np.ndarray, x: np.ndarray) -> np.ndarray:\n",
    "    return lut[7 - (np.roll(x, 1) * 4 + x * 2 + np.roll(x, -1))]\n",
    "\n",
    "def eca_evolve_spacetime(lut: np.ndarray, initial_conf: np.ndarray, steps: int) -> np.ndarray:\n",
    "    rows = [initial_conf]\n",
    "    for _ in range(1, steps):\n",
    "        rows.append(eca_evolve(lut, rows[-1]))\n",
    "    return np.stack(rows)\n"
   ]
  },
  {
   "cell_type": "code",
   "execution_count": 23,
   "id": "4cb4e74e-5b76-4fff-b246-db4dbb2b32a2",
   "metadata": {},
   "outputs": [
    {
     "data": {
      "text/plain": [
       "array([0, 0, 0, 1, 0, 1, 0, 1, 0])"
      ]
     },
     "execution_count": 23,
     "metadata": {},
     "output_type": "execute_result"
    }
   ],
   "source": [
    "np.random.randint(2, size=9)"
   ]
  },
  {
   "cell_type": "code",
   "execution_count": 24,
   "id": "1470c3f6-d945-4562-8aeb-52580830981b",
   "metadata": {},
   "outputs": [
    {
     "data": {
      "text/plain": [
       "array([0, 1, 1, 1, 1, 1, 0, 0, 0], dtype=uint8)"
      ]
     },
     "execution_count": 24,
     "metadata": {},
     "output_type": "execute_result"
    }
   ],
   "source": [
    "lut = eca_get_lut(232)\n",
    "x = np.array([0,1,1,1,1,1,0,0,0])\n",
    "eca_evolve(lut, x)"
   ]
  },
  {
   "cell_type": "code",
   "execution_count": 34,
   "id": "a715bacc-8251-4e26-98e5-72cd55c4a6cb",
   "metadata": {},
   "outputs": [
    {
     "data": {
      "text/plain": [
       "array([[0, 1, 1, 1, 1, 1, 0, 0, 0],\n",
       "       [0, 1, 1, 1, 1, 1, 0, 0, 0],\n",
       "       [0, 1, 1, 1, 1, 1, 0, 0, 0],\n",
       "       [0, 1, 1, 1, 1, 1, 0, 0, 0],\n",
       "       [0, 1, 1, 1, 1, 1, 0, 0, 0],\n",
       "       [0, 1, 1, 1, 1, 1, 0, 0, 0],\n",
       "       [0, 1, 1, 1, 1, 1, 0, 0, 0],\n",
       "       [0, 1, 1, 1, 1, 1, 0, 0, 0],\n",
       "       [0, 1, 1, 1, 1, 1, 0, 0, 0],\n",
       "       [0, 1, 1, 1, 1, 1, 0, 0, 0],\n",
       "       [0, 1, 1, 1, 1, 1, 0, 0, 0],\n",
       "       [0, 1, 1, 1, 1, 1, 0, 0, 0],\n",
       "       [0, 1, 1, 1, 1, 1, 0, 0, 0],\n",
       "       [0, 1, 1, 1, 1, 1, 0, 0, 0],\n",
       "       [0, 1, 1, 1, 1, 1, 0, 0, 0],\n",
       "       [0, 1, 1, 1, 1, 1, 0, 0, 0],\n",
       "       [0, 1, 1, 1, 1, 1, 0, 0, 0],\n",
       "       [0, 1, 1, 1, 1, 1, 0, 0, 0]])"
      ]
     },
     "execution_count": 34,
     "metadata": {},
     "output_type": "execute_result"
    }
   ],
   "source": [
    "eca_evolve_spacetime(lut, x, 18)"
   ]
  },
  {
   "cell_type": "markdown",
   "id": "bc725428-e185-4631-91bb-69b7e2c718a8",
   "metadata": {},
   "source": [
    "(1D ECA Simulator: https://elife-asu.github.io/wss-modules/modules/1-1d-cellular-automata/)"
   ]
  },
  {
   "cell_type": "markdown",
   "id": "3adf3ff6-d5b4-490f-a44a-6518f1b184cc",
   "metadata": {},
   "source": [
    "## Wczytywanie konfiguracji pana Marcina\n",
    "Pliki z konfiguracjami można pobrać z https://github.com/D3M80L/CA/tree/master/phd/data."
   ]
  },
  {
   "cell_type": "code",
   "execution_count": 36,
   "id": "f7d26745-668f-4312-b203-2abdc8fed6ad",
   "metadata": {},
   "outputs": [],
   "source": [
    "def convert_configuration(configuration: bytes, N: int):\n",
    "    binary_str = ''.join(f'{byte:08b}' for byte in configuration)\n",
    "    return np.array([int(bit) for bit in binary_str[:N]])\n"
   ]
  },
  {
   "cell_type": "code",
   "execution_count": 37,
   "id": "2e6a9457-6c88-461b-b9b3-b9f036905565",
   "metadata": {},
   "outputs": [],
   "source": [
    "def configuration_reader(file_name: str, N: int, negate: bool):\n",
    "    bytes_per_configuration = math.ceil(N / 8)\n",
    "    configurations = []\n",
    "\n",
    "    with open(file_name, 'rb') as file:\n",
    "        while True:\n",
    "            bytes_read = file.read(bytes_per_configuration)\n",
    "            if not bytes_read:\n",
    "                break\n",
    "\n",
    "            cfg = convert_configuration(bytes_read, N)\n",
    "            configurations.append(cfg)\n",
    "            \n",
    "            if negate:\n",
    "                configurations.append(1 - cfg)\n",
    "\n",
    "    return np.stack(configurations)\n"
   ]
  },
  {
   "cell_type": "markdown",
   "id": "ad7855e0-9b0c-4322-b090-41a605f21081",
   "metadata": {},
   "source": [
    "---\n",
    "## zad.9 (lekko zmodyfikowane)"
   ]
  },
  {
   "cell_type": "markdown",
   "id": "b64f8986-78b5-451e-bc11-b7743be9b3ae",
   "metadata": {},
   "source": [
    "Zapoznaj się z wynikami z artykułu:\\\n",
    "*Mendonça, J. R. G. (2019).* **Simply modified GKL density classifiers that reach consensus faster.** *Physics Letters A, 383(19), 2264–2266. \n",
    "doi:10.1016/j.physleta.2019.04.033* (https://sci-hub.se/https://www.sciencedirect.com/science/article/abs/pii/S0375960119303512?via=ihub)\n",
    "\n",
    "Spróbuj powtórzyć eksperymenty tam wykonane dla wybranego N dla którego mamy \"zbiór Marcina\" % poprawnych klasyfikacji dla reguł GKL(j, k) dla kilku, wybranych przez Ciebie przypadków j, k.\n",
    "\n",
    "**Wariant (*) - zbadaj również średni czas klasyfikacji - tzn. czy widać, które reguły są szybsze od innych.**"
   ]
  },
  {
   "cell_type": "markdown",
   "id": "39c9fff7-cc28-427e-8842-439f032daac7",
   "metadata": {},
   "source": [
    "### Implementacja GKL(j, k)\n",
    "$\n",
    "x^{t+1}_i = \n",
    "\\begin{cases} \n",
    "\\text{maj}(x^t_{i-k}, x^t_{i-j}, x^t_i) & \\text{jeśli } x^t_i = 0, \\\\\n",
    "\\text{maj}(x^t_i, x^t_{i+j}, x^t_{i+k}) & \\text{jeśli } x^t_i = 1, \n",
    "\\end{cases}\n",
    "$\n",
    "\n",
    "gdzie wybieramy sąsiadów $i\\pm j$ oraz $i\\pm k$ takich, że $k>j\\geq i$."
   ]
  },
  {
   "cell_type": "code",
   "execution_count": 15,
   "id": "3863df07-f958-4c93-8862-a69b354278b5",
   "metadata": {},
   "outputs": [],
   "source": [
    "def majority(p, q, r):\n",
    "    return np.floor(0.5 * (p + q + r))\n",
    "\n",
    "def gkl_step(x: np.ndarray, j: int, k: int) -> np.ndarray:\n",
    "    x_left = np.roll(x, j)\n",
    "    x_right = np.roll(x, -j)\n",
    "    x_far_left = np.roll(x, k)\n",
    "    x_far_right = np.roll(x, -k)\n",
    "\n",
    "    new_x = np.where(x == 0, majority(x_far_left, x_left, x), majority(x, x_right, x_far_right))\n",
    "    return new_x\n"
   ]
  },
  {
   "cell_type": "code",
   "execution_count": 19,
   "id": "078f7ae6-ed2b-4f4d-9cec-40286b7f1091",
   "metadata": {},
   "outputs": [],
   "source": [
    "def gkl_spacetime(initial_conf: np.ndarray, j: int, k: int, steps: int) -> np.ndarray:\n",
    "    rows = [initial_conf]\n",
    "    for _ in range(1, steps):\n",
    "        rows.append(gkl_step(rows[-1], j, k))\n",
    "    return np.stack(rows)\n"
   ]
  },
  {
   "cell_type": "markdown",
   "id": "cecbff54-8dd6-44c0-91d8-010bee925c52",
   "metadata": {},
   "source": [
    "Dla k = -1, j = 1 otrzymujemy te same wyniki co w `eca_evolve()` i `eca_evolve_spacetime()` dla ECA 232 (majority):"
   ]
  },
  {
   "cell_type": "code",
   "execution_count": 32,
   "id": "c42e03ed-de90-4ee1-8023-ea0f1f3adcc3",
   "metadata": {},
   "outputs": [
    {
     "data": {
      "text/plain": [
       "array([0., 1., 1., 1., 1., 1., 0., 0., 0.])"
      ]
     },
     "execution_count": 32,
     "metadata": {},
     "output_type": "execute_result"
    }
   ],
   "source": [
    "gkl_step(x, -1, 1)"
   ]
  },
  {
   "cell_type": "code",
   "execution_count": 31,
   "id": "c704b070-9c73-4a83-992f-5cad42afcb12",
   "metadata": {},
   "outputs": [
    {
     "data": {
      "text/plain": [
       "array([[0., 1., 1., 1., 1., 1., 0., 0., 0.],\n",
       "       [0., 1., 1., 1., 1., 1., 0., 0., 0.],\n",
       "       [0., 1., 1., 1., 1., 1., 0., 0., 0.],\n",
       "       [0., 1., 1., 1., 1., 1., 0., 0., 0.],\n",
       "       [0., 1., 1., 1., 1., 1., 0., 0., 0.],\n",
       "       [0., 1., 1., 1., 1., 1., 0., 0., 0.],\n",
       "       [0., 1., 1., 1., 1., 1., 0., 0., 0.],\n",
       "       [0., 1., 1., 1., 1., 1., 0., 0., 0.],\n",
       "       [0., 1., 1., 1., 1., 1., 0., 0., 0.],\n",
       "       [0., 1., 1., 1., 1., 1., 0., 0., 0.],\n",
       "       [0., 1., 1., 1., 1., 1., 0., 0., 0.],\n",
       "       [0., 1., 1., 1., 1., 1., 0., 0., 0.],\n",
       "       [0., 1., 1., 1., 1., 1., 0., 0., 0.],\n",
       "       [0., 1., 1., 1., 1., 1., 0., 0., 0.],\n",
       "       [0., 1., 1., 1., 1., 1., 0., 0., 0.],\n",
       "       [0., 1., 1., 1., 1., 1., 0., 0., 0.],\n",
       "       [0., 1., 1., 1., 1., 1., 0., 0., 0.],\n",
       "       [0., 1., 1., 1., 1., 1., 0., 0., 0.]])"
      ]
     },
     "execution_count": 31,
     "metadata": {},
     "output_type": "execute_result"
    }
   ],
   "source": [
    "gkl_spacetime(x, -1, 1, 18)"
   ]
  },
  {
   "cell_type": "markdown",
   "id": "a722fb29-3b60-4b53-829f-e3cdff90c205",
   "metadata": {},
   "source": [
    "### Eksperyment dla N = 23"
   ]
  },
  {
   "cell_type": "code",
   "execution_count": 39,
   "id": "4a26a557-cb0e-4c0b-bcdc-b6a6ff218791",
   "metadata": {},
   "outputs": [
    {
     "data": {
      "text/plain": [
       "364724"
      ]
     },
     "execution_count": 39,
     "metadata": {},
     "output_type": "execute_result"
    }
   ],
   "source": [
    "configurations = configuration_reader(\"ALL_N23.bin\", 23, True)\n",
    "len(configurations)"
   ]
  },
  {
   "cell_type": "markdown",
   "id": "ae42e5fe-e754-405a-a89d-896768f60559",
   "metadata": {},
   "source": [
    "Funkcja do klasyfikacji gęstości:"
   ]
  },
  {
   "cell_type": "code",
   "execution_count": 40,
   "id": "4db58036-86f4-4ae9-a1e8-84734d9e4921",
   "metadata": {},
   "outputs": [],
   "source": [
    "def dcp_gkl(initial_config, j, k, steps):\n",
    "    initial_density = sum(initial_config)/len(initial_config)\n",
    "    config = gkl_spacetime(initial_config, j, k, steps)[-1]\n",
    "    result_density = sum(config)/len(config)\n",
    "\n",
    "    if initial_density < 0.5:\n",
    "        if result_density < 0.5:\n",
    "            return 1\n",
    "        else:\n",
    "            return 0\n",
    "    if initial_density > 0.5:\n",
    "        if result_density > 0.5:\n",
    "            return 1\n",
    "        else:\n",
    "            return 0\n",
    "    return 0\n"
   ]
  },
  {
   "cell_type": "code",
   "execution_count": 49,
   "id": "82bf1882-b9f5-4964-93a1-7b22f44eb936",
   "metadata": {},
   "outputs": [
    {
     "name": "stdout",
     "output_type": "stream",
     "text": [
      "GKL(4,12)\n",
      "Poprawna klasyfikacja gęstości: 90.515%\n",
      "Czas wykonania: 278.20585 sekund\n",
      "\n",
      "GKL(3,9)\n",
      "Poprawna klasyfikacja gęstości: 90.515%\n",
      "Czas wykonania: 288.81525 sekund\n",
      "\n",
      "GKL(2,6)\n",
      "Poprawna klasyfikacja gęstości: 90.515%\n",
      "Czas wykonania: 290.2187 sekund\n",
      "\n",
      "GKL(5,15)\n",
      "Poprawna klasyfikacja gęstości: 90.515%\n",
      "Czas wykonania: 330.15819 sekund\n",
      "\n",
      "GKL(1,3)\n",
      "Poprawna klasyfikacja gęstości: 90.515%\n",
      "Czas wykonania: 316.66102 sekund\n",
      "\n",
      "GKL(1,9)\n",
      "Poprawna klasyfikacja gęstości: 91.244%\n",
      "Czas wykonania: 352.0376 sekund\n",
      "\n",
      "GKL(1,11)\n",
      "Poprawna klasyfikacja gęstości: 89.876%\n",
      "Czas wykonania: 333.32634 sekund\n",
      "\n",
      "GKL(2,14)\n",
      "Poprawna klasyfikacja gęstości: 91.621%\n",
      "Czas wykonania: 301.38556 sekund\n",
      "\n",
      "GKL(2,10)\n",
      "Poprawna klasyfikacja gęstości: 90.728%\n",
      "Czas wykonania: 332.68055 sekund\n",
      "\n",
      "GKL(3,15)\n",
      "Poprawna klasyfikacja gęstości: 90.728%\n",
      "Czas wykonania: 340.35098 sekund\n",
      "\n",
      "GKL(1,7)\n",
      "Poprawna klasyfikacja gęstości: 91.621%\n",
      "Czas wykonania: 328.28764 sekund\n",
      "\n",
      "GKL(1,5)\n",
      "Poprawna klasyfikacja gęstości: 90.728%\n",
      "Czas wykonania: 286.03217 sekund\n",
      "\n"
     ]
    }
   ],
   "source": [
    "neighbors = [(4,12), (3,9), (2,6), (5,15), (1,3), (1,9), (1,11), (2,14), (2,10), (3,15), (1,7), (1,5)]\n",
    "results = []\n",
    "times = []\n",
    "\n",
    "for j, k in neighbors:\n",
    "    print(f'GKL({j},{k})')\n",
    "\n",
    "    start_time = time.time()\n",
    "    l = Parallel(n_jobs=-1)(delayed(dcp_gkl)(config, j, k, 46) for config in configurations)\n",
    "    end_time = time.time()\n",
    "    t = end_time - start_time\n",
    "    times.append(round(t, 5))\n",
    "    \n",
    "    results.append(round(sum(l)/len(configurations),5))\n",
    "    print(f'Poprawna klasyfikacja gęstości: {100*results[-1]}%')\n",
    "    print(f'Czas wykonania: {times[-1]} sekund')\n",
    "    print()"
   ]
  },
  {
   "cell_type": "code",
   "execution_count": 51,
   "id": "16cc39ab-7085-41e0-8a5b-caaa0ec6e67c",
   "metadata": {},
   "outputs": [
    {
     "data": {
      "text/html": [
       "<div>\n",
       "<style scoped>\n",
       "    .dataframe tbody tr th:only-of-type {\n",
       "        vertical-align: middle;\n",
       "    }\n",
       "\n",
       "    .dataframe tbody tr th {\n",
       "        vertical-align: top;\n",
       "    }\n",
       "\n",
       "    .dataframe thead th {\n",
       "        text-align: right;\n",
       "    }\n",
       "</style>\n",
       "<table border=\"1\" class=\"dataframe\">\n",
       "  <thead>\n",
       "    <tr style=\"text-align: right;\">\n",
       "      <th></th>\n",
       "      <th>(4, 12)</th>\n",
       "      <th>(3, 9)</th>\n",
       "      <th>(2, 6)</th>\n",
       "      <th>(5, 15)</th>\n",
       "      <th>(1, 3)</th>\n",
       "      <th>(1, 9)</th>\n",
       "      <th>(1, 11)</th>\n",
       "      <th>(2, 14)</th>\n",
       "      <th>(2, 10)</th>\n",
       "      <th>(3, 15)</th>\n",
       "      <th>(1, 7)</th>\n",
       "      <th>(1, 5)</th>\n",
       "    </tr>\n",
       "  </thead>\n",
       "  <tbody>\n",
       "    <tr>\n",
       "      <th>correctness</th>\n",
       "      <td>0.90515</td>\n",
       "      <td>0.90515</td>\n",
       "      <td>0.90515</td>\n",
       "      <td>0.90515</td>\n",
       "      <td>0.90515</td>\n",
       "      <td>0.91244</td>\n",
       "      <td>0.89876</td>\n",
       "      <td>0.91621</td>\n",
       "      <td>0.90728</td>\n",
       "      <td>0.90728</td>\n",
       "      <td>0.91621</td>\n",
       "      <td>0.90728</td>\n",
       "    </tr>\n",
       "    <tr>\n",
       "      <th>time</th>\n",
       "      <td>278.20585</td>\n",
       "      <td>288.81525</td>\n",
       "      <td>290.21870</td>\n",
       "      <td>330.15819</td>\n",
       "      <td>316.66102</td>\n",
       "      <td>352.03760</td>\n",
       "      <td>333.32634</td>\n",
       "      <td>301.38556</td>\n",
       "      <td>332.68055</td>\n",
       "      <td>340.35098</td>\n",
       "      <td>328.28764</td>\n",
       "      <td>286.03217</td>\n",
       "    </tr>\n",
       "  </tbody>\n",
       "</table>\n",
       "</div>"
      ],
      "text/plain": [
       "               (4, 12)     (3, 9)     (2, 6)    (5, 15)     (1, 3)     (1, 9)  \\\n",
       "correctness    0.90515    0.90515    0.90515    0.90515    0.90515    0.91244   \n",
       "time         278.20585  288.81525  290.21870  330.15819  316.66102  352.03760   \n",
       "\n",
       "               (1, 11)    (2, 14)    (2, 10)    (3, 15)     (1, 7)     (1, 5)  \n",
       "correctness    0.89876    0.91621    0.90728    0.90728    0.91621    0.90728  \n",
       "time         333.32634  301.38556  332.68055  340.35098  328.28764  286.03217  "
      ]
     },
     "execution_count": 51,
     "metadata": {},
     "output_type": "execute_result"
    }
   ],
   "source": [
    "df = pd.DataFrame({'correctness': results, 'time': times}, index=neighbors)\n",
    "df.T"
   ]
  },
  {
   "cell_type": "markdown",
   "id": "3002f5b5-369b-45a1-84e6-c53b064ab107",
   "metadata": {},
   "source": [
    "---\n",
    "# Algorytmy ewolucyjne"
   ]
  },
  {
   "cell_type": "markdown",
   "id": "33c9d445-024d-4c25-a796-7cd5767c6bff",
   "metadata": {},
   "source": [
    "## zad.11"
   ]
  },
  {
   "cell_type": "markdown",
   "id": "d6b65c73-58b3-4f5f-a9e5-b27be72096de",
   "metadata": {},
   "source": [
    "Zaimplementuj algorytm ewolucyjny, który poszukuje rozwiązań DCP wśród binarnych automatów komórkowych o promieniu sąsiedztwa r=2, dla liczby komórek N=23 (korzystając ze zbioru Marcina) i limitu czasu T = 2*N. Zdecyduj sama / sam ile populacji i jak duże populacje potrzebujesz - możesz to określić robiąc eksperymenty. Możesz również dowolnie manipulować mutacjami, krzyżowaniem, selekcją itd.\n",
    "\n",
    "Jaki najlepszy wynik (największą liczbę poprawnie sklasyfikowanych konfiguracji) uda Ci się uzyskać? Podaj LUT najlepszej, znalezionej przez Twój algorytm reguły. \n",
    "\n",
    "Uzyskane przez nas wszystkich reguły porównam na zbiorach N=23 i większych, jak tylko otrzymam wszystkie rozwiązania i wyłonimy zwycięzców. Może uda się komuś z nas pobić GKL?\n",
    "\n",
    "Sugestie:\n",
    "- Do wstępnych testów możesz najpierw użyć mniejszego N i zamiast zbioru Marcina, użyć mniejszy zbiór wygenerowany losowo - program będzie działać szybciej, zatem szybciej będziesz wprowadzać w nim zmiany.\n",
    "- Koniecznie użyj przetwarzania równoległego aby w pełni wykorzystać moc współczesnych procesorów oraz cache’owania - tak, żeby nie przeliczać tej samej reguły CA wiele razy.\n",
    "- GitHub CodeSpaces dają 4-rdzeniowy procesor w chmurze dostępny za darmo (30 lub 60 godzin obliczeń w miesiącu).\n",
    "- Czy dla każdego wyliczenia wartości funkcji dopasowania trzeba używać cały zbiór warunków początkowych? Może aby było szybciej, dla każdej populacji można losować pewien podzbiór zbioru warunków początkowych i dzięki temu szybciej tworzyć nowe populacje? (A może te podzbiory też powinny podlegać “ewolucji”? Mamy wtedy do czynienia z koewolucją.)\n",
    "- Przedyskutuj to zagadnienie z ChatGPT. Poproś o sugestie, pomysły na usprawnienia kodu itd!"
   ]
  },
  {
   "cell_type": "code",
   "execution_count": null,
   "id": "86fa6f59-2925-4ae8-8d09-dc62f9d87924",
   "metadata": {},
   "outputs": [],
   "source": [
    "# ECA to automaty o promieniu r=1, teraz mamy r=2, czyli sąsiedztwo 5!!\n",
    "# trzeba zmodyfikować eca_get_lut(do 32 a nie 8) i eca_evolve(na filmiku)\n",
    "# podać lut, który wyszedł jako najlepszy!!"
   ]
  },
  {
   "cell_type": "code",
   "execution_count": null,
   "id": "63032c63-b451-4425-a12f-fb0095041100",
   "metadata": {},
   "outputs": [],
   "source": []
  },
  {
   "cell_type": "code",
   "execution_count": null,
   "id": "eb2d2b1b-5a5a-4db0-bd9f-c79d6989ba1e",
   "metadata": {},
   "outputs": [],
   "source": []
  },
  {
   "cell_type": "markdown",
   "id": "70ccc218-5d8e-4bb6-bb2b-b76e57a0f1a8",
   "metadata": {},
   "source": []
  },
  {
   "cell_type": "code",
   "execution_count": null,
   "id": "02f034a3-9459-4c60-8323-fa75cc0a27d5",
   "metadata": {},
   "outputs": [],
   "source": []
  },
  {
   "cell_type": "code",
   "execution_count": null,
   "id": "09584a3d-1c89-423f-8b43-2763eb1b4e03",
   "metadata": {},
   "outputs": [],
   "source": []
  },
  {
   "cell_type": "code",
   "execution_count": null,
   "id": "55432849-5f88-4135-bf7b-97af55ab36ef",
   "metadata": {},
   "outputs": [],
   "source": []
  },
  {
   "cell_type": "code",
   "execution_count": null,
   "id": "d79e3a82-4c2f-4b82-90bd-57b941f8f768",
   "metadata": {},
   "outputs": [],
   "source": []
  },
  {
   "cell_type": "code",
   "execution_count": null,
   "id": "1f76a276-c587-4836-a0bd-2af726cbfdc1",
   "metadata": {},
   "outputs": [],
   "source": []
  },
  {
   "cell_type": "code",
   "execution_count": null,
   "id": "ac18e460-18a4-495a-abe5-caac2d6ae91f",
   "metadata": {},
   "outputs": [],
   "source": []
  }
 ],
 "metadata": {
  "kernelspec": {
   "display_name": "Python 3 (ipykernel)",
   "language": "python",
   "name": "python3"
  },
  "language_info": {
   "codemirror_mode": {
    "name": "ipython",
    "version": 3
   },
   "file_extension": ".py",
   "mimetype": "text/x-python",
   "name": "python",
   "nbconvert_exporter": "python",
   "pygments_lexer": "ipython3",
   "version": "3.10.0"
  }
 },
 "nbformat": 4,
 "nbformat_minor": 5
}
