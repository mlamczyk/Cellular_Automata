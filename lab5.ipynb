{
  "cells": [
    {
      "cell_type": "markdown",
      "id": "cd2ccdff-0f46-4fcd-a125-43e006f6bfd7",
      "metadata": {
        "id": "cd2ccdff-0f46-4fcd-a125-43e006f6bfd7"
      },
      "source": [
        "# Problem klasyfikacji gęstości (DCP)"
      ]
    },
    {
      "cell_type": "markdown",
      "id": "cf72e4a8-5c74-492e-a820-c94552b7d5ac",
      "metadata": {
        "id": "cf72e4a8-5c74-492e-a820-c94552b7d5ac"
      },
      "source": [
        "## Imports"
      ]
    },
    {
      "cell_type": "code",
      "execution_count": 2,
      "id": "06c8eabc-b44c-41da-9dd7-0b4d9ae44cb4",
      "metadata": {
        "colab": {
          "base_uri": "https://localhost:8080/"
        },
        "id": "06c8eabc-b44c-41da-9dd7-0b4d9ae44cb4",
        "outputId": "58100377-84d2-41f6-ff52-7966bad4fb54"
      },
      "outputs": [
        {
          "output_type": "stream",
          "name": "stdout",
          "text": [
            "Requirement already satisfied: joblib in /usr/local/lib/python3.10/dist-packages (1.4.0)\n"
          ]
        }
      ],
      "source": [
        "pip install joblib"
      ]
    },
    {
      "cell_type": "code",
      "source": [
        "pip install pygad"
      ],
      "metadata": {
        "colab": {
          "base_uri": "https://localhost:8080/"
        },
        "id": "2n2wLw5G9_E3",
        "outputId": "c69898b2-1545-4fe3-df51-f24d4917808f"
      },
      "id": "2n2wLw5G9_E3",
      "execution_count": 3,
      "outputs": [
        {
          "output_type": "stream",
          "name": "stdout",
          "text": [
            "Collecting pygad\n",
            "  Downloading pygad-3.3.1-py3-none-any.whl (84 kB)\n",
            "\u001b[?25l     \u001b[90m━━━━━━━━━━━━━━━━━━━━━━━━━━━━━━━━━━━━━━━━\u001b[0m \u001b[32m0.0/84.1 kB\u001b[0m \u001b[31m?\u001b[0m eta \u001b[36m-:--:--\u001b[0m\r\u001b[2K     \u001b[91m━━━━━━━━━━━━━━━━━━━━━━━━━━━━━\u001b[0m\u001b[90m╺\u001b[0m\u001b[90m━━━━━━━━━━\u001b[0m \u001b[32m61.4/84.1 kB\u001b[0m \u001b[31m1.8 MB/s\u001b[0m eta \u001b[36m0:00:01\u001b[0m\r\u001b[2K     \u001b[90m━━━━━━━━━━━━━━━━━━━━━━━━━━━━━━━━━━━━━━━━\u001b[0m \u001b[32m84.1/84.1 kB\u001b[0m \u001b[31m1.7 MB/s\u001b[0m eta \u001b[36m0:00:00\u001b[0m\n",
            "\u001b[?25hRequirement already satisfied: cloudpickle in /usr/local/lib/python3.10/dist-packages (from pygad) (2.2.1)\n",
            "Requirement already satisfied: matplotlib in /usr/local/lib/python3.10/dist-packages (from pygad) (3.7.1)\n",
            "Requirement already satisfied: numpy in /usr/local/lib/python3.10/dist-packages (from pygad) (1.25.2)\n",
            "Requirement already satisfied: contourpy>=1.0.1 in /usr/local/lib/python3.10/dist-packages (from matplotlib->pygad) (1.2.1)\n",
            "Requirement already satisfied: cycler>=0.10 in /usr/local/lib/python3.10/dist-packages (from matplotlib->pygad) (0.12.1)\n",
            "Requirement already satisfied: fonttools>=4.22.0 in /usr/local/lib/python3.10/dist-packages (from matplotlib->pygad) (4.51.0)\n",
            "Requirement already satisfied: kiwisolver>=1.0.1 in /usr/local/lib/python3.10/dist-packages (from matplotlib->pygad) (1.4.5)\n",
            "Requirement already satisfied: packaging>=20.0 in /usr/local/lib/python3.10/dist-packages (from matplotlib->pygad) (24.0)\n",
            "Requirement already satisfied: pillow>=6.2.0 in /usr/local/lib/python3.10/dist-packages (from matplotlib->pygad) (9.4.0)\n",
            "Requirement already satisfied: pyparsing>=2.3.1 in /usr/local/lib/python3.10/dist-packages (from matplotlib->pygad) (3.1.2)\n",
            "Requirement already satisfied: python-dateutil>=2.7 in /usr/local/lib/python3.10/dist-packages (from matplotlib->pygad) (2.8.2)\n",
            "Requirement already satisfied: six>=1.5 in /usr/local/lib/python3.10/dist-packages (from python-dateutil>=2.7->matplotlib->pygad) (1.16.0)\n",
            "Installing collected packages: pygad\n",
            "Successfully installed pygad-3.3.1\n"
          ]
        }
      ]
    },
    {
      "cell_type": "code",
      "execution_count": 4,
      "id": "49f16681-95b2-441a-80ff-735cd6ff19a8",
      "metadata": {
        "id": "49f16681-95b2-441a-80ff-735cd6ff19a8"
      },
      "outputs": [],
      "source": [
        "import math\n",
        "import time\n",
        "import pygad\n",
        "import random\n",
        "import numpy as np\n",
        "import pandas as pd\n",
        "import matplotlib.pyplot as plt\n",
        "from joblib import Parallel, delayed"
      ]
    },
    {
      "cell_type": "markdown",
      "id": "3adf3ff6-d5b4-490f-a44a-6518f1b184cc",
      "metadata": {
        "id": "3adf3ff6-d5b4-490f-a44a-6518f1b184cc"
      },
      "source": [
        "## Wczytywanie konfiguracji Pana Marcina\n",
        "Pliki z konfiguracjami można pobrać z https://github.com/D3M80L/CA/tree/master/phd/data."
      ]
    },
    {
      "cell_type": "code",
      "execution_count": 5,
      "id": "f7d26745-668f-4312-b203-2abdc8fed6ad",
      "metadata": {
        "id": "f7d26745-668f-4312-b203-2abdc8fed6ad"
      },
      "outputs": [],
      "source": [
        "def convert_configuration(configuration: bytes, N: int):\n",
        "    binary_str = ''.join(f'{byte:08b}' for byte in configuration)\n",
        "    return np.array([int(bit) for bit in binary_str[:N]])\n"
      ]
    },
    {
      "cell_type": "code",
      "execution_count": 6,
      "id": "2e6a9457-6c88-461b-b9b3-b9f036905565",
      "metadata": {
        "id": "2e6a9457-6c88-461b-b9b3-b9f036905565"
      },
      "outputs": [],
      "source": [
        "def configuration_reader(file_name: str, N: int, negate: bool):\n",
        "    bytes_per_configuration = math.ceil(N / 8)\n",
        "    configurations = []\n",
        "\n",
        "    with open(file_name, 'rb') as file:\n",
        "        while True:\n",
        "            bytes_read = file.read(bytes_per_configuration)\n",
        "            if not bytes_read:\n",
        "                break\n",
        "\n",
        "            cfg = convert_configuration(bytes_read, N)\n",
        "            configurations.append(cfg)\n",
        "\n",
        "            if negate:\n",
        "                configurations.append(1 - cfg)\n",
        "\n",
        "    return np.stack(configurations)\n"
      ]
    },
    {
      "cell_type": "markdown",
      "source": [
        "---"
      ],
      "metadata": {
        "id": "IDqYav0Ko042"
      },
      "id": "IDqYav0Ko042"
    },
    {
      "cell_type": "code",
      "execution_count": 4,
      "id": "986f8e6d-0277-411c-8cdf-3b37049045a5",
      "metadata": {
        "id": "986f8e6d-0277-411c-8cdf-3b37049045a5"
      },
      "outputs": [],
      "source": [
        "def eca_get_lut(rule_num: int) -> np.ndarray:\n",
        "    return np.array([int(x) for x in bin(rule_num)[2:].zfill(8)], dtype=np.uint8)\n",
        "\n",
        "def eca_evolve(lut: np.ndarray, x: np.ndarray) -> np.ndarray:\n",
        "    return lut[7 - (np.roll(x, 1) * 4 + x * 2 + np.roll(x, -1))]\n",
        "\n",
        "def eca_evolve_spacetime(lut: np.ndarray, initial_conf: np.ndarray, steps: int) -> np.ndarray:\n",
        "    rows = [initial_conf]\n",
        "    for _ in range(1, steps):\n",
        "        rows.append(eca_evolve(lut, rows[-1]))\n",
        "    return np.stack(rows)\n"
      ]
    },
    {
      "cell_type": "code",
      "execution_count": null,
      "id": "4cb4e74e-5b76-4fff-b246-db4dbb2b32a2",
      "metadata": {
        "colab": {
          "base_uri": "https://localhost:8080/"
        },
        "id": "4cb4e74e-5b76-4fff-b246-db4dbb2b32a2",
        "outputId": "7f1b5e52-497b-46a6-f7aa-8dd2cda09787"
      },
      "outputs": [
        {
          "output_type": "execute_result",
          "data": {
            "text/plain": [
              "array([0, 1, 0, 0, 1, 0, 1, 0, 1])"
            ]
          },
          "metadata": {},
          "execution_count": 6
        }
      ],
      "source": [
        "np.random.randint(2, size=9)"
      ]
    },
    {
      "cell_type": "code",
      "execution_count": null,
      "id": "1470c3f6-d945-4562-8aeb-52580830981b",
      "metadata": {
        "colab": {
          "base_uri": "https://localhost:8080/"
        },
        "id": "1470c3f6-d945-4562-8aeb-52580830981b",
        "outputId": "7812b551-dcba-4d58-95bd-aaa5990527a8"
      },
      "outputs": [
        {
          "output_type": "execute_result",
          "data": {
            "text/plain": [
              "array([0, 1, 1, 1, 1, 1, 0, 0, 0], dtype=uint8)"
            ]
          },
          "metadata": {},
          "execution_count": 7
        }
      ],
      "source": [
        "lut = eca_get_lut(232)\n",
        "x = np.array([0,1,1,1,1,1,0,0,0])\n",
        "eca_evolve(lut, x)"
      ]
    },
    {
      "cell_type": "code",
      "execution_count": null,
      "id": "a715bacc-8251-4e26-98e5-72cd55c4a6cb",
      "metadata": {
        "colab": {
          "base_uri": "https://localhost:8080/"
        },
        "id": "a715bacc-8251-4e26-98e5-72cd55c4a6cb",
        "outputId": "9d971179-1959-4d21-b252-bc13e84c8535"
      },
      "outputs": [
        {
          "output_type": "execute_result",
          "data": {
            "text/plain": [
              "array([[0, 1, 1, 1, 1, 1, 0, 0, 0],\n",
              "       [0, 1, 1, 1, 1, 1, 0, 0, 0],\n",
              "       [0, 1, 1, 1, 1, 1, 0, 0, 0],\n",
              "       [0, 1, 1, 1, 1, 1, 0, 0, 0],\n",
              "       [0, 1, 1, 1, 1, 1, 0, 0, 0],\n",
              "       [0, 1, 1, 1, 1, 1, 0, 0, 0],\n",
              "       [0, 1, 1, 1, 1, 1, 0, 0, 0],\n",
              "       [0, 1, 1, 1, 1, 1, 0, 0, 0],\n",
              "       [0, 1, 1, 1, 1, 1, 0, 0, 0],\n",
              "       [0, 1, 1, 1, 1, 1, 0, 0, 0],\n",
              "       [0, 1, 1, 1, 1, 1, 0, 0, 0],\n",
              "       [0, 1, 1, 1, 1, 1, 0, 0, 0],\n",
              "       [0, 1, 1, 1, 1, 1, 0, 0, 0],\n",
              "       [0, 1, 1, 1, 1, 1, 0, 0, 0],\n",
              "       [0, 1, 1, 1, 1, 1, 0, 0, 0],\n",
              "       [0, 1, 1, 1, 1, 1, 0, 0, 0],\n",
              "       [0, 1, 1, 1, 1, 1, 0, 0, 0],\n",
              "       [0, 1, 1, 1, 1, 1, 0, 0, 0]])"
            ]
          },
          "metadata": {},
          "execution_count": 8
        }
      ],
      "source": [
        "eca_evolve_spacetime(lut, x, 18)"
      ]
    },
    {
      "cell_type": "markdown",
      "id": "bc725428-e185-4631-91bb-69b7e2c718a8",
      "metadata": {
        "id": "bc725428-e185-4631-91bb-69b7e2c718a8"
      },
      "source": [
        "(1D ECA Simulator: https://elife-asu.github.io/wss-modules/modules/1-1d-cellular-automata/)"
      ]
    },
    {
      "cell_type": "markdown",
      "id": "ad7855e0-9b0c-4322-b090-41a605f21081",
      "metadata": {
        "id": "ad7855e0-9b0c-4322-b090-41a605f21081"
      },
      "source": [
        "---\n",
        "## zad.9 (lekko zmodyfikowane)"
      ]
    },
    {
      "cell_type": "markdown",
      "id": "b64f8986-78b5-451e-bc11-b7743be9b3ae",
      "metadata": {
        "id": "b64f8986-78b5-451e-bc11-b7743be9b3ae"
      },
      "source": [
        "Zapoznaj się z wynikami z artykułu:\\\n",
        "*Mendonça, J. R. G. (2019).* **Simply modified GKL density classifiers that reach consensus faster.** *Physics Letters A, 383(19), 2264–2266.\n",
        "doi:10.1016/j.physleta.2019.04.033* (https://sci-hub.se/https://www.sciencedirect.com/science/article/abs/pii/S0375960119303512?via=ihub)\n",
        "\n",
        "Spróbuj powtórzyć eksperymenty tam wykonane dla wybranego N dla którego mamy \"zbiór Marcina\" % poprawnych klasyfikacji dla reguł GKL(j, k) dla kilku, wybranych przez Ciebie przypadków j, k.\n",
        "\n",
        "**Wariant (*) - zbadaj również średni czas klasyfikacji - tzn. czy widać, które reguły są szybsze od innych.**"
      ]
    },
    {
      "cell_type": "markdown",
      "id": "39c9fff7-cc28-427e-8842-439f032daac7",
      "metadata": {
        "id": "39c9fff7-cc28-427e-8842-439f032daac7"
      },
      "source": [
        "### Implementacja GKL(j, k)\n",
        "$\n",
        "x^{t+1}_i =\n",
        "\\begin{cases}\n",
        "\\text{maj}(x^t_{i-k}, x^t_{i-j}, x^t_i) & \\text{jeśli } x^t_i = 0, \\\\\n",
        "\\text{maj}(x^t_i, x^t_{i+j}, x^t_{i+k}) & \\text{jeśli } x^t_i = 1,\n",
        "\\end{cases}\n",
        "$\n",
        "\n",
        "gdzie wybieramy sąsiadów $i\\pm j$ oraz $i\\pm k$ takich, że $k>j\\geq i$."
      ]
    },
    {
      "cell_type": "code",
      "execution_count": null,
      "id": "3863df07-f958-4c93-8862-a69b354278b5",
      "metadata": {
        "id": "3863df07-f958-4c93-8862-a69b354278b5"
      },
      "outputs": [],
      "source": [
        "def majority(p, q, r):\n",
        "    return np.floor(0.5 * (p + q + r))\n",
        "\n",
        "def gkl_step(x: np.ndarray, j: int, k: int) -> np.ndarray:\n",
        "    x_left = np.roll(x, j)\n",
        "    x_right = np.roll(x, -j)\n",
        "    x_far_left = np.roll(x, k)\n",
        "    x_far_right = np.roll(x, -k)\n",
        "\n",
        "    new_x = np.where(x == 0, majority(x_far_left, x_left, x), majority(x, x_right, x_far_right))\n",
        "    return new_x\n"
      ]
    },
    {
      "cell_type": "code",
      "execution_count": null,
      "id": "078f7ae6-ed2b-4f4d-9cec-40286b7f1091",
      "metadata": {
        "id": "078f7ae6-ed2b-4f4d-9cec-40286b7f1091"
      },
      "outputs": [],
      "source": [
        "def gkl_spacetime(initial_conf: np.ndarray, j: int, k: int, steps: int) -> np.ndarray:\n",
        "    rows = [initial_conf]\n",
        "    for _ in range(1, steps):\n",
        "        rows.append(gkl_step(rows[-1], j, k))\n",
        "    return np.stack(rows)\n"
      ]
    },
    {
      "cell_type": "markdown",
      "id": "cecbff54-8dd6-44c0-91d8-010bee925c52",
      "metadata": {
        "id": "cecbff54-8dd6-44c0-91d8-010bee925c52"
      },
      "source": [
        "Dla k = -1, j = 1 otrzymujemy te same wyniki co w `eca_evolve()` i `eca_evolve_spacetime()` dla ECA 232 (majority):"
      ]
    },
    {
      "cell_type": "code",
      "execution_count": null,
      "id": "c42e03ed-de90-4ee1-8023-ea0f1f3adcc3",
      "metadata": {
        "id": "c42e03ed-de90-4ee1-8023-ea0f1f3adcc3",
        "outputId": "72da6249-8567-473b-b81d-c78f73a7c9ff"
      },
      "outputs": [
        {
          "data": {
            "text/plain": [
              "array([0., 1., 1., 1., 1., 1., 0., 0., 0.])"
            ]
          },
          "execution_count": 11,
          "metadata": {},
          "output_type": "execute_result"
        }
      ],
      "source": [
        "gkl_step(x, -1, 1)"
      ]
    },
    {
      "cell_type": "code",
      "execution_count": null,
      "id": "c704b070-9c73-4a83-992f-5cad42afcb12",
      "metadata": {
        "id": "c704b070-9c73-4a83-992f-5cad42afcb12",
        "outputId": "3ba1a71b-48b4-4244-a287-f3d5003c0603"
      },
      "outputs": [
        {
          "data": {
            "text/plain": [
              "array([[0., 1., 1., 1., 1., 1., 0., 0., 0.],\n",
              "       [0., 1., 1., 1., 1., 1., 0., 0., 0.],\n",
              "       [0., 1., 1., 1., 1., 1., 0., 0., 0.],\n",
              "       [0., 1., 1., 1., 1., 1., 0., 0., 0.],\n",
              "       [0., 1., 1., 1., 1., 1., 0., 0., 0.],\n",
              "       [0., 1., 1., 1., 1., 1., 0., 0., 0.],\n",
              "       [0., 1., 1., 1., 1., 1., 0., 0., 0.],\n",
              "       [0., 1., 1., 1., 1., 1., 0., 0., 0.],\n",
              "       [0., 1., 1., 1., 1., 1., 0., 0., 0.],\n",
              "       [0., 1., 1., 1., 1., 1., 0., 0., 0.],\n",
              "       [0., 1., 1., 1., 1., 1., 0., 0., 0.],\n",
              "       [0., 1., 1., 1., 1., 1., 0., 0., 0.],\n",
              "       [0., 1., 1., 1., 1., 1., 0., 0., 0.],\n",
              "       [0., 1., 1., 1., 1., 1., 0., 0., 0.],\n",
              "       [0., 1., 1., 1., 1., 1., 0., 0., 0.],\n",
              "       [0., 1., 1., 1., 1., 1., 0., 0., 0.],\n",
              "       [0., 1., 1., 1., 1., 1., 0., 0., 0.],\n",
              "       [0., 1., 1., 1., 1., 1., 0., 0., 0.]])"
            ]
          },
          "execution_count": 12,
          "metadata": {},
          "output_type": "execute_result"
        }
      ],
      "source": [
        "gkl_spacetime(x, -1, 1, 18)"
      ]
    },
    {
      "cell_type": "markdown",
      "id": "a722fb29-3b60-4b53-829f-e3cdff90c205",
      "metadata": {
        "id": "a722fb29-3b60-4b53-829f-e3cdff90c205"
      },
      "source": [
        "### Eksperyment dla N = 23"
      ]
    },
    {
      "cell_type": "code",
      "execution_count": null,
      "id": "4a26a557-cb0e-4c0b-bcdc-b6a6ff218791",
      "metadata": {
        "id": "4a26a557-cb0e-4c0b-bcdc-b6a6ff218791",
        "outputId": "50c52ed5-3614-4ed2-a49f-9665a0cc9294"
      },
      "outputs": [
        {
          "data": {
            "text/plain": [
              "364724"
            ]
          },
          "execution_count": 13,
          "metadata": {},
          "output_type": "execute_result"
        }
      ],
      "source": [
        "configurations = configuration_reader(\"ALL_N23.bin\", 23, True)\n",
        "len(configurations)"
      ]
    },
    {
      "cell_type": "markdown",
      "id": "ae42e5fe-e754-405a-a89d-896768f60559",
      "metadata": {
        "id": "ae42e5fe-e754-405a-a89d-896768f60559"
      },
      "source": [
        "Funkcja do klasyfikacji gęstości:"
      ]
    },
    {
      "cell_type": "code",
      "execution_count": null,
      "id": "4db58036-86f4-4ae9-a1e8-84734d9e4921",
      "metadata": {
        "id": "4db58036-86f4-4ae9-a1e8-84734d9e4921"
      },
      "outputs": [],
      "source": [
        "def dcp_gkl(initial_config, j, k, steps):\n",
        "    initial_density = sum(initial_config)/len(initial_config)\n",
        "    config = gkl_spacetime(initial_config, j, k, steps)[-1]\n",
        "    result_density = sum(config)/len(config)\n",
        "\n",
        "    if initial_density < 0.5:\n",
        "        if result_density < 0.5:\n",
        "            return 1\n",
        "        else:\n",
        "            return 0\n",
        "    if initial_density > 0.5:\n",
        "        if result_density > 0.5:\n",
        "            return 1\n",
        "        else:\n",
        "            return 0\n",
        "    return 0\n"
      ]
    },
    {
      "cell_type": "code",
      "execution_count": null,
      "id": "82bf1882-b9f5-4964-93a1-7b22f44eb936",
      "metadata": {
        "id": "82bf1882-b9f5-4964-93a1-7b22f44eb936",
        "outputId": "f93e28a9-d758-4741-b75f-fc826034d204"
      },
      "outputs": [
        {
          "name": "stdout",
          "output_type": "stream",
          "text": [
            "GKL(4,12)\n",
            "Poprawna klasyfikacja gęstości: 90.515%\n",
            "Czas wykonania: 278.20585 sekund\n",
            "\n",
            "GKL(3,9)\n",
            "Poprawna klasyfikacja gęstości: 90.515%\n",
            "Czas wykonania: 288.81525 sekund\n",
            "\n",
            "GKL(2,6)\n",
            "Poprawna klasyfikacja gęstości: 90.515%\n",
            "Czas wykonania: 290.2187 sekund\n",
            "\n",
            "GKL(5,15)\n",
            "Poprawna klasyfikacja gęstości: 90.515%\n",
            "Czas wykonania: 330.15819 sekund\n",
            "\n",
            "GKL(1,3)\n",
            "Poprawna klasyfikacja gęstości: 90.515%\n",
            "Czas wykonania: 316.66102 sekund\n",
            "\n",
            "GKL(1,9)\n",
            "Poprawna klasyfikacja gęstości: 91.244%\n",
            "Czas wykonania: 352.0376 sekund\n",
            "\n",
            "GKL(1,11)\n",
            "Poprawna klasyfikacja gęstości: 89.876%\n",
            "Czas wykonania: 333.32634 sekund\n",
            "\n",
            "GKL(2,14)\n",
            "Poprawna klasyfikacja gęstości: 91.621%\n",
            "Czas wykonania: 301.38556 sekund\n",
            "\n",
            "GKL(2,10)\n",
            "Poprawna klasyfikacja gęstości: 90.728%\n",
            "Czas wykonania: 332.68055 sekund\n",
            "\n",
            "GKL(3,15)\n",
            "Poprawna klasyfikacja gęstości: 90.728%\n",
            "Czas wykonania: 340.35098 sekund\n",
            "\n",
            "GKL(1,7)\n",
            "Poprawna klasyfikacja gęstości: 91.621%\n",
            "Czas wykonania: 328.28764 sekund\n",
            "\n",
            "GKL(1,5)\n",
            "Poprawna klasyfikacja gęstości: 90.728%\n",
            "Czas wykonania: 286.03217 sekund\n",
            "\n"
          ]
        }
      ],
      "source": [
        "neighbors = [(4,12), (3,9), (2,6), (5,15), (1,3), (1,9), (1,11), (2,14), (2,10), (3,15), (1,7), (1,5)]\n",
        "results = []\n",
        "times = []\n",
        "\n",
        "for j, k in neighbors:\n",
        "    print(f'GKL({j},{k})')\n",
        "\n",
        "    start_time = time.time()\n",
        "    l = Parallel(n_jobs=-1)(delayed(dcp_gkl)(config, j, k, 46) for config in configurations)\n",
        "    end_time = time.time()\n",
        "    t = end_time - start_time\n",
        "    times.append(round(t, 5))\n",
        "\n",
        "    results.append(round(sum(l)/len(configurations),5))\n",
        "    print(f'Poprawna klasyfikacja gęstości: {100*results[-1]}%')\n",
        "    print(f'Czas wykonania: {times[-1]} sekund')\n",
        "    print()"
      ]
    },
    {
      "cell_type": "code",
      "execution_count": null,
      "id": "16cc39ab-7085-41e0-8a5b-caaa0ec6e67c",
      "metadata": {
        "id": "16cc39ab-7085-41e0-8a5b-caaa0ec6e67c",
        "outputId": "5d7bbc83-cb5c-417e-b407-22aabf72ac1f"
      },
      "outputs": [
        {
          "data": {
            "text/html": [
              "<div>\n",
              "<style scoped>\n",
              "    .dataframe tbody tr th:only-of-type {\n",
              "        vertical-align: middle;\n",
              "    }\n",
              "\n",
              "    .dataframe tbody tr th {\n",
              "        vertical-align: top;\n",
              "    }\n",
              "\n",
              "    .dataframe thead th {\n",
              "        text-align: right;\n",
              "    }\n",
              "</style>\n",
              "<table border=\"1\" class=\"dataframe\">\n",
              "  <thead>\n",
              "    <tr style=\"text-align: right;\">\n",
              "      <th></th>\n",
              "      <th>(4, 12)</th>\n",
              "      <th>(3, 9)</th>\n",
              "      <th>(2, 6)</th>\n",
              "      <th>(5, 15)</th>\n",
              "      <th>(1, 3)</th>\n",
              "      <th>(1, 9)</th>\n",
              "      <th>(1, 11)</th>\n",
              "      <th>(2, 14)</th>\n",
              "      <th>(2, 10)</th>\n",
              "      <th>(3, 15)</th>\n",
              "      <th>(1, 7)</th>\n",
              "      <th>(1, 5)</th>\n",
              "    </tr>\n",
              "  </thead>\n",
              "  <tbody>\n",
              "    <tr>\n",
              "      <th>correctness</th>\n",
              "      <td>0.90515</td>\n",
              "      <td>0.90515</td>\n",
              "      <td>0.90515</td>\n",
              "      <td>0.90515</td>\n",
              "      <td>0.90515</td>\n",
              "      <td>0.91244</td>\n",
              "      <td>0.89876</td>\n",
              "      <td>0.91621</td>\n",
              "      <td>0.90728</td>\n",
              "      <td>0.90728</td>\n",
              "      <td>0.91621</td>\n",
              "      <td>0.90728</td>\n",
              "    </tr>\n",
              "    <tr>\n",
              "      <th>time</th>\n",
              "      <td>278.20585</td>\n",
              "      <td>288.81525</td>\n",
              "      <td>290.21870</td>\n",
              "      <td>330.15819</td>\n",
              "      <td>316.66102</td>\n",
              "      <td>352.03760</td>\n",
              "      <td>333.32634</td>\n",
              "      <td>301.38556</td>\n",
              "      <td>332.68055</td>\n",
              "      <td>340.35098</td>\n",
              "      <td>328.28764</td>\n",
              "      <td>286.03217</td>\n",
              "    </tr>\n",
              "  </tbody>\n",
              "</table>\n",
              "</div>"
            ],
            "text/plain": [
              "               (4, 12)     (3, 9)     (2, 6)    (5, 15)     (1, 3)     (1, 9)  \\\n",
              "correctness    0.90515    0.90515    0.90515    0.90515    0.90515    0.91244   \n",
              "time         278.20585  288.81525  290.21870  330.15819  316.66102  352.03760   \n",
              "\n",
              "               (1, 11)    (2, 14)    (2, 10)    (3, 15)     (1, 7)     (1, 5)  \n",
              "correctness    0.89876    0.91621    0.90728    0.90728    0.91621    0.90728  \n",
              "time         333.32634  301.38556  332.68055  340.35098  328.28764  286.03217  "
            ]
          },
          "execution_count": 51,
          "metadata": {},
          "output_type": "execute_result"
        }
      ],
      "source": [
        "df = pd.DataFrame({'correctness': results, 'time': times}, index=neighbors)\n",
        "df.T"
      ]
    },
    {
      "cell_type": "markdown",
      "id": "3002f5b5-369b-45a1-84e6-c53b064ab107",
      "metadata": {
        "id": "3002f5b5-369b-45a1-84e6-c53b064ab107"
      },
      "source": [
        "---\n",
        "# Algorytmy ewolucyjne"
      ]
    },
    {
      "cell_type": "markdown",
      "id": "33c9d445-024d-4c25-a796-7cd5767c6bff",
      "metadata": {
        "id": "33c9d445-024d-4c25-a796-7cd5767c6bff"
      },
      "source": [
        "## zad.11"
      ]
    },
    {
      "cell_type": "markdown",
      "id": "d6b65c73-58b3-4f5f-a9e5-b27be72096de",
      "metadata": {
        "id": "d6b65c73-58b3-4f5f-a9e5-b27be72096de"
      },
      "source": [
        "Zaimplementuj algorytm ewolucyjny, który poszukuje rozwiązań DCP wśród binarnych automatów komórkowych o promieniu sąsiedztwa r=2, dla liczby komórek N=23 (korzystając ze zbioru Marcina) i limitu czasu T = 2*N. Zdecyduj sama / sam ile populacji i jak duże populacje potrzebujesz - możesz to określić robiąc eksperymenty. Możesz również dowolnie manipulować mutacjami, krzyżowaniem, selekcją itd.\n",
        "\n",
        "Jaki najlepszy wynik (największą liczbę poprawnie sklasyfikowanych konfiguracji) uda Ci się uzyskać? Podaj LUT najlepszej, znalezionej przez Twój algorytm reguły.\n",
        "\n",
        "Uzyskane przez nas wszystkich reguły porównam na zbiorach N=23 i większych, jak tylko otrzymam wszystkie rozwiązania i wyłonimy zwycięzców. Może uda się komuś z nas pobić GKL?\n",
        "\n",
        "Sugestie:\n",
        "- Do wstępnych testów możesz najpierw użyć mniejszego N i zamiast zbioru Marcina, użyć mniejszy zbiór wygenerowany losowo - program będzie działać szybciej, zatem szybciej będziesz wprowadzać w nim zmiany.\n",
        "- Koniecznie użyj przetwarzania równoległego aby w pełni wykorzystać moc współczesnych procesorów oraz cache’owania - tak, żeby nie przeliczać tej samej reguły CA wiele razy.\n",
        "- GitHub CodeSpaces dają 4-rdzeniowy procesor w chmurze dostępny za darmo (30 lub 60 godzin obliczeń w miesiącu).\n",
        "- Czy dla każdego wyliczenia wartości funkcji dopasowania trzeba używać cały zbiór warunków początkowych? Może aby było szybciej, dla każdej populacji można losować pewien podzbiór zbioru warunków początkowych i dzięki temu szybciej tworzyć nowe populacje? (A może te podzbiory też powinny podlegać “ewolucji”? Mamy wtedy do czynienia z koewolucją.)\n",
        "- Przedyskutuj to zagadnienie z ChatGPT. Poproś o sugestie, pomysły na usprawnienia kodu itd!"
      ]
    },
    {
      "cell_type": "code",
      "execution_count": null,
      "id": "86fa6f59-2925-4ae8-8d09-dc62f9d87924",
      "metadata": {
        "id": "86fa6f59-2925-4ae8-8d09-dc62f9d87924"
      },
      "outputs": [],
      "source": [
        "# ECA to automaty o promieniu r=1, teraz mamy r=2, czyli sąsiedztwo 5\n",
        "# trzeba zmodyfikować eca_get_lut(do 32 a nie 8) i eca_evolve()\n",
        "# podać lut, który wyszedł jako najlepszy"
      ]
    },
    {
      "cell_type": "code",
      "execution_count": 15,
      "id": "eb2d2b1b-5a5a-4db0-bd9f-c79d6989ba1e",
      "metadata": {
        "id": "eb2d2b1b-5a5a-4db0-bd9f-c79d6989ba1e",
        "outputId": "218fb565-a85b-460e-c820-8e2c27856aee",
        "colab": {
          "base_uri": "https://localhost:8080/"
        }
      },
      "outputs": [
        {
          "output_type": "execute_result",
          "data": {
            "text/plain": [
              "364724"
            ]
          },
          "metadata": {},
          "execution_count": 15
        }
      ],
      "source": [
        "configurations = configuration_reader(\"ALL_N23.bin\", 23, True)\n",
        "len(configurations)"
      ]
    },
    {
      "cell_type": "code",
      "execution_count": 16,
      "id": "63032c63-b451-4425-a12f-fb0095041100",
      "metadata": {
        "id": "63032c63-b451-4425-a12f-fb0095041100"
      },
      "outputs": [],
      "source": [
        "def eca_get_lut(rule_num: int) -> np.ndarray:\n",
        "    return np.array([int(x) for x in bin(rule_num)[2:].zfill(32)], dtype=np.uint8)\n",
        "\n",
        "def eca_evolve(lut: np.ndarray, x: np.ndarray) -> np.ndarray:\n",
        "    return lut[31 - (np.roll(x, 2) * 16 + np.roll(x, 1) * 8 + x * 4 + np.roll(x, -1) * 2 + np.roll(x, -2)).astype(int)]\n",
        "\n",
        "def eca_evolve_spacetime(lut: np.ndarray, initial_conf: np.ndarray, steps: int) -> np.ndarray:\n",
        "    rows = [initial_conf]\n",
        "    for _ in range(1, steps):\n",
        "        rows.append(eca_evolve(lut, rows[-1]))\n",
        "    return np.stack(rows)\n"
      ]
    },
    {
      "cell_type": "markdown",
      "id": "29612a7b-2067-4cf4-ab93-84c93a3fdacc",
      "metadata": {
        "id": "29612a7b-2067-4cf4-ab93-84c93a3fdacc"
      },
      "source": [
        "Mamy teraz $2^{2^{5}}=2^{32}$ różnych reguł."
      ]
    },
    {
      "cell_type": "code",
      "execution_count": 9,
      "id": "7f2761ba-4e9b-4396-8efa-8e84d6d25d8d",
      "metadata": {
        "id": "7f2761ba-4e9b-4396-8efa-8e84d6d25d8d",
        "outputId": "db4d4b26-6e3f-43f0-a2d0-194aa2d0f05b",
        "colab": {
          "base_uri": "https://localhost:8080/"
        }
      },
      "outputs": [
        {
          "output_type": "execute_result",
          "data": {
            "text/plain": [
              "4294967296"
            ]
          },
          "metadata": {},
          "execution_count": 9
        }
      ],
      "source": [
        "2**32"
      ]
    },
    {
      "cell_type": "code",
      "source": [
        "def cross(x, y):\n",
        "    point = np.random.randint(len(x))\n",
        "    return np.concatenate((x[:point], y[point:]))\n",
        "\n",
        "# def mutate(x, mutation_rate):\n",
        "def mutate(x):\n",
        "    mutation_rate = random.random()\n",
        "    # zmieniamy wartość losowego elementu na przeciwną\n",
        "    if mutation_rate <= 0.5:\n",
        "      index = np.random.randint(len(x))  # Wybierz losowy indeks\n",
        "      x[index] = 1 - x[index]  # Zmień wartość na przeciwną\n",
        "      return x\n",
        "    # zamieniamy dwa losowe elementy miejscami\n",
        "    if mutation_rate > 0.5:\n",
        "      index1, index2 = np.random.choice(len(x), 2, replace=False)\n",
        "      x[index1], x[index2] = x[index2], x[index1]\n",
        "      return x\n",
        "\n",
        "def choice(population, fitness_values):\n",
        "    return population[np.random.choice(len(population), p=fitness_values)]\n"
      ],
      "metadata": {
        "id": "IT7s-_xsE-oh"
      },
      "id": "IT7s-_xsE-oh",
      "execution_count": 17,
      "outputs": []
    },
    {
      "cell_type": "code",
      "source": [
        "def fitness(x, func):\n",
        "    l = Parallel(n_jobs=-1)(delayed(func)(x, config, steps) for config in random_configs)\n",
        "    return round(sum(l)/1000,3)\n",
        "\n",
        "def fitness_on_population(population, func):\n",
        "    res = np.array([fitness(x, func) for x in population])\n",
        "    s = sum(res)\n",
        "    return res / s\n",
        "\n",
        "def ga_solve(func, population_size = 20, iterations = 1000):\n",
        "    population = np.random.randint(2, size=(100, 32))\n",
        "    best_fitness = -np.inf\n",
        "    best_chromosome = None\n",
        "\n",
        "    for _ in range(iterations):\n",
        "        fitness_results = fitness_on_population(population, func)\n",
        "        population = np.array([mutate(\n",
        "            cross(\n",
        "                choice(population, fitness_results),\n",
        "                choice(population, fitness_results)))\n",
        "                               for _ in range(population_size)])\n",
        "\n",
        "    max_fitness_index = np.argmax(fitness_results)\n",
        "    if fitness_results[max_fitness_index] > best_fitness:\n",
        "        best_fitness = fitness_results[max_fitness_index]\n",
        "        best_chromosome = population[max_fitness_index]\n",
        "\n",
        "    return best_chromosome, best_fitness\n"
      ],
      "metadata": {
        "id": "vnJPoyjaFEtJ"
      },
      "id": "vnJPoyjaFEtJ",
      "execution_count": 18,
      "outputs": []
    },
    {
      "cell_type": "code",
      "source": [
        "def dcp(lut, initial_config, steps):\n",
        "    initial_density = sum(initial_config)/len(initial_config)\n",
        "    config = eca_evolve_spacetime(lut, initial_config, steps)[-1]\n",
        "    result_density = sum(config)/len(config)\n",
        "\n",
        "    if initial_density < 0.5:\n",
        "        if result_density < 0.5:\n",
        "            return 1\n",
        "        else:\n",
        "            return 0\n",
        "    if initial_density > 0.5:\n",
        "        if result_density > 0.5:\n",
        "            return 1\n",
        "        else:\n",
        "            return 0\n",
        "    return 0\n"
      ],
      "metadata": {
        "id": "syPFDwq31c87"
      },
      "id": "syPFDwq31c87",
      "execution_count": 19,
      "outputs": []
    },
    {
      "cell_type": "code",
      "execution_count": 20,
      "id": "4b146f10-f44c-4cd9-89dd-5051b040287d",
      "metadata": {
        "id": "4b146f10-f44c-4cd9-89dd-5051b040287d",
        "colab": {
          "base_uri": "https://localhost:8080/"
        },
        "outputId": "04fefeb4-29d6-41c9-b893-3e42098c7e9d"
      },
      "outputs": [
        {
          "output_type": "stream",
          "name": "stdout",
          "text": [
            "Czas:  6421.701444387436\n"
          ]
        }
      ],
      "source": [
        "# definiujemy potrzebane parametry\n",
        "f = dcp\n",
        "steps = 46\n",
        "configurations_list = configurations.tolist()\n",
        "random_configs_list = random.sample(configurations_list, 1000)\n",
        "random_configs = np.array(random_configs_list)\n",
        "\n",
        "start = time.time()\n",
        "# iterations to liczba pokoleń\n",
        "best_candidate, best_fitness = ga_solve(f, population_size = 100, iterations = 20)\n",
        "end = time.time()\n",
        "czas = end - start\n",
        "print(\"Czas: \", czas)"
      ]
    },
    {
      "cell_type": "markdown",
      "source": [
        "Rozmiar populacji 100 i liczba pokoleń 20 to zdecydowanie za mało, żeby wyłonić najlepsze rozwiązanie. Obliczenia przy tych parametrach i dla 1000 wybranych konfiguracji spośród konfiguracji Pana Marcina o długości 23 trwały prawie 2h."
      ],
      "metadata": {
        "id": "TT9l6mdcL_Iz"
      },
      "id": "TT9l6mdcL_Iz"
    },
    {
      "cell_type": "code",
      "source": [
        "print(\"Best candidate: \", best_candidate)\n",
        "print(\"Fitness value of the best candidate= \", best_fitness)\n",
        "best_candidate_int = best_candidate.astype(int)\n",
        "binary_str = ''.join(map(str, best_candidate_int))\n",
        "best = int(binary_str, 2)\n",
        "print(\"Best candidate: \", best)"
      ],
      "metadata": {
        "colab": {
          "base_uri": "https://localhost:8080/"
        },
        "id": "llhItcU5Tpry",
        "outputId": "dd508577-3b25-4c49-c39d-d3ed57cea9a0"
      },
      "id": "llhItcU5Tpry",
      "execution_count": 21,
      "outputs": [
        {
          "output_type": "stream",
          "name": "stdout",
          "text": [
            "Best candidate:  [0 1 0 1 0 0 0 1 1 1 0 1 1 0 1 1 0 1 0 1 1 0 0 0 1 0 1 1 0 0 1 1]\n",
            "Fitness value of the best candidate=  0.013248458325044761\n",
            "Best candidate:  1373329587\n"
          ]
        }
      ]
    },
    {
      "cell_type": "code",
      "source": [
        "# sprawdzamy dla wszystkich konfiguracji z listy konfiguracji Pana Marcina\n",
        "l = Parallel(n_jobs=-1)(delayed(dcp)(best_candidate, config, 46) for config in configurations)\n",
        "print(f\"Correct density classification: {round(100*sum(l)/len(configurations),3)}\")"
      ],
      "metadata": {
        "colab": {
          "base_uri": "https://localhost:8080/"
        },
        "id": "oAborzgFUIkZ",
        "outputId": "90cd81cf-d36c-44c2-cf73-172d31a8e5c0"
      },
      "id": "oAborzgFUIkZ",
      "execution_count": 22,
      "outputs": [
        {
          "output_type": "stream",
          "name": "stdout",
          "text": [
            "Correct density classification: 50.054\n"
          ]
        }
      ]
    },
    {
      "cell_type": "markdown",
      "source": [
        "- Najlepsze znalezione rozwiązanie to **[0, 1, 0, 1, 0, 0, 0, 1, 1, 1, 0, 1, 1, 0, 1, 1, 0, 1, 0, 1, 1, 0, 0, 0, 1, 0, 1, 1, 0, 0, 1, 1]**.\n",
        "- Najlepsza wyłoniona reguła: **1373329587**.\n",
        "- Procent poprawnych klasyfikacji: **50.054%**."
      ],
      "metadata": {
        "id": "eh7LozHaoVQH"
      },
      "id": "eh7LozHaoVQH"
    },
    {
      "cell_type": "markdown",
      "source": [
        "### Jak ulepszyć kod?\n",
        "Oto kilka sugestii, które mogą pomóc w ulepszeniu Twojego kodu:\n",
        "\n",
        "1. **Parametryzacja funkcji**: Możesz zrobić swoje funkcje bardziej elastycznymi, dodając więcej parametrów. Na przykład, w funkcji `mutate`, możesz dodać parametr `mutation_rate`, który określa prawdopodobieństwo mutacji. W ten sposób możesz łatwo dostosować stopień mutacji bez konieczności modyfikowania samej funkcji.\n",
        "\n",
        "2. **Ewaluacja wydajności**: Możesz dodać logowanie lub inne metody śledzenia, aby monitorować postęp algorytmu ewolucyjnego. To może pomóc Ci zrozumieć, jak algorytm działa i gdzie mogą występować problemy.\n",
        "\n",
        "3. **Optymalizacja wydajności**: W funkcji `fitness`, używasz równoległego przetwarzania do obliczania wartości funkcji dla różnych konfiguracji. To jest dobre, ale pamiętaj, że równoległe przetwarzanie może być kosztowne pod względem zasobów, szczególnie jeśli liczba konfiguracji jest duża. Możesz rozważyć użycie technik takich jak próbkowanie lub inne metody redukcji wymiarowości, aby zmniejszyć liczbę konfiguracji, które musisz przetworzyć.\n",
        "\n",
        "4. **Eksploracja różnych strategii ewolucyjnych**: W Twoim algorytmie ewolucyjnym, używasz krzyżowania jednopunktowego i mutacji polegającej na zmianie losowego bitu. Istnieje wiele innych strategii krzyżowania i mutacji, które mogą być skuteczne w różnych sytuacjach. Możesz spróbować eksperymentować z różnymi strategiami, aby zobaczyć, które z nich działają najlepiej dla Twojego problemu.\n",
        "\n",
        "5. **Koewolucja**: Wspomniałeś o możliwości \"ewolucji\" podzbiorów zbioru warunków początkowych. To jest bardzo interesujący pomysł, który prowadzi do koncepcji koewolucji. W koewolucji, dwie lub więcej populacji ewoluują razem, wpływając na siebie nawzajem. Możesz spróbować zaimplementować to w swoim algorytmie i zobaczyć, jak to wpływa na wyniki."
      ],
      "metadata": {
        "id": "qfEnW0dkV0A9"
      },
      "id": "qfEnW0dkV0A9"
    },
    {
      "cell_type": "markdown",
      "id": "70ccc218-5d8e-4bb6-bb2b-b76e57a0f1a8",
      "metadata": {
        "id": "70ccc218-5d8e-4bb6-bb2b-b76e57a0f1a8"
      },
      "source": [
        "## To samo za pomocą PyGAD\n",
        "(https://pygad.readthedocs.io/en/latest/pygad.html#functions-in-pygad)"
      ]
    },
    {
      "cell_type": "code",
      "source": [
        "def eca_get_lut(rule_num: int) -> np.ndarray:\n",
        "    return np.array([int(x) for x in bin(rule_num)[2:].zfill(32)], dtype=np.uint8)\n",
        "\n",
        "def eca_evolve(lut: np.ndarray, x: np.ndarray) -> np.ndarray:\n",
        "    return lut[31 - (np.roll(x, 2) * 16 + np.roll(x, 1) * 8 + x * 4 + np.roll(x, -1) * 2 + np.roll(x, -2)).astype(int)]\n",
        "\n",
        "def eca_evolve_spacetime(lut: np.ndarray, initial_conf: np.ndarray, steps: int) -> np.ndarray:\n",
        "    rows = [initial_conf]\n",
        "    for _ in range(1, steps):\n",
        "        rows.append(eca_evolve(lut, rows[-1]))\n",
        "    return np.stack(rows)\n"
      ],
      "metadata": {
        "id": "HnWipaNdo-I7"
      },
      "id": "HnWipaNdo-I7",
      "execution_count": 7,
      "outputs": []
    },
    {
      "cell_type": "code",
      "execution_count": 8,
      "id": "4f2ea62b-d1c1-4306-a637-e7acbbfd18e2",
      "metadata": {
        "id": "4f2ea62b-d1c1-4306-a637-e7acbbfd18e2"
      },
      "outputs": [],
      "source": [
        "# lut to będzie solution\n",
        "def dcp(lut, initial_config, steps):\n",
        "    initial_density = sum(initial_config)/len(initial_config)\n",
        "    config = eca_evolve_spacetime(lut, initial_config, steps)[-1]\n",
        "    result_density = sum(config)/len(config)\n",
        "\n",
        "    if initial_density < 0.5:\n",
        "        if result_density < 0.5:\n",
        "            return 1\n",
        "        else:\n",
        "            return 0\n",
        "    if initial_density > 0.5:\n",
        "        if result_density > 0.5:\n",
        "            return 1\n",
        "        else:\n",
        "            return 0\n",
        "    return 0\n"
      ]
    },
    {
      "cell_type": "code",
      "execution_count": 9,
      "id": "5078d418-1745-460b-81bf-c898011f2e7c",
      "metadata": {
        "colab": {
          "base_uri": "https://localhost:8080/"
        },
        "id": "5078d418-1745-460b-81bf-c898011f2e7c",
        "outputId": "d6baabff-9422-45e1-f84b-7546b757be06"
      },
      "outputs": [
        {
          "output_type": "execute_result",
          "data": {
            "text/plain": [
              "364724"
            ]
          },
          "metadata": {},
          "execution_count": 9
        }
      ],
      "source": [
        "configurations = configuration_reader(\"ALL_N23.bin\", 23, True)\n",
        "len(configurations)"
      ]
    },
    {
      "cell_type": "code",
      "execution_count": 10,
      "id": "02f034a3-9459-4c60-8323-fa75cc0a27d5",
      "metadata": {
        "id": "02f034a3-9459-4c60-8323-fa75cc0a27d5"
      },
      "outputs": [],
      "source": [
        "# definiujemy parametry rozwiązania\n",
        "# gene_space to zbiór możliwych wartości przyjmowanych przez geny w chromosomie\n",
        "gene_space = [0, 1]\n",
        "\n",
        "# funkcja celu\n",
        "def fitness_func(ga_instance, solution, solution_idx):\n",
        "    fitness = 0\n",
        "    # losujemy 1000 konfiguracji z listy konfiguracji Pana Marcina\n",
        "    configurations_list = configurations.tolist()\n",
        "    random_configs_list = random.sample(configurations_list, 1000)\n",
        "    random_configs = np.array(random_configs_list)\n",
        "    l = Parallel(n_jobs=-1)(delayed(dcp)(solution, config, 46) for config in random_configs)\n",
        "    # l = [dcp(solution, config, 46) for config in configurations]\n",
        "    fitness = round(sum(l)/1000,3)\n",
        "    return fitness\n",
        "\n",
        "fitness_function = fitness_func"
      ]
    },
    {
      "cell_type": "code",
      "execution_count": 11,
      "id": "09584a3d-1c89-423f-8b43-2763eb1b4e03",
      "metadata": {
        "id": "09584a3d-1c89-423f-8b43-2763eb1b4e03"
      },
      "outputs": [],
      "source": [
        "# ile chromosomów w populacji\n",
        "sol_per_pop = 100\n",
        "# ile genów ma chromosom\n",
        "num_genes = 32\n",
        "\n",
        "# ile wyłaniamy rodziców do \"rozmnażania\" (okolo 50% populacji)\n",
        "num_parents_mating = 50\n",
        "# ile pokoleń\n",
        "num_generations = 20\n",
        "# ilu rodziców zachować (kilka procent)\n",
        "keep_parents = 2\n",
        "\n",
        "# jaki typ selekcji rodziców?\n",
        "#sss = steady, rws=roulette, rank = rankingowa, tournament = turniejowa\n",
        "parent_selection_type = \"sss\"\n",
        "\n",
        "# w ilu punktach robić krzyżowanie?\n",
        "#single_point, two_points, uniform, scattered\n",
        "crossover_type = \"single_point\"\n",
        "\n",
        "# mutacja ma działać na ilu procent genów?\n",
        "#random, swap - zamienia miejscami dwa geny, inversion - zmienia kolejność fragmentu chromosomu, scramble, adaptive\n",
        "#displacament - przeniesienie części genów w inne miejsce\n",
        "mutation_type = \"random\"\n",
        "mutation_percent_genes = 4 # 32*0.04 czyli 1 gen sie zmieni"
      ]
    },
    {
      "cell_type": "code",
      "source": [
        "def on_gen(ga_instance):\n",
        "    print(\"Generation: \", ga_instance.generations_completed)\n",
        "    print(\"Fitness of the best solution:\", ga_instance.best_solution()[1])\n"
      ],
      "metadata": {
        "id": "LUNvWV_lp0LH"
      },
      "id": "LUNvWV_lp0LH",
      "execution_count": 12,
      "outputs": []
    },
    {
      "cell_type": "code",
      "execution_count": 13,
      "id": "55432849-5f88-4135-bf7b-97af55ab36ef",
      "metadata": {
        "colab": {
          "base_uri": "https://localhost:8080/"
        },
        "id": "55432849-5f88-4135-bf7b-97af55ab36ef",
        "outputId": "a39b8169-1fec-40ae-e99c-21847f850fc4"
      },
      "outputs": [
        {
          "metadata": {
            "tags": null
          },
          "name": "stderr",
          "output_type": "stream",
          "text": [
            "/usr/local/lib/python3.10/dist-packages/pygad/pygad.py:1139: UserWarning: The 'delay_after_gen' parameter is deprecated starting from PyGAD 3.3.0. To delay or pause the evolution after each generation, assign a callback function/method to the 'on_generation' parameter to adds some time delay.\n",
            "  warnings.warn(\"The 'delay_after_gen' parameter is deprecated starting from PyGAD 3.3.0. To delay or pause the evolution after each generation, assign a callback function/method to the 'on_generation' parameter to adds some time delay.\")\n"
          ]
        },
        {
          "output_type": "stream",
          "name": "stdout",
          "text": [
            "Generation:  1\n",
            "Fitness of the best solution: 0.628\n",
            "Generation:  2\n",
            "Fitness of the best solution: 0.639\n",
            "Generation:  3\n",
            "Fitness of the best solution: 0.724\n",
            "Generation:  4\n",
            "Fitness of the best solution: 0.766\n",
            "Generation:  5\n",
            "Fitness of the best solution: 0.836\n",
            "Generation:  6\n",
            "Fitness of the best solution: 0.827\n",
            "Generation:  7\n",
            "Fitness of the best solution: 0.827\n",
            "Generation:  8\n",
            "Fitness of the best solution: 0.827\n",
            "Generation:  9\n",
            "Fitness of the best solution: 0.827\n",
            "Generation:  10\n",
            "Fitness of the best solution: 0.827\n",
            "Generation:  11\n",
            "Fitness of the best solution: 0.827\n",
            "Generation:  12\n",
            "Fitness of the best solution: 0.849\n",
            "Generation:  13\n",
            "Fitness of the best solution: 0.829\n",
            "Generation:  14\n",
            "Fitness of the best solution: 0.829\n",
            "Generation:  15\n",
            "Fitness of the best solution: 0.839\n",
            "Generation:  16\n",
            "Fitness of the best solution: 0.86\n",
            "Generation:  17\n",
            "Fitness of the best solution: 0.865\n",
            "Generation:  18\n",
            "Fitness of the best solution: 0.867\n",
            "Generation:  19\n",
            "Fitness of the best solution: 0.867\n",
            "Generation:  20\n",
            "Fitness of the best solution: 0.878\n",
            "Czas:  16836.346751213074\n"
          ]
        }
      ],
      "source": [
        "start = time.time()\n",
        "\n",
        "# inicjacja algorytmu z powyższymi parametrami wpisanymi w atrybuty\n",
        "ga_instance = pygad.GA(\n",
        "    gene_space=gene_space,\n",
        "    num_generations=num_generations,\n",
        "    num_parents_mating=num_parents_mating,\n",
        "    fitness_func=fitness_function,\n",
        "    sol_per_pop=sol_per_pop,\n",
        "    num_genes=num_genes,\n",
        "    parent_selection_type=parent_selection_type,\n",
        "    # keep_elitism=0, # tak pozbywamy się elityzmu, zachowując rodziców funkcja może utknąć w maksimum lokalnym\n",
        "    keep_parents=keep_parents,\n",
        "    crossover_type=crossover_type,\n",
        "    mutation_type=mutation_type,\n",
        "    mutation_percent_genes=mutation_percent_genes,\n",
        "    on_generation=on_gen,\n",
        "    stop_criteria='reach_1' # możemy ustawić warunek zatrzymania\n",
        ")\n",
        "\n",
        "# uruchomienie algorytmu\n",
        "ga_instance.run()\n",
        "\n",
        "end = time.time()\n",
        "czas = end - start\n",
        "print(\"Czas: \", czas)\n",
        "\n",
        "solution, solution_fitness, solution_idx = ga_instance.best_solution()"
      ]
    },
    {
      "cell_type": "code",
      "execution_count": 14,
      "id": "d79e3a82-4c2f-4b82-90bd-57b941f8f768",
      "metadata": {
        "id": "d79e3a82-4c2f-4b82-90bd-57b941f8f768",
        "colab": {
          "base_uri": "https://localhost:8080/"
        },
        "outputId": "fec7ff4f-07ca-455c-bcad-aec2fd33fafc"
      },
      "outputs": [
        {
          "output_type": "stream",
          "name": "stdout",
          "text": [
            "Number of generations passed is: 20\n",
            "Parameters of the best solution: [1. 1. 1. 1. 0. 1. 0. 0. 1. 1. 1. 0. 0. 0. 0. 0. 1. 1. 1. 1. 1. 0. 0. 0.\n",
            " 1. 1. 1. 0. 0. 0. 0. 0.]\n",
            "The best solution is the rule: 4108384480\n",
            "Fitness value of the best solution = 0.867\n"
          ]
        }
      ],
      "source": [
        "solution, solution_fitness, solution_idx = ga_instance.best_solution()\n",
        "\n",
        "#ile pokoleń\n",
        "print(\"Number of generations passed is: {generations_completed}\".format(generations_completed=ga_instance.generations_completed))\n",
        "\n",
        "#podsumowanie: najlepsze znalezione rozwiązanie (reguła + ocena)\n",
        "print(f\"Parameters of the best solution: {solution}\")\n",
        "solution_int = solution.astype(int)\n",
        "binary_string = ''.join(map(str, solution_int))\n",
        "rule = int(binary_string, 2)\n",
        "print(f\"The best solution is the rule: {rule}\")\n",
        "print(f\"Fitness value of the best solution = {solution_fitness}\")"
      ]
    },
    {
      "cell_type": "code",
      "source": [
        "# sprawdzamy dla wszystkich konfiguracji z listy Pana Marcina\n",
        "l = Parallel(n_jobs=-1)(delayed(dcp)(solution, config, 46) for config in configurations)\n",
        "print(f\"Correct density classification: {round(100*sum(l)/len(configurations),3)}\")"
      ],
      "metadata": {
        "colab": {
          "base_uri": "https://localhost:8080/"
        },
        "id": "vtqDZRZdxbZk",
        "outputId": "5d262ac8-c979-4a8b-b109-38ff9ff52000"
      },
      "id": "vtqDZRZdxbZk",
      "execution_count": 15,
      "outputs": [
        {
          "output_type": "stream",
          "name": "stdout",
          "text": [
            "Correct density classification: 86.103\n"
          ]
        }
      ]
    },
    {
      "cell_type": "code",
      "execution_count": 16,
      "id": "1f76a276-c587-4836-a0bd-2af726cbfdc1",
      "metadata": {
        "id": "1f76a276-c587-4836-a0bd-2af726cbfdc1",
        "colab": {
          "base_uri": "https://localhost:8080/",
          "height": 956
        },
        "outputId": "fc1748e7-23c3-49b2-d225-d3a6db139a57"
      },
      "outputs": [
        {
          "output_type": "stream",
          "name": "stderr",
          "text": [
            "WARNING:matplotlib.legend:No artists with labels found to put in legend.  Note that artists whose label start with an underscore are ignored when legend() is called with no argument.\n"
          ]
        },
        {
          "output_type": "display_data",
          "data": {
            "text/plain": [
              "<Figure size 640x480 with 1 Axes>"
            ],
            "image/png": "[encoded data removed]"
          },
          "metadata": {}
        },
        {
          "output_type": "execute_result",
          "data": {
            "text/plain": [
              "<Figure size 640x480 with 1 Axes>"
            ],
            "image/png": "[encoded data removed]"
          },
          "metadata": {},
          "execution_count": 16
        }
      ],
      "source": [
        "# wyświetlenie wykresu: jak zmieniała sie ocena na przestrzeni pokoleń\n",
        "ga_instance.plot_fitness()"
      ]
    },
    {
      "cell_type": "markdown",
      "source": [
        "Pierwsze uruchomienie algorytmu PyGAD:\n",
        "- Czas wykonania: prawie 2h.\n",
        "- Algorytm został zatrzymany po 10 pokoleniach, ponieważ znalazł regułę, która ma fitness = 1. Jednak wartość fitness najlepszego rozwiązania wynosiła 0.884, a nie 1 (nie wiem dlaczego ☹, wykres plot_fitness() również wskazywał na osiągnięcie wyniku 1).\n",
        "- Najlepszym wyłonionym rozwiązaniem było: **[1, 1, 1, 1, 0, 1, 1, 1, 1, 1, 1, 1, 0, 0, 0, 0, 1, 1, 1, 1, 0, 0, 1, 1, 0, 0, 0, 0, 0, 0, 0, 0]**, co odpowiada regule **4159763200**.\n",
        "- Procent poprawnych klasyfikacji gęstości dla całego zbioru konfiguracji Pana Marcina wyniósł **88.281%**.\n",
        "\n",
        "Drugie uruchomienie:\n",
        "- Czas wykonania: ponad 4.5h.\n",
        "- Algorytm przeszedł 20 pokoleń. Wartość fitness najlepszego rozwiązania wynosiła 0.884.\n",
        "- Najlepszym wyłonionym rozwiązaniem było: **[1, 1, 1, 1, 0, 1, 0, 0, 1, 1, 1, 0, 0, 0, 0, 0, 1, 1, 1, 1, 1, 0, 0, 0, 1, 1, 1, 0, 0, 0, 0, 0]**, co odpowiada regule **4108384480**.\n",
        "- Procent poprawnych klasyfikacji gęstości dla całego zbioru konfiguracji Pana Marcina wyniósł **86.103%**."
      ],
      "metadata": {
        "id": "JoAvF36QQ5hL"
      },
      "id": "JoAvF36QQ5hL"
    },
    {
      "cell_type": "code",
      "execution_count": null,
      "id": "3cb5c1a5-5c86-494e-a591-762859195c61",
      "metadata": {
        "id": "3cb5c1a5-5c86-494e-a591-762859195c61"
      },
      "outputs": [],
      "source": []
    }
  ],
  "metadata": {
    "kernelspec": {
      "display_name": "Python 3 (ipykernel)",
      "language": "python",
      "name": "python3"
    },
    "language_info": {
      "codemirror_mode": {
        "name": "ipython",
        "version": 3
      },
      "file_extension": ".py",
      "mimetype": "text/x-python",
      "name": "python",
      "nbconvert_exporter": "python",
      "pygments_lexer": "ipython3",
      "version": "3.10.0"
    },
    "colab": {
      "provenance": []
    }
  },
  "nbformat": 4,
  "nbformat_minor": 5
}