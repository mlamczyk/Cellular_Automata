{
 "cells": [
  {
   "cell_type": "markdown",
   "id": "cf72e4a8-5c74-492e-a820-c94552b7d5ac",
   "metadata": {},
   "source": [
    "## Importy"
   ]
  },
  {
   "cell_type": "code",
   "execution_count": 21,
   "id": "06c8eabc-b44c-41da-9dd7-0b4d9ae44cb4",
   "metadata": {},
   "outputs": [],
   "source": [
    "# pip install pygad\n",
    "# pip install joblib"
   ]
  },
  {
   "cell_type": "code",
   "execution_count": 22,
   "id": "49f16681-95b2-441a-80ff-735cd6ff19a8",
   "metadata": {},
   "outputs": [],
   "source": [
    "import math\n",
    "import pygad\n",
    "import numpy as np\n",
    "import pandas as pd\n",
    "import matplotlib.pyplot as plt\n",
    "from joblib import Parallel, delayed"
   ]
  },
  {
   "cell_type": "code",
   "execution_count": 2,
   "id": "986f8e6d-0277-411c-8cdf-3b37049045a5",
   "metadata": {},
   "outputs": [],
   "source": [
    "def eca_get_lut(rule_num: int) -> np.ndarray:\n",
    "    return np.array([int(x) for x in bin(rule_num)[2:].zfill(8)], dtype=np.uint8)\n",
    "\n",
    "def eca_evolve(lut: np.ndarray, x: np.ndarray) -> np.ndarray:\n",
    "    return lut[7 - (np.roll(x, 1) * 4 + x * 2 + np.roll(x, -1))]\n",
    "\n",
    "def eca_evolve_spacetime(lut: np.ndarray, initial_conf: np.ndarray, steps: int) -> np.ndarray:\n",
    "    rows = [initial_conf]\n",
    "    for _ in range(1, steps):\n",
    "        rows.append(eca_evolve(lut, rows[-1]))\n",
    "    return np.stack(rows)\n"
   ]
  },
  {
   "cell_type": "markdown",
   "id": "3adf3ff6-d5b4-490f-a44a-6518f1b184cc",
   "metadata": {},
   "source": [
    "## Wczytywanie konfiguracji pana Marcina\n",
    "Pliki z konfiguracjami można pobrać z https://github.com/D3M80L/CA/tree/master/phd/data."
   ]
  },
  {
   "cell_type": "code",
   "execution_count": 3,
   "id": "f7d26745-668f-4312-b203-2abdc8fed6ad",
   "metadata": {},
   "outputs": [],
   "source": [
    "def convert_configuration(configuration: bytes, N: int):\n",
    "    binary_str = ''.join(f'{byte:08b}' for byte in configuration)\n",
    "    return np.array([int(bit) for bit in binary_str[:N]])\n"
   ]
  },
  {
   "cell_type": "code",
   "execution_count": 4,
   "id": "2e6a9457-6c88-461b-b9b3-b9f036905565",
   "metadata": {},
   "outputs": [],
   "source": [
    "def configuration_reader(file_name: str, N: int, negate: bool):\n",
    "    bytes_per_configuration = math.ceil(N / 8)\n",
    "    configurations = []\n",
    "\n",
    "    with open(file_name, 'rb') as file:\n",
    "        while True:\n",
    "            bytes_read = file.read(bytes_per_configuration)\n",
    "            if not bytes_read:\n",
    "                break\n",
    "\n",
    "            cfg = convert_configuration(bytes_read, N)\n",
    "            configurations.append(cfg)\n",
    "            \n",
    "            if negate:\n",
    "                configurations.append(1 - cfg)\n",
    "\n",
    "    return np.stack(configurations)\n"
   ]
  },
  {
   "cell_type": "markdown",
   "id": "ad7855e0-9b0c-4322-b090-41a605f21081",
   "metadata": {},
   "source": [
    "---\n",
    "# zad.9 (lekko zmodyfikowane)"
   ]
  },
  {
   "cell_type": "markdown",
   "id": "b64f8986-78b5-451e-bc11-b7743be9b3ae",
   "metadata": {},
   "source": [
    "Zapoznaj się z wynikami z artykułu:\\\n",
    "*Mendonça, J. R. G. (2019).* **Simply modified GKL density classifiers that reach consensus faster.** *Physics Letters A, 383(19), 2264–2266. \n",
    "doi:10.1016/j.physleta.2019.04.033* (https://sci-hub.se/https://www.sciencedirect.com/science/article/abs/pii/S0375960119303512?via=ihub)\n",
    "\n",
    "Spróbuj powtórzyć eksperymenty tam wykonane dla wybranego N dla którego mamy \"zbiór Marcina\" % poprawnych klasyfikacji dla reguł GKL(j, k) dla kilku, wybranych przez Ciebie przypadków j, k. **Wariant (*) - zbadaj również średni czas klasyfikacji - tzn. czy widać, które reguły są szybsze od innych.**"
   ]
  },
  {
   "cell_type": "code",
   "execution_count": null,
   "id": "3863df07-f958-4c93-8862-a69b354278b5",
   "metadata": {},
   "outputs": [],
   "source": []
  },
  {
   "cell_type": "code",
   "execution_count": null,
   "id": "c42e03ed-de90-4ee1-8023-ea0f1f3adcc3",
   "metadata": {},
   "outputs": [],
   "source": []
  },
  {
   "cell_type": "code",
   "execution_count": null,
   "id": "c704b070-9c73-4a83-992f-5cad42afcb12",
   "metadata": {},
   "outputs": [],
   "source": []
  },
  {
   "cell_type": "markdown",
   "id": "33c9d445-024d-4c25-a796-7cd5767c6bff",
   "metadata": {},
   "source": [
    "---\n",
    "# zad.11"
   ]
  },
  {
   "cell_type": "markdown",
   "id": "d6b65c73-58b3-4f5f-a9e5-b27be72096de",
   "metadata": {},
   "source": [
    "Zaimplementuj algorytm ewolucyjny, który poszukuje rozwiązań DCP wśród binarnych automatów komórkowych o promieniu sąsiedztwa r=2, dla liczby komórek N=23 (korzystając ze zbioru Marcina) i limitu czasu T = 2*N. Zdecyduj sama / sam ile populacji i jak duże populacje potrzebujesz - możesz to określić robiąc eksperymenty. Możesz również dowolnie manipulować mutacjami, krzyżowaniem, selekcją itd.\n",
    "\n",
    "Jaki najlepszy wynik (największą liczbę poprawnie sklasyfikowanych konfiguracji) uda Ci się uzyskać? Podaj LUT najlepszej, znalezionej przez Twój algorytm reguły. \n",
    "\n",
    "Uzyskane przez nas wszystkich reguły porównam na zbiorach N=23 i większych, jak tylko otrzymam wszystkie rozwiązania i wyłonimy zwycięzców. Może uda się komuś z nas pobić GKL?\n",
    "\n",
    "Sugestie:\n",
    "- Do wstępnych testów możesz najpierw użyć mniejszego N i zamiast zbioru Marcina, użyć mniejszy zbiór wygenerowany losowo - program będzie działać szybciej, zatem szybciej będziesz wprowadzać w nim zmiany.\n",
    "- Koniecznie użyj przetwarzania równoległego aby w pełni wykorzystać moc współczesnych procesorów oraz cache’owania - tak, żeby nie przeliczać tej samej reguły CA wiele razy.\n",
    "- GitHub CodeSpaces dają 4-rdzeniowy procesor w chmurze dostępny za darmo (30 lub 60 godzin obliczeń w miesiącu).\n",
    "- Czy dla każdego wyliczenia wartości funkcji dopasowania trzeba używać cały zbiór warunków początkowych? Może aby było szybciej, dla każdej populacji można losować pewien podzbiór zbioru warunków początkowych i dzięki temu szybciej tworzyć nowe populacje? (A może te podzbiory też powinny podlegać “ewolucji”? Mamy wtedy do czynienia z koewolucją.)\n",
    "- Przedyskutuj to zagadnienie z ChatGPT. Poproś o sugestie, pomysły na usprawnienia kodu itd!"
   ]
  },
  {
   "cell_type": "code",
   "execution_count": null,
   "id": "86fa6f59-2925-4ae8-8d09-dc62f9d87924",
   "metadata": {},
   "outputs": [],
   "source": [
    "# ECA to automaty o promieniu r=1, teraz mamy r=2, czyli sąsiedztwo 5!!\n",
    "# trzeba zmodyfikować eca_get_lut(do 32 a nie 8) i eca_evolve(na filmiku pan mówi)\n",
    "# podać lut, który wyszedł jako najlepszy!!"
   ]
  },
  {
   "cell_type": "code",
   "execution_count": null,
   "id": "63032c63-b451-4425-a12f-fb0095041100",
   "metadata": {},
   "outputs": [],
   "source": []
  },
  {
   "cell_type": "code",
   "execution_count": 16,
   "id": "20b364cf-c7a3-4597-a3f6-710961030c24",
   "metadata": {},
   "outputs": [
    {
     "data": {
      "image/png": "[encoded data removed]",
      "text/plain": [
       "<Figure size 640x480 with 1 Axes>"
      ]
     },
     "metadata": {},
     "output_type": "display_data"
    },
    {
     "name": "stdout",
     "output_type": "stream",
     "text": [
      "Best candidate:  0.707089657400412\n",
      "Exact solution:  0.7071067811865475\n",
      "Difference between best and exact:  1.712378613549781e-05\n",
      "Error (value of |f(best candidate)|):  2.4216397368048703e-05\n"
     ]
    }
   ],
   "source": [
    "# przykład zastosowania algorytmu genetycznego\n",
    "def interval(x):\n",
    "    return max(0.0, min(x, 1.0))\n",
    "\n",
    "def cross(x, y):\n",
    "    return 0.5 * (x+y)\n",
    "\n",
    "def mutate(x):\n",
    "    return interval(x + (np.random.random() - 0.5) * 0.005)\n",
    "\n",
    "def fitness(x, func):\n",
    "    return np.abs(func(x))\n",
    "\n",
    "def fitness_on_population(population, func):\n",
    "    res = np.array([fitness(x, func) for x in population])\n",
    "    res = 1.0 - (res/np.max(res))\n",
    "    s = sum(res)\n",
    "    return res / s\n",
    "\n",
    "def choice(population, fitness_values):\n",
    "    return np.random.choice(population, 1, p=fitness_values)[0]\n",
    "\n",
    "def ga_solve(func, population_size = 20, iterations = 1000):\n",
    "    population = np.array([np.random.random() for _ in range(population_size)])\n",
    "\n",
    "    for _ in range(iterations):\n",
    "        fitness_results = fitness_on_population(population, func)\n",
    "        population = np.array([mutate(\n",
    "            cross(\n",
    "                choice(population, fitness_results),\n",
    "                choice(population, fitness_results))) \n",
    "                               for _ in range(population_size)])\n",
    "    \n",
    "    return population\n",
    "\n",
    "xx = np.linspace(0, 1, 1000)\n",
    "plt.plot(xx, np.abs(xx**2 - 0.5))\n",
    "plt.axhline(y=0.0, color='r', linestyle='-')\n",
    "plt.show()\n",
    "\n",
    "f = lambda x: x**2 - 0.5\n",
    "exact = 1/np.sqrt(2) # dokładne rozwiązanie naszego równania użyte jedynie do porównania z wynikiem otrzymanym przez algorytm\n",
    "\n",
    "solutions = ga_solve(f, population_size = 300, iterations = 1000)\n",
    "\n",
    "# ponieważ funkcja ga_solve zwraca nam całą ostatnią populację, a nie najlepszego kandydata, musimy sobie go wybrać sami\n",
    "# można oczywiście zmodyfikować ga_solve, tak aby wynikiem od razu było jedynie najlepsze rozwiązanie\n",
    "best_candidate = solutions[np.argmin(np.array([np.abs(f(s)) for s in solutions]))]\n",
    "\n",
    "print(\"Best candidate: \", best_candidate)\n",
    "print(\"Exact solution: \", exact)\n",
    "print(\"Difference between best and exact: \", np.abs(best_candidate - exact))\n",
    "print(\"Error (value of |f(best candidate)|): \", np.abs(f(best_candidate)))\n"
   ]
  },
  {
   "cell_type": "code",
   "execution_count": null,
   "id": "eb2d2b1b-5a5a-4db0-bd9f-c79d6989ba1e",
   "metadata": {},
   "outputs": [],
   "source": []
  },
  {
   "cell_type": "markdown",
   "id": "70ccc218-5d8e-4bb6-bb2b-b76e57a0f1a8",
   "metadata": {},
   "source": [
    "---\n",
    "# To samo za pomocą PyGAD"
   ]
  },
  {
   "cell_type": "code",
   "execution_count": null,
   "id": "02f034a3-9459-4c60-8323-fa75cc0a27d5",
   "metadata": {},
   "outputs": [],
   "source": [
    "# definiujemy parametry rozwiązania\n",
    "# geny to oznaczenia, który wierzchołek jest w zbiorze\n",
    "# 1 - należy do zbioru, 0 - nie należy do zbioru\n",
    "gene_space = [0, 1]\n",
    "\n",
    "def fitness_func(solution, solution_idx):\n",
    "    fitness = 0\n",
    "    # chromosom ma 24 geny\n",
    "    # dodajemy do listy wierzchołki o indeksach, na których solution ma 1\n",
    "    lista = []\n",
    "    for k in range(len(solution)):\n",
    "        if int(solution[k]) == 1:\n",
    "            lista.append(k)\n",
    "    # zmuszamy algorytm, by wybrał zbiór o największej liczbie wierzchołków\n",
    "    fitness += 2*len(lista) # im więcej wierzchołków tym lepiej\n",
    "    # sprawdzamy czy są połączenia między wierzchołkami w liście\n",
    "    for i in lista:\n",
    "        for j in lista:\n",
    "            if i != j:\n",
    "                if graf[i][j] == 1:\n",
    "                    fitness -= 3\n",
    "    return fitness\n",
    "\n",
    "fitness_function = fitness_func"
   ]
  },
  {
   "cell_type": "code",
   "execution_count": null,
   "id": "09584a3d-1c89-423f-8b43-2763eb1b4e03",
   "metadata": {},
   "outputs": [],
   "source": [
    "# ile chromosomów w populacji\n",
    "sol_per_pop = 100\n",
    "# ile genów ma chromosom\n",
    "num_genes = 24\n",
    "\n",
    "# ile wylaniamy rodziców do \"rozmnażania\" (okolo 50% populacji)\n",
    "num_parents_mating = 50\n",
    "# ile pokoleń\n",
    "num_generations = 30\n",
    "# ilu rodziców zachować (kilka procent)\n",
    "keep_parents = 2\n",
    "\n",
    "# jaki typ selekcji rodzicow?\n",
    "parent_selection_type = \"rank\"\n",
    "\n",
    "# w ilu punktach robic krzyzowanie?\n",
    "crossover_type = \"single_point\"\n",
    "\n",
    "# mutacja ma dzialac na ilu procent genów?\n",
    "mutation_type = \"random\"\n",
    "mutation_percent_genes = 5"
   ]
  },
  {
   "cell_type": "code",
   "execution_count": null,
   "id": "55432849-5f88-4135-bf7b-97af55ab36ef",
   "metadata": {},
   "outputs": [],
   "source": [
    "start = time.time()\n",
    "\n",
    "# inicjacja algorytmu z powyzszymi parametrami wpisanymi w atrybuty\n",
    "ga_instance = pygad.GA(\n",
    "    gene_space=gene_space,\n",
    "    num_generations=num_generations,\n",
    "    num_parents_mating=num_parents_mating,\n",
    "    fitness_func=fitness_function,\n",
    "    sol_per_pop=sol_per_pop,\n",
    "    num_genes=num_genes,\n",
    "    parent_selection_type=parent_selection_type,\n",
    "    keep_parents=keep_parents,\n",
    "    crossover_type=crossover_type,\n",
    "    mutation_type=mutation_type,\n",
    "    mutation_percent_genes=mutation_percent_genes,\n",
    "    #stop_criteria='reach_18' # możemy ustawić reach, jeśli wiemy ile wierzchołków ma maksymalny zbiór niezależny\n",
    ")\n",
    "\n",
    "# uruchomienie algorytmu\n",
    "ga_instance.run()\n",
    "\n",
    "end = time.time()\n",
    "czas = end - start\n",
    "print(\"Czas: \", czas)\n",
    "\n",
    "solution, solution_fitness, solution_idx = ga_instance.best_solution()"
   ]
  },
  {
   "cell_type": "code",
   "execution_count": null,
   "id": "d79e3a82-4c2f-4b82-90bd-57b941f8f768",
   "metadata": {},
   "outputs": [],
   "source": [
    "#ile pokoleń\n",
    "print(\"Number of generations passed is : {generations_completed}\".format(generations_completed=ga_instance.generations_completed))\n",
    "#podsumowanie: najlepsze znalezione rozwiazanie (ścieżka + ocena)\n",
    "solution, solution_fitness, solution_idx = ga_instance.best_solution()\n",
    "print(\"Parameters of the best solution : {solution}\".format(solution=solution))\n",
    "print(\"Fitness value of the best solution = {solution_fitness}\".format(solution_fitness=solution_fitness))"
   ]
  },
  {
   "cell_type": "code",
   "execution_count": null,
   "id": "1f76a276-c587-4836-a0bd-2af726cbfdc1",
   "metadata": {},
   "outputs": [],
   "source": [
    "# wyswietlenie wykresu: jak zmieniala sie ocena na przestrzeni pokoleń\n",
    "ga_instance.plot_fitness()"
   ]
  },
  {
   "cell_type": "code",
   "execution_count": null,
   "id": "ac18e460-18a4-495a-abe5-caac2d6ae91f",
   "metadata": {},
   "outputs": [],
   "source": []
  }
 ],
 "metadata": {
  "kernelspec": {
   "display_name": "Python 3 (ipykernel)",
   "language": "python",
   "name": "python3"
  },
  "language_info": {
   "codemirror_mode": {
    "name": "ipython",
    "version": 3
   },
   "file_extension": ".py",
   "mimetype": "text/x-python",
   "name": "python",
   "nbconvert_exporter": "python",
   "pygments_lexer": "ipython3",
   "version": "3.10.0"
  }
 },
 "nbformat": 4,
 "nbformat_minor": 5
}
