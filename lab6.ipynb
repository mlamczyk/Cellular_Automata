{
 "cells": [
  {
   "cell_type": "markdown",
   "id": "26e5430c-0443-44c8-950e-7085d3824c7f",
   "metadata": {},
   "source": [
    "# Stochastyczne Automaty Komórkowe"
   ]
  },
  {
   "cell_type": "markdown",
   "id": "4a5214d8-b009-4b13-bd39-263b970cbe49",
   "metadata": {},
   "source": [
    "## zad.12\n",
    "Na wykładzie został pokazany algorytm dekompozycji pLUT na sumę skończenie wielu LUTów. Powiedzieliśmy sobie również, że SCA i \n",
    "stochastyczne mikstury to de facto dokładnie to samo - tzn. można łatwo przejść z jednej na drugą reprezentację. \n",
    "\n",
    "Napisz dwie funkcje, które dokonują tych zamian:\\\n",
    "**plut_from_mixture**(probabilities, luts) - która zwraca pLUT na podstawie podanych prawdopodobieństw i LUTów,\\\n",
    "**mixture_from_plut**(plut) - która zwraca listę prawdopodobieństw i listę LUTów.\n",
    " \n",
    "Oczywiście musi zachodzić:\\\n",
    "**plut** == plut_from_mixture(mixture_from_plut(plut)).\n",
    "\n",
    "**plut_from_mixture**(probabilities, luts) -> plut\\\n",
    "Przykład. plut_from_mixture([0.7, 0.3], [ [1,0,1,0,1,0,1,0], [0,0,0,0,0,0,1,1] ]) -> [0.7, 0, 0.7, 0, 0.7, 0, 1, 0.3]\n",
    "\n",
    "**mixture_from_plut**(plut) -> probabilities, luts\n",
    "Przykład. mixture_from_plut([1, 0.9, 0.75, 0.4, 0.5,1, 0, 0.2]) -> [0.5, 0.25, 0.15, 0.05, 0.05], [[1,1,1,0,0,1,0,0], [1,1,0,1,1,1,0,0], [1,1,1,1,1,1,0,1], [1,0,1,0,1,1,0,0], [1,0,1,0,1,1,0,1]]\n",
    "\n",
    "**Wskazówka.**\\ \n",
    "Uważaj na \"stabilność numeryczną” albo inaczej niedokładność obliczeń.\\\n",
    "Na komputerze 0.1 + 0.2 nie zawsze równa się 0.3 i 0 to nie zawsze 0.\\\n",
    "Warto co jakiś czas wrzucić w pętli stare dobre print(x) żeby zobaczyć z czym mamy do czynienia."
   ]
  },
  {
   "cell_type": "code",
   "execution_count": null,
   "id": "8706c40f-6167-4e79-a791-c924e311a678",
   "metadata": {},
   "outputs": [],
   "source": []
  }
 ],
 "metadata": {
  "kernelspec": {
   "display_name": "Python 3 (ipykernel)",
   "language": "python",
   "name": "python3"
  },
  "language_info": {
   "codemirror_mode": {
    "name": "ipython",
    "version": 3
   },
   "file_extension": ".py",
   "mimetype": "text/x-python",
   "name": "python",
   "nbconvert_exporter": "python",
   "pygments_lexer": "ipython3",
   "version": "3.10.0"
  }
 },
 "nbformat": 4,
 "nbformat_minor": 5
}
