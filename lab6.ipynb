{
 "cells": [
  {
   "cell_type": "markdown",
   "id": "26e5430c-0443-44c8-950e-7085d3824c7f",
   "metadata": {},
   "source": [
    "# Stochastyczne Automaty Komórkowe"
   ]
  },
  {
   "cell_type": "markdown",
   "id": "e09bc053-de0c-404f-8a79-ee73feb62eb2",
   "metadata": {},
   "source": [
    "### Importy"
   ]
  },
  {
   "cell_type": "code",
   "execution_count": 1,
   "id": "f04dd574-8c17-4bc0-b920-a94be19e4443",
   "metadata": {},
   "outputs": [],
   "source": [
    "import math\n",
    "import random\n",
    "import numpy as np\n",
    "import pandas as pd\n",
    "import matplotlib.pyplot as plt"
   ]
  },
  {
   "cell_type": "markdown",
   "id": "4a5214d8-b009-4b13-bd39-263b970cbe49",
   "metadata": {},
   "source": [
    "## zad.12\n",
    "Wykład: https://github.com/houp/ca-class/blob/main/slides/lecture6.pdf\n",
    "\n",
    "Na wykładzie został pokazany algorytm dekompozycji pLUT na sumę skończenie wielu LUTów. Powiedzieliśmy sobie również, że SCA i \n",
    "stochastyczne mikstury to de facto dokładnie to samo - tzn. można łatwo przejść z jednej na drugą reprezentację. \n",
    "\n",
    "Napisz dwie funkcje, które dokonują tych zamian:\\\n",
    "**plut_from_mixture**(probabilities, luts) - która zwraca pLUT na podstawie podanych prawdopodobieństw i LUTów,\\\n",
    "**mixture_from_plut**(plut) - która zwraca listę prawdopodobieństw i listę LUTów.\n",
    " \n",
    "Oczywiście musi zachodzić:\\\n",
    "**plut** == plut_from_mixture(mixture_from_plut(plut)).\n",
    "\n",
    "**plut_from_mixture**(probabilities, luts) -> plut\\\n",
    "Przykład. plut_from_mixture([0.7, 0.3], [ [1,0,1,0,1,0,1,0], [0,0,0,0,0,0,1,1] ]) -> [0.7, 0, 0.7, 0, 0.7, 0, 1, 0.3]\n",
    "\n",
    "**mixture_from_plut**(plut) -> probabilities, luts\\\n",
    "Przykład. mixture_from_plut([1, 0.9, 0.75, 0.4, 0.5,1, 0, 0.2]) -> [0.5, 0.25, 0.15, 0.05, 0.05], [[1,1,1,0,0,1,0,0], [1,1,0,1,1,1,0,0], [1,1,1,1,1,1,0,1], [1,0,1,0,1,1,0,0], [1,0,1,0,1,1,0,1]]\n",
    "\n",
    "**Wskazówka.**\\\n",
    "Uważaj na \"stabilność numeryczną” albo inaczej niedokładność obliczeń.\\\n",
    "Na komputerze 0.1 + 0.2 nie zawsze równa się 0.3 i 0 to nie zawsze 0.\\\n",
    "Warto co jakiś czas wrzucić w pętli stare dobre print(x) żeby zobaczyć z czym mamy do czynienia."
   ]
  },
  {
   "cell_type": "code",
   "execution_count": 2,
   "id": "8706c40f-6167-4e79-a791-c924e311a678",
   "metadata": {},
   "outputs": [],
   "source": [
    "# wcześniejsze funkcje\n",
    "def eca_get_lut(rule_num: int) -> np.ndarray:\n",
    "    return np.array([int(x) for x in bin(rule_num)[2:].zfill(8)], dtype=np.uint8)\n",
    "\n",
    "def eca_evolve(lut: np.ndarray, x: np.ndarray) -> np.ndarray:\n",
    "    return lut[7 - (np.roll(x, 1) * 4 + x * 2 + np.roll(x, -1))]\n",
    "\n",
    "def eca_evolve_spacetime(lut: np.ndarray, initial_conf: np.ndarray, steps: int) -> np.ndarray:\n",
    "    rows = [initial_conf]\n",
    "    for _ in range(1, steps):\n",
    "        rows.append(eca_evolve(lut, rows[-1]))\n",
    "    return np.stack(rows)\n"
   ]
  },
  {
   "cell_type": "code",
   "execution_count": 3,
   "id": "a7a54d82-a6f8-44d1-a181-9d1101cfc8eb",
   "metadata": {},
   "outputs": [],
   "source": [
    "# implementacja sca z wykładu\n",
    "def sca_evolve(plut: np.ndarray, x: np.ndarray) -> np.ndarray:\n",
    "    probs = plut[7 - (np.roll(x, 1) * 4 + x * 2 + np.roll(x, -1))]\n",
    "    rnd = np.random.random(size=probs.shape)\n",
    "    return (rnd<probs).astype(np.int8)\n",
    "\n",
    "def sca_evolve_spacetime(plut: np.ndarray, initial_conf: np.ndarray, steps: int) -> np.ndarray:\n",
    "    rows = [initial_conf]\n",
    "    for _ in range(1, steps):\n",
    "        rows.append(sca_evolve(plut, rows[-1]))\n",
    "    return np.stack(rows)\n",
    "\n",
    "def sca_space_time(plut: np.ndarray, initial_conf: np.ndarray, steps: int):\n",
    "    spacetime = sca_evolve_spacetime(plut, initial_conf, steps)\n",
    "    plt.figure(figsize=(5, 5))\n",
    "    plt.imshow(spacetime, cmap='binary', interpolation='nearest')\n",
    "    plt.xticks([])\n",
    "    plt.yticks([])\n",
    "    plt.show()\n",
    "    "
   ]
  },
  {
   "cell_type": "code",
   "execution_count": 4,
   "id": "70a635bc-310b-43d9-9e8f-00cc8f8f41bb",
   "metadata": {},
   "outputs": [
    {
     "data": {
      "image/png": "[encoded data removed]",
      "text/plain": [
       "<Figure size 500x500 with 1 Axes>"
      ]
     },
     "metadata": {},
     "output_type": "display_data"
    }
   ],
   "source": [
    "plut = np.array([1, 0.9, 0.75, 0.4, 0.5, 1, 0, 0.2])\n",
    "sca_space_time(plut, np.array([0,0,0,0,0,0,0,0,0,0,0,0,1,0,0,0,0,0,0,0,0,0,0,0,0]), 50)"
   ]
  },
  {
   "cell_type": "markdown",
   "id": "4be4352e-2f92-4665-b2a6-acd8f480bf3c",
   "metadata": {},
   "source": [
    "### plut_from_mixture(probabilities, luts) -> plut"
   ]
  },
  {
   "cell_type": "code",
   "execution_count": 5,
   "id": "c65f4f9c-2bb5-4220-88c4-59755fed244b",
   "metadata": {},
   "outputs": [],
   "source": [
    "def plut_from_mixture(probabilities, luts):\n",
    "    probabilities = np.array(probabilities)\n",
    "    luts = np.array(luts)\n",
    "    plut = np.zeros(8)\n",
    "    for prob, lut in zip(probabilities, luts):\n",
    "        plut += prob * lut\n",
    "    return plut\n"
   ]
  },
  {
   "cell_type": "code",
   "execution_count": 6,
   "id": "56245b48-51fb-4cce-a349-3b2899c534fe",
   "metadata": {},
   "outputs": [],
   "source": [
    "luts = [eca_get_lut(170), eca_get_lut(3)]\n",
    "probabilities = [0.7, 0.3]"
   ]
  },
  {
   "cell_type": "code",
   "execution_count": 7,
   "id": "39730217-eff8-4708-8983-ecefb5651505",
   "metadata": {},
   "outputs": [
    {
     "data": {
      "text/plain": [
       "array([0.7, 0. , 0.7, 0. , 0.7, 0. , 1. , 0.3])"
      ]
     },
     "execution_count": 7,
     "metadata": {},
     "output_type": "execute_result"
    }
   ],
   "source": [
    "# plut_from_mixture([0.7, 0.3], [ [1,0,1,0,1,0,1,0], [0,0,0,0,0,0,1,1] ]) -> [0.7, 0, 0.7, 0, 0.7, 0, 1, 0.3]\n",
    "plut_from_mixture(luts, probabilities)"
   ]
  },
  {
   "cell_type": "markdown",
   "id": "0c289db7-7b02-4c05-9956-5732f668e5cf",
   "metadata": {},
   "source": [
    "### mixture_from_plut(plut) -> probabilities, luts"
   ]
  },
  {
   "cell_type": "code",
   "execution_count": 8,
   "id": "a77e4bbd-e109-4a1f-abc1-dbfd024e65b2",
   "metadata": {},
   "outputs": [],
   "source": [
    "def mixture_from_plut(plut):\n",
    "    probabilities = []\n",
    "    luts = []\n",
    "    pi = np.array([1-plut, plut])\n",
    "    while np.any(pi > 1e-15):\n",
    "        L = np.zeros_like(pi)\n",
    "        max_indices = np.argmax(pi, axis=0)\n",
    "        L[max_indices, np.arange(pi.shape[1])] = 1\n",
    "        a = np.min(pi[max_indices, np.arange(pi.shape[1])])\n",
    "        pi = pi - a*L\n",
    "        probabilities.append(round(a, 2))\n",
    "        luts.append(np.array(L[1]))\n",
    "    return probabilities, luts\n"
   ]
  },
  {
   "cell_type": "code",
   "execution_count": 9,
   "id": "2d5a390c-166e-4aa1-bac7-644fffc61e1a",
   "metadata": {},
   "outputs": [],
   "source": [
    "plut = np.array([1, 0.9, 0.75, 0.4, 0.5, 1, 0, 0.2])"
   ]
  },
  {
   "cell_type": "code",
   "execution_count": 10,
   "id": "9478246f-f8d5-4c1f-a94d-43038ea66538",
   "metadata": {},
   "outputs": [
    {
     "data": {
      "text/plain": [
       "([0.5, 0.25, 0.15, 0.05, 0.05],\n",
       " [array([1., 1., 1., 0., 0., 1., 0., 0.]),\n",
       "  array([1., 1., 0., 1., 1., 1., 0., 0.]),\n",
       "  array([1., 1., 1., 1., 1., 1., 0., 1.]),\n",
       "  array([1., 0., 1., 0., 1., 1., 0., 0.]),\n",
       "  array([1., 0., 1., 0., 1., 1., 0., 1.])])"
      ]
     },
     "execution_count": 10,
     "metadata": {},
     "output_type": "execute_result"
    }
   ],
   "source": [
    "# mixture_from_plut([1, 0.9, 0.75, 0.4, 0.5, 1, 0, 0.2]) -> [0.5, 0.25, 0.15, 0.05, 0.05],\n",
    "# [[1,1,1,0,0,1,0,0], [1,1,0,1,1,1,0,0], [1,1,1,1,1,1,0,1], [1,0,1,0,1,1,0,0], [1,0,1,0,1,1,0,1]]\n",
    "mixture_from_plut(plut)"
   ]
  },
  {
   "cell_type": "code",
   "execution_count": null,
   "id": "4d476ae6-b61a-44cb-b0bd-6ed36dd5268b",
   "metadata": {},
   "outputs": [],
   "source": []
  }
 ],
 "metadata": {
  "kernelspec": {
   "display_name": "Python 3 (ipykernel)",
   "language": "python",
   "name": "python3"
  },
  "language_info": {
   "codemirror_mode": {
    "name": "ipython",
    "version": 3
   },
   "file_extension": ".py",
   "mimetype": "text/x-python",
   "name": "python",
   "nbconvert_exporter": "python",
   "pygments_lexer": "ipython3",
   "version": "3.10.0"
  }
 },
 "nbformat": 4,
 "nbformat_minor": 5
}
